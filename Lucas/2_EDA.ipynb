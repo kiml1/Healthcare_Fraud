{
 "cells": [
  {
   "cell_type": "markdown",
   "metadata": {},
   "source": [
    "# Libraries"
   ]
  },
  {
   "cell_type": "code",
   "execution_count": 1,
   "metadata": {},
   "outputs": [],
   "source": [
    "# libraries\n",
    "import numpy as np\n",
    "import pandas as pd\n",
    "from pandas_profiling import ProfileReport\n",
    "from datetime import datetime\n",
    "from dateutil.relativedelta import relativedelta\n",
    "import matplotlib.pyplot as plt\n",
    "import plotly.graph_objects as go\n",
    "import pandas as pd\n",
    "from plotly.subplots import make_subplots\n",
    "import seaborn as sns\n",
    "\n",
    "pd.set_option('display.max_columns', 1000)\n",
    "pd.set_option('display.max_rows', 1000)\n",
    "\n",
    "import warnings\n",
    "warnings.filterwarnings(action=\"ignore\")"
   ]
  },
  {
   "cell_type": "markdown",
   "metadata": {},
   "source": [
    "# Data set"
   ]
  },
  {
   "cell_type": "code",
   "execution_count": 61,
   "metadata": {},
   "outputs": [
    {
     "data": {
      "text/plain": [
       "(558211, 55)"
      ]
     },
     "metadata": {},
     "output_type": "display_data"
    },
    {
     "data": {
      "text/html": [
       "<div>\n",
       "<style scoped>\n",
       "    .dataframe tbody tr th:only-of-type {\n",
       "        vertical-align: middle;\n",
       "    }\n",
       "\n",
       "    .dataframe tbody tr th {\n",
       "        vertical-align: top;\n",
       "    }\n",
       "\n",
       "    .dataframe thead th {\n",
       "        text-align: right;\n",
       "    }\n",
       "</style>\n",
       "<table border=\"1\" class=\"dataframe\">\n",
       "  <thead>\n",
       "    <tr style=\"text-align: right;\">\n",
       "      <th></th>\n",
       "      <th>BeneID</th>\n",
       "      <th>ClaimID</th>\n",
       "      <th>ClaimStartDt</th>\n",
       "      <th>ClaimEndDt</th>\n",
       "      <th>Provider</th>\n",
       "      <th>InscClaimAmtReimbursed</th>\n",
       "      <th>AttendingPhysician</th>\n",
       "      <th>OperatingPhysician</th>\n",
       "      <th>OtherPhysician</th>\n",
       "      <th>AdmissionDt</th>\n",
       "      <th>ClmAdmitDiagnosisCode</th>\n",
       "      <th>DeductibleAmtPaid</th>\n",
       "      <th>DischargeDt</th>\n",
       "      <th>DiagnosisGroupCode</th>\n",
       "      <th>ClmDiagnosisCode_1</th>\n",
       "      <th>ClmDiagnosisCode_2</th>\n",
       "      <th>ClmDiagnosisCode_3</th>\n",
       "      <th>ClmDiagnosisCode_4</th>\n",
       "      <th>ClmDiagnosisCode_5</th>\n",
       "      <th>ClmDiagnosisCode_6</th>\n",
       "      <th>ClmDiagnosisCode_7</th>\n",
       "      <th>ClmDiagnosisCode_8</th>\n",
       "      <th>ClmDiagnosisCode_9</th>\n",
       "      <th>ClmDiagnosisCode_10</th>\n",
       "      <th>ClmProcedureCode_1</th>\n",
       "      <th>ClmProcedureCode_2</th>\n",
       "      <th>ClmProcedureCode_3</th>\n",
       "      <th>ClmProcedureCode_4</th>\n",
       "      <th>ClmProcedureCode_5</th>\n",
       "      <th>ClmProcedureCode_6</th>\n",
       "      <th>DOB</th>\n",
       "      <th>DOD</th>\n",
       "      <th>Gender</th>\n",
       "      <th>Race</th>\n",
       "      <th>RenalDiseaseIndicator</th>\n",
       "      <th>State</th>\n",
       "      <th>County</th>\n",
       "      <th>NoOfMonths_PartACov</th>\n",
       "      <th>NoOfMonths_PartBCov</th>\n",
       "      <th>ChronicCond_Alzheimer</th>\n",
       "      <th>ChronicCond_Heartfailure</th>\n",
       "      <th>ChronicCond_KidneyDisease</th>\n",
       "      <th>ChronicCond_Cancer</th>\n",
       "      <th>ChronicCond_ObstrPulmonary</th>\n",
       "      <th>ChronicCond_Depression</th>\n",
       "      <th>ChronicCond_Diabetes</th>\n",
       "      <th>ChronicCond_IschemicHeart</th>\n",
       "      <th>ChronicCond_Osteoporasis</th>\n",
       "      <th>ChronicCond_rheumatoidarthritis</th>\n",
       "      <th>ChronicCond_stroke</th>\n",
       "      <th>IPAnnualReimbursementAmt</th>\n",
       "      <th>IPAnnualDeductibleAmt</th>\n",
       "      <th>OPAnnualReimbursementAmt</th>\n",
       "      <th>OPAnnualDeductibleAmt</th>\n",
       "      <th>PotentialFraud</th>\n",
       "    </tr>\n",
       "  </thead>\n",
       "  <tbody>\n",
       "    <tr>\n",
       "      <th>0</th>\n",
       "      <td>BENE11001</td>\n",
       "      <td>CLM46614</td>\n",
       "      <td>2009-04-12</td>\n",
       "      <td>2009-04-18</td>\n",
       "      <td>PRV55912</td>\n",
       "      <td>26000</td>\n",
       "      <td>PHY390922</td>\n",
       "      <td>NaN</td>\n",
       "      <td>NaN</td>\n",
       "      <td>2009-04-12</td>\n",
       "      <td>7866</td>\n",
       "      <td>1068.0</td>\n",
       "      <td>2009-04-18</td>\n",
       "      <td>201</td>\n",
       "      <td>1970</td>\n",
       "      <td>4019</td>\n",
       "      <td>5853</td>\n",
       "      <td>7843</td>\n",
       "      <td>2768</td>\n",
       "      <td>71590</td>\n",
       "      <td>2724</td>\n",
       "      <td>19889</td>\n",
       "      <td>5849</td>\n",
       "      <td>NaN</td>\n",
       "      <td>NaN</td>\n",
       "      <td>NaN</td>\n",
       "      <td>NaN</td>\n",
       "      <td>NaN</td>\n",
       "      <td>NaN</td>\n",
       "      <td>NaN</td>\n",
       "      <td>1943-01-01</td>\n",
       "      <td>NaN</td>\n",
       "      <td>1</td>\n",
       "      <td>1</td>\n",
       "      <td>0</td>\n",
       "      <td>39</td>\n",
       "      <td>230</td>\n",
       "      <td>12</td>\n",
       "      <td>12</td>\n",
       "      <td>1</td>\n",
       "      <td>2</td>\n",
       "      <td>1</td>\n",
       "      <td>2</td>\n",
       "      <td>2</td>\n",
       "      <td>1</td>\n",
       "      <td>1</td>\n",
       "      <td>1</td>\n",
       "      <td>2</td>\n",
       "      <td>1</td>\n",
       "      <td>1</td>\n",
       "      <td>36000</td>\n",
       "      <td>3204</td>\n",
       "      <td>60</td>\n",
       "      <td>70</td>\n",
       "      <td>Yes</td>\n",
       "    </tr>\n",
       "    <tr>\n",
       "      <th>1</th>\n",
       "      <td>BENE16973</td>\n",
       "      <td>CLM565430</td>\n",
       "      <td>2009-09-06</td>\n",
       "      <td>2009-09-06</td>\n",
       "      <td>PRV55912</td>\n",
       "      <td>50</td>\n",
       "      <td>PHY365867</td>\n",
       "      <td>PHY327147</td>\n",
       "      <td>NaN</td>\n",
       "      <td>NaN</td>\n",
       "      <td>NaN</td>\n",
       "      <td>0.0</td>\n",
       "      <td>NaN</td>\n",
       "      <td>NaN</td>\n",
       "      <td>V7183</td>\n",
       "      <td>53081</td>\n",
       "      <td>78959</td>\n",
       "      <td>4280</td>\n",
       "      <td>E8788</td>\n",
       "      <td>78079</td>\n",
       "      <td>79902</td>\n",
       "      <td>25002</td>\n",
       "      <td>71848</td>\n",
       "      <td>NaN</td>\n",
       "      <td>NaN</td>\n",
       "      <td>NaN</td>\n",
       "      <td>NaN</td>\n",
       "      <td>NaN</td>\n",
       "      <td>NaN</td>\n",
       "      <td>NaN</td>\n",
       "      <td>1932-05-01</td>\n",
       "      <td>NaN</td>\n",
       "      <td>1</td>\n",
       "      <td>1</td>\n",
       "      <td>0</td>\n",
       "      <td>39</td>\n",
       "      <td>310</td>\n",
       "      <td>12</td>\n",
       "      <td>12</td>\n",
       "      <td>1</td>\n",
       "      <td>1</td>\n",
       "      <td>1</td>\n",
       "      <td>2</td>\n",
       "      <td>2</td>\n",
       "      <td>2</td>\n",
       "      <td>2</td>\n",
       "      <td>1</td>\n",
       "      <td>2</td>\n",
       "      <td>2</td>\n",
       "      <td>2</td>\n",
       "      <td>24000</td>\n",
       "      <td>2136</td>\n",
       "      <td>450</td>\n",
       "      <td>200</td>\n",
       "      <td>Yes</td>\n",
       "    </tr>\n",
       "    <tr>\n",
       "      <th>2</th>\n",
       "      <td>BENE17521</td>\n",
       "      <td>CLM34721</td>\n",
       "      <td>2009-01-20</td>\n",
       "      <td>2009-02-01</td>\n",
       "      <td>PRV55912</td>\n",
       "      <td>19000</td>\n",
       "      <td>PHY349293</td>\n",
       "      <td>PHY370861</td>\n",
       "      <td>PHY363291</td>\n",
       "      <td>2009-01-20</td>\n",
       "      <td>45340</td>\n",
       "      <td>1068.0</td>\n",
       "      <td>2009-02-01</td>\n",
       "      <td>987</td>\n",
       "      <td>4240</td>\n",
       "      <td>2639</td>\n",
       "      <td>2948</td>\n",
       "      <td>40390</td>\n",
       "      <td>45821</td>\n",
       "      <td>28489</td>\n",
       "      <td>5854</td>\n",
       "      <td>2753</td>\n",
       "      <td>E9305</td>\n",
       "      <td>NaN</td>\n",
       "      <td>7769.0</td>\n",
       "      <td>5849.0</td>\n",
       "      <td>NaN</td>\n",
       "      <td>NaN</td>\n",
       "      <td>NaN</td>\n",
       "      <td>NaN</td>\n",
       "      <td>1913-12-01</td>\n",
       "      <td>NaN</td>\n",
       "      <td>2</td>\n",
       "      <td>1</td>\n",
       "      <td>0</td>\n",
       "      <td>39</td>\n",
       "      <td>230</td>\n",
       "      <td>12</td>\n",
       "      <td>12</td>\n",
       "      <td>1</td>\n",
       "      <td>1</td>\n",
       "      <td>1</td>\n",
       "      <td>2</td>\n",
       "      <td>1</td>\n",
       "      <td>2</td>\n",
       "      <td>2</td>\n",
       "      <td>1</td>\n",
       "      <td>2</td>\n",
       "      <td>2</td>\n",
       "      <td>2</td>\n",
       "      <td>19000</td>\n",
       "      <td>1068</td>\n",
       "      <td>100</td>\n",
       "      <td>20</td>\n",
       "      <td>Yes</td>\n",
       "    </tr>\n",
       "    <tr>\n",
       "      <th>3</th>\n",
       "      <td>BENE21718</td>\n",
       "      <td>CLM72336</td>\n",
       "      <td>2009-10-17</td>\n",
       "      <td>2009-11-04</td>\n",
       "      <td>PRV55912</td>\n",
       "      <td>17000</td>\n",
       "      <td>PHY334706</td>\n",
       "      <td>PHY334706</td>\n",
       "      <td>NaN</td>\n",
       "      <td>2009-10-17</td>\n",
       "      <td>V5789</td>\n",
       "      <td>1068.0</td>\n",
       "      <td>2009-11-04</td>\n",
       "      <td>941</td>\n",
       "      <td>V5789</td>\n",
       "      <td>4168</td>\n",
       "      <td>73313</td>\n",
       "      <td>7812</td>\n",
       "      <td>7993</td>\n",
       "      <td>78830</td>\n",
       "      <td>72273</td>\n",
       "      <td>43812</td>\n",
       "      <td>4019</td>\n",
       "      <td>NaN</td>\n",
       "      <td>9338.0</td>\n",
       "      <td>NaN</td>\n",
       "      <td>NaN</td>\n",
       "      <td>NaN</td>\n",
       "      <td>NaN</td>\n",
       "      <td>NaN</td>\n",
       "      <td>1922-10-01</td>\n",
       "      <td>NaN</td>\n",
       "      <td>1</td>\n",
       "      <td>1</td>\n",
       "      <td>0</td>\n",
       "      <td>39</td>\n",
       "      <td>600</td>\n",
       "      <td>12</td>\n",
       "      <td>12</td>\n",
       "      <td>2</td>\n",
       "      <td>2</td>\n",
       "      <td>2</td>\n",
       "      <td>2</td>\n",
       "      <td>2</td>\n",
       "      <td>2</td>\n",
       "      <td>2</td>\n",
       "      <td>1</td>\n",
       "      <td>1</td>\n",
       "      <td>2</td>\n",
       "      <td>2</td>\n",
       "      <td>17000</td>\n",
       "      <td>1068</td>\n",
       "      <td>1050</td>\n",
       "      <td>540</td>\n",
       "      <td>Yes</td>\n",
       "    </tr>\n",
       "    <tr>\n",
       "      <th>4</th>\n",
       "      <td>BENE22934</td>\n",
       "      <td>CLM73394</td>\n",
       "      <td>2009-10-25</td>\n",
       "      <td>2009-10-29</td>\n",
       "      <td>PRV55912</td>\n",
       "      <td>13000</td>\n",
       "      <td>PHY390614</td>\n",
       "      <td>PHY323689</td>\n",
       "      <td>PHY363291</td>\n",
       "      <td>2009-10-25</td>\n",
       "      <td>71946</td>\n",
       "      <td>1068.0</td>\n",
       "      <td>2009-10-29</td>\n",
       "      <td>506</td>\n",
       "      <td>71535</td>\n",
       "      <td>71960</td>\n",
       "      <td>4019</td>\n",
       "      <td>V1202</td>\n",
       "      <td>4240</td>\n",
       "      <td>2449</td>\n",
       "      <td>2768</td>\n",
       "      <td>NaN</td>\n",
       "      <td>NaN</td>\n",
       "      <td>NaN</td>\n",
       "      <td>8154.0</td>\n",
       "      <td>NaN</td>\n",
       "      <td>NaN</td>\n",
       "      <td>NaN</td>\n",
       "      <td>NaN</td>\n",
       "      <td>NaN</td>\n",
       "      <td>1930-07-01</td>\n",
       "      <td>NaN</td>\n",
       "      <td>2</td>\n",
       "      <td>1</td>\n",
       "      <td>0</td>\n",
       "      <td>39</td>\n",
       "      <td>280</td>\n",
       "      <td>12</td>\n",
       "      <td>12</td>\n",
       "      <td>2</td>\n",
       "      <td>1</td>\n",
       "      <td>2</td>\n",
       "      <td>2</td>\n",
       "      <td>1</td>\n",
       "      <td>2</td>\n",
       "      <td>1</td>\n",
       "      <td>1</td>\n",
       "      <td>1</td>\n",
       "      <td>1</td>\n",
       "      <td>2</td>\n",
       "      <td>27000</td>\n",
       "      <td>2136</td>\n",
       "      <td>450</td>\n",
       "      <td>160</td>\n",
       "      <td>Yes</td>\n",
       "    </tr>\n",
       "  </tbody>\n",
       "</table>\n",
       "</div>"
      ],
      "text/plain": [
       "      BeneID    ClaimID ClaimStartDt  ClaimEndDt  Provider  \\\n",
       "0  BENE11001   CLM46614   2009-04-12  2009-04-18  PRV55912   \n",
       "1  BENE16973  CLM565430   2009-09-06  2009-09-06  PRV55912   \n",
       "2  BENE17521   CLM34721   2009-01-20  2009-02-01  PRV55912   \n",
       "3  BENE21718   CLM72336   2009-10-17  2009-11-04  PRV55912   \n",
       "4  BENE22934   CLM73394   2009-10-25  2009-10-29  PRV55912   \n",
       "\n",
       "   InscClaimAmtReimbursed AttendingPhysician OperatingPhysician  \\\n",
       "0                   26000          PHY390922                NaN   \n",
       "1                      50          PHY365867          PHY327147   \n",
       "2                   19000          PHY349293          PHY370861   \n",
       "3                   17000          PHY334706          PHY334706   \n",
       "4                   13000          PHY390614          PHY323689   \n",
       "\n",
       "  OtherPhysician AdmissionDt ClmAdmitDiagnosisCode  DeductibleAmtPaid  \\\n",
       "0            NaN  2009-04-12                  7866             1068.0   \n",
       "1            NaN         NaN                   NaN                0.0   \n",
       "2      PHY363291  2009-01-20                 45340             1068.0   \n",
       "3            NaN  2009-10-17                 V5789             1068.0   \n",
       "4      PHY363291  2009-10-25                 71946             1068.0   \n",
       "\n",
       "  DischargeDt DiagnosisGroupCode ClmDiagnosisCode_1 ClmDiagnosisCode_2  \\\n",
       "0  2009-04-18                201               1970               4019   \n",
       "1         NaN                NaN              V7183              53081   \n",
       "2  2009-02-01                987               4240               2639   \n",
       "3  2009-11-04                941              V5789               4168   \n",
       "4  2009-10-29                506              71535              71960   \n",
       "\n",
       "  ClmDiagnosisCode_3 ClmDiagnosisCode_4 ClmDiagnosisCode_5 ClmDiagnosisCode_6  \\\n",
       "0               5853               7843               2768              71590   \n",
       "1              78959               4280              E8788              78079   \n",
       "2               2948              40390              45821              28489   \n",
       "3              73313               7812               7993              78830   \n",
       "4               4019              V1202               4240               2449   \n",
       "\n",
       "  ClmDiagnosisCode_7 ClmDiagnosisCode_8 ClmDiagnosisCode_9  \\\n",
       "0               2724              19889               5849   \n",
       "1              79902              25002              71848   \n",
       "2               5854               2753              E9305   \n",
       "3              72273              43812               4019   \n",
       "4               2768                NaN                NaN   \n",
       "\n",
       "  ClmDiagnosisCode_10  ClmProcedureCode_1  ClmProcedureCode_2  \\\n",
       "0                 NaN                 NaN                 NaN   \n",
       "1                 NaN                 NaN                 NaN   \n",
       "2                 NaN              7769.0              5849.0   \n",
       "3                 NaN              9338.0                 NaN   \n",
       "4                 NaN              8154.0                 NaN   \n",
       "\n",
       "   ClmProcedureCode_3  ClmProcedureCode_4  ClmProcedureCode_5  \\\n",
       "0                 NaN                 NaN                 NaN   \n",
       "1                 NaN                 NaN                 NaN   \n",
       "2                 NaN                 NaN                 NaN   \n",
       "3                 NaN                 NaN                 NaN   \n",
       "4                 NaN                 NaN                 NaN   \n",
       "\n",
       "   ClmProcedureCode_6         DOB  DOD  Gender  Race RenalDiseaseIndicator  \\\n",
       "0                 NaN  1943-01-01  NaN       1     1                     0   \n",
       "1                 NaN  1932-05-01  NaN       1     1                     0   \n",
       "2                 NaN  1913-12-01  NaN       2     1                     0   \n",
       "3                 NaN  1922-10-01  NaN       1     1                     0   \n",
       "4                 NaN  1930-07-01  NaN       2     1                     0   \n",
       "\n",
       "   State  County  NoOfMonths_PartACov  NoOfMonths_PartBCov  \\\n",
       "0     39     230                   12                   12   \n",
       "1     39     310                   12                   12   \n",
       "2     39     230                   12                   12   \n",
       "3     39     600                   12                   12   \n",
       "4     39     280                   12                   12   \n",
       "\n",
       "   ChronicCond_Alzheimer  ChronicCond_Heartfailure  ChronicCond_KidneyDisease  \\\n",
       "0                      1                         2                          1   \n",
       "1                      1                         1                          1   \n",
       "2                      1                         1                          1   \n",
       "3                      2                         2                          2   \n",
       "4                      2                         1                          2   \n",
       "\n",
       "   ChronicCond_Cancer  ChronicCond_ObstrPulmonary  ChronicCond_Depression  \\\n",
       "0                   2                           2                       1   \n",
       "1                   2                           2                       2   \n",
       "2                   2                           1                       2   \n",
       "3                   2                           2                       2   \n",
       "4                   2                           1                       2   \n",
       "\n",
       "   ChronicCond_Diabetes  ChronicCond_IschemicHeart  ChronicCond_Osteoporasis  \\\n",
       "0                     1                          1                         2   \n",
       "1                     2                          1                         2   \n",
       "2                     2                          1                         2   \n",
       "3                     2                          1                         1   \n",
       "4                     1                          1                         1   \n",
       "\n",
       "   ChronicCond_rheumatoidarthritis  ChronicCond_stroke  \\\n",
       "0                                1                   1   \n",
       "1                                2                   2   \n",
       "2                                2                   2   \n",
       "3                                2                   2   \n",
       "4                                1                   2   \n",
       "\n",
       "   IPAnnualReimbursementAmt  IPAnnualDeductibleAmt  OPAnnualReimbursementAmt  \\\n",
       "0                     36000                   3204                        60   \n",
       "1                     24000                   2136                       450   \n",
       "2                     19000                   1068                       100   \n",
       "3                     17000                   1068                      1050   \n",
       "4                     27000                   2136                       450   \n",
       "\n",
       "   OPAnnualDeductibleAmt PotentialFraud  \n",
       "0                     70            Yes  \n",
       "1                    200            Yes  \n",
       "2                     20            Yes  \n",
       "3                    540            Yes  \n",
       "4                    160            Yes  "
      ]
     },
     "execution_count": 61,
     "metadata": {},
     "output_type": "execute_result"
    }
   ],
   "source": [
    "# get dataset\n",
    "train = pd.read_csv(\"../data/train.csv\", low_memory=False)\n",
    "\n",
    "display(train.shape)\n",
    "train.head(5)"
   ]
  },
  {
   "cell_type": "code",
   "execution_count": 3,
   "metadata": {},
   "outputs": [],
   "source": [
    "# change string dates to date type\n",
    "train['ClaimStartDt'] = pd.to_datetime(train['ClaimStartDt'], format='%Y-%m-%d')\n",
    "train['ClaimEndDt'] = pd.to_datetime(train['ClaimEndDt'], format='%Y-%m-%d')\n",
    "train['AdmissionDt'] = pd.to_datetime(train['AdmissionDt'], format='%Y-%m-%d')\n",
    "train['DischargeDt'] = pd.to_datetime(train['DischargeDt'], format='%Y-%m-%d')\n",
    "train['DOB'] = pd.to_datetime(train['DOB'], format='%Y-%m-%d')"
   ]
  },
  {
   "cell_type": "markdown",
   "metadata": {},
   "source": [
    "# Profiling"
   ]
  },
  {
   "cell_type": "code",
   "execution_count": 4,
   "metadata": {},
   "outputs": [],
   "source": [
    "# profile = ProfileReport(train, title='Pandas Profiling Report', explorative=True)\n",
    "# profile.to_widgets()"
   ]
  },
  {
   "cell_type": "markdown",
   "metadata": {},
   "source": [
    "# EDA"
   ]
  },
  {
   "cell_type": "code",
   "execution_count": 5,
   "metadata": {},
   "outputs": [],
   "source": [
    "inpatient = train['AdmissionDt'].notnull()\n",
    "outpatient = train['AdmissionDt'].isna()\n",
    "\n",
    "fraudulent = train['PotentialFraud'].eq('Yes')\n",
    "genuine = train['PotentialFraud'].eq('No')"
   ]
  },
  {
   "cell_type": "markdown",
   "metadata": {},
   "source": [
    "<b> Count the number of medical doctors in the train outpatient and inpatient dataset"
   ]
  },
  {
   "cell_type": "code",
   "execution_count": 6,
   "metadata": {},
   "outputs": [
    {
     "name": "stdout",
     "output_type": "stream",
     "text": [
      "Number of total medical doctors:  82063\n",
      "--------------------------------------------------\n",
      "Number of AttendingPhysician in inpatient dataset:  11604\n",
      "Number of AttendingPhysician in outpatient dataset:  74109\n",
      "--------------------------------------------------\n",
      "Number of OperatingPhysician in inpatient dataset:  8287\n",
      "Number of OperatingPhysician in outpatient dataset:  28532\n",
      "--------------------------------------------------\n",
      "Number of OtherPhysician in inpatient dataset:  2877\n",
      "Number of OtherPhysician in outpatient dataset:  44388\n"
     ]
    }
   ],
   "source": [
    "print('Number of total medical doctors: ', \n",
    "      train['AttendingPhysician'].nunique())\n",
    "print('-'*50)\n",
    "\n",
    "print('Number of AttendingPhysician in inpatient dataset: ', \n",
    "      train[inpatient]['AttendingPhysician'].nunique())\n",
    "print('Number of AttendingPhysician in outpatient dataset: ', \n",
    "      train[outpatient]['AttendingPhysician'].nunique())\n",
    "print('-'*50)\n",
    "\n",
    "print('Number of OperatingPhysician in inpatient dataset: ', \n",
    "      train[inpatient]['OperatingPhysician'].nunique())\n",
    "print('Number of OperatingPhysician in outpatient dataset: ', \n",
    "      train[outpatient]['OperatingPhysician'].nunique())\n",
    "print('-'*50)\n",
    "\n",
    "print('Number of OtherPhysician in inpatient dataset: ', \n",
    "      train[inpatient]['OtherPhysician'].nunique())\n",
    "print('Number of OtherPhysician in outpatient dataset: ', \n",
    "      train[outpatient]['OtherPhysician'].nunique())"
   ]
  },
  {
   "cell_type": "markdown",
   "metadata": {},
   "source": [
    "<b>Analysing if inpatient claims with same physicians are more suitable to frauds."
   ]
  },
  {
   "cell_type": "code",
   "execution_count": 7,
   "metadata": {},
   "outputs": [
    {
     "data": {
      "image/png": "[encoded data removed]",
      "text/plain": [
       "<Figure size 1296x432 with 4 Axes>"
      ]
     },
     "metadata": {
      "needs_background": "light"
     },
     "output_type": "display_data"
    }
   ],
   "source": [
    "attendingOperating = train[inpatient][train['AttendingPhysician'] == train['OperatingPhysician']].groupby(\n",
    "    'PotentialFraud', as_index=False)['AttendingPhysician'].count()\n",
    "\n",
    "attendingOther = train[inpatient][train['AttendingPhysician'] == train['OtherPhysician']].groupby(\n",
    "    'PotentialFraud', as_index=False)['AttendingPhysician'].count()\n",
    "\n",
    "attendingOperatingOther = train[inpatient][(train['AttendingPhysician'] == train['OtherPhysician']) & \n",
    "                                          (train['AttendingPhysician'] == train['OtherPhysician'])].groupby(\n",
    "    'PotentialFraud', as_index=False)['AttendingPhysician'].count()\n",
    "\n",
    "operatingOther = train[inpatient][train['OperatingPhysician'] == train['OtherPhysician']].groupby(\n",
    "    'PotentialFraud', as_index=False)['OperatingPhysician'].count()\n",
    "\n",
    "\n",
    "\n",
    "fig, axs = plt.subplots(1, 4, figsize=(18,6))\n",
    "axs[0].bar(attendingOperating['PotentialFraud'], attendingOperating['AttendingPhysician']);\n",
    "axs[0].set_title('Fraudulent: Attending = Operating')\n",
    "axs[1].bar(attendingOther['PotentialFraud'], attendingOther['AttendingPhysician']);\n",
    "axs[1].set_title('Fraudulent: Attending = Other')\n",
    "axs[2].bar(attendingOperatingOther['PotentialFraud'], attendingOperatingOther['AttendingPhysician']);\n",
    "axs[2].set_title('Fraudulent: Attending = Operating = Other')\n",
    "axs[3].bar(operatingOther['PotentialFraud'], operatingOther['OperatingPhysician']);\n",
    "axs[3].set_title('Fraudulent: Operating = Other');"
   ]
  },
  {
   "cell_type": "markdown",
   "metadata": {},
   "source": [
    "It can be a good idea to add a feature engineering column for when the attending physician is the same as the opearting physician given that it seems to have a relation with fraud claims."
   ]
  },
  {
   "cell_type": "markdown",
   "metadata": {},
   "source": [
    "<b>Do those inpatient patients show worse health conditions (in terms of chronic diseases) than typical outpatient patients, or do those who have more visits to the providers have worse health conditions? Provide an analysis on these issues."
   ]
  },
  {
   "cell_type": "code",
   "execution_count": 8,
   "metadata": {},
   "outputs": [
    {
     "name": "stdout",
     "output_type": "stream",
     "text": [
      "Number of chronic conditions in inpatient dataset:  220969\n",
      "Number of chronic conditions in outpatient dataset:  3408175\n"
     ]
    }
   ],
   "source": [
    "print('Number of chronic conditions in inpatient dataset: ', \n",
    "      np.sum(train[train['AdmissionDt'].notnull()].filter(regex='ChronicCond').eq(2).sum()))\n",
    "print('Number of chronic conditions in outpatient dataset: ', \n",
    "      np.sum(train[train['AdmissionDt'].isna()].filter(regex='ChronicCond').eq(2).sum()))"
   ]
  },
  {
   "cell_type": "code",
   "execution_count": 9,
   "metadata": {},
   "outputs": [
    {
     "data": {
      "image/png": "[encoded data removed]",
      "text/plain": [
       "<Figure size 1440x576 with 1 Axes>"
      ]
     },
     "metadata": {
      "needs_background": "light"
     },
     "output_type": "display_data"
    }
   ],
   "source": [
    "inpatientChronicCount = train[inpatient].filter(regex='ChronicCond').eq(2).sum().reset_index()\n",
    "inpatientChronicCount['condition'] = inpatientChronicCount['index'].str.split('_').str[1]\n",
    "inpatientChronicCount['one'] = len(train[inpatient]) - inpatientChronicCount[0]\n",
    "\n",
    "\n",
    "# outpatientChronicCount = train[outpatient].filter(regex='ChronicCond').eq(2).sum().reset_index()\n",
    "# outpatientChronicCount['condition'] = outpatientChronicCount['index'].str.split('_').str[1]\n",
    "\n",
    "\n",
    "x = np.arange(len(inpatientChronicCount['condition']))  # the label locations\n",
    "width = 0.35  # the width of the bars\n",
    "\n",
    "fig, ax = plt.subplots(figsize=(20,8))\n",
    "rects1 = ax.bar(x - width/2, inpatientChronicCount[0], width, label='2')\n",
    "rects2 = ax.bar(x + width/2, inpatientChronicCount['one'], width, label='1')\n",
    "ax.set_xticks(x)\n",
    "ax.set_xticklabels(list(inpatientChronicCount['condition']))\n",
    "ax.legend()\n",
    "\n",
    "plt.show()"
   ]
  },
  {
   "cell_type": "markdown",
   "metadata": {},
   "source": [
    "<b>How many distinct patients (BeneIDs) are there in the in/out-patient datasets?"
   ]
  },
  {
   "cell_type": "code",
   "execution_count": 10,
   "metadata": {},
   "outputs": [
    {
     "name": "stdout",
     "output_type": "stream",
     "text": [
      "Number of distinct BeneIDs in inpatient dataset:  31289\n",
      "Number of distinct BeneIDs in outpatient dataset:  133980\n"
     ]
    }
   ],
   "source": [
    "print('Number of distinct BeneIDs in inpatient dataset: ', \n",
    "      train[inpatient]['BeneID'].nunique())\n",
    "print('Number of distinct BeneIDs in outpatient dataset: ', \n",
    "      train[outpatient]['BeneID'].nunique())"
   ]
  },
  {
   "cell_type": "markdown",
   "metadata": {},
   "source": [
    "<b> BeneID with the most fraud?"
   ]
  },
  {
   "cell_type": "code",
   "execution_count": 11,
   "metadata": {},
   "outputs": [
    {
     "data": {
      "text/html": [
       "<div>\n",
       "<style scoped>\n",
       "    .dataframe tbody tr th:only-of-type {\n",
       "        vertical-align: middle;\n",
       "    }\n",
       "\n",
       "    .dataframe tbody tr th {\n",
       "        vertical-align: top;\n",
       "    }\n",
       "\n",
       "    .dataframe thead th {\n",
       "        text-align: right;\n",
       "    }\n",
       "</style>\n",
       "<table border=\"1\" class=\"dataframe\">\n",
       "  <thead>\n",
       "    <tr style=\"text-align: right;\">\n",
       "      <th></th>\n",
       "      <th>BeneID</th>\n",
       "      <th>PotentialFraud</th>\n",
       "    </tr>\n",
       "  </thead>\n",
       "  <tbody>\n",
       "    <tr>\n",
       "      <th>10812</th>\n",
       "      <td>BENE118316</td>\n",
       "      <td>28</td>\n",
       "    </tr>\n",
       "    <tr>\n",
       "      <th>26429</th>\n",
       "      <td>BENE143400</td>\n",
       "      <td>27</td>\n",
       "    </tr>\n",
       "    <tr>\n",
       "      <th>15918</th>\n",
       "      <td>BENE126421</td>\n",
       "      <td>24</td>\n",
       "    </tr>\n",
       "    <tr>\n",
       "      <th>6454</th>\n",
       "      <td>BENE111306</td>\n",
       "      <td>23</td>\n",
       "    </tr>\n",
       "    <tr>\n",
       "      <th>60830</th>\n",
       "      <td>BENE59303</td>\n",
       "      <td>23</td>\n",
       "    </tr>\n",
       "    <tr>\n",
       "      <th>64729</th>\n",
       "      <td>BENE66093</td>\n",
       "      <td>23</td>\n",
       "    </tr>\n",
       "    <tr>\n",
       "      <th>18147</th>\n",
       "      <td>BENE130030</td>\n",
       "      <td>22</td>\n",
       "    </tr>\n",
       "    <tr>\n",
       "      <th>48883</th>\n",
       "      <td>BENE38076</td>\n",
       "      <td>22</td>\n",
       "    </tr>\n",
       "    <tr>\n",
       "      <th>53425</th>\n",
       "      <td>BENE46215</td>\n",
       "      <td>22</td>\n",
       "    </tr>\n",
       "    <tr>\n",
       "      <th>55763</th>\n",
       "      <td>BENE50335</td>\n",
       "      <td>22</td>\n",
       "    </tr>\n",
       "  </tbody>\n",
       "</table>\n",
       "</div>"
      ],
      "text/plain": [
       "           BeneID  PotentialFraud\n",
       "10812  BENE118316              28\n",
       "26429  BENE143400              27\n",
       "15918  BENE126421              24\n",
       "6454   BENE111306              23\n",
       "60830   BENE59303              23\n",
       "64729   BENE66093              23\n",
       "18147  BENE130030              22\n",
       "48883   BENE38076              22\n",
       "53425   BENE46215              22\n",
       "55763   BENE50335              22"
      ]
     },
     "execution_count": 11,
     "metadata": {},
     "output_type": "execute_result"
    }
   ],
   "source": [
    "pd.DataFrame(train[fraudulent].groupby(\n",
    "    ['BeneID'], as_index=False)['PotentialFraud'].count()).nlargest(10, 'PotentialFraud')"
   ]
  },
  {
   "cell_type": "markdown",
   "metadata": {},
   "source": [
    "<b>Do doctors serve for different providers? Study the distribution of hospital counts/doctor? Is it possible to characterize those doctors who move around among different providers?"
   ]
  },
  {
   "cell_type": "code",
   "execution_count": 12,
   "metadata": {},
   "outputs": [
    {
     "data": {
      "text/plain": [
       "PRV52019    643\n",
       "PRV55215    544\n",
       "PRV55510    418\n",
       "PRV57173    303\n",
       "PRV56268    299\n",
       "           ... \n",
       "PRV53659      1\n",
       "PRV53090      1\n",
       "PRV52238      1\n",
       "PRV55340      1\n",
       "PRV52525      1\n",
       "Name: Provider, Length: 5019, dtype: int64"
      ]
     },
     "execution_count": 12,
     "metadata": {},
     "output_type": "execute_result"
    }
   ],
   "source": [
    "train[['AttendingPhysician','Provider']].drop_duplicates(subset=['AttendingPhysician'])['Provider'].value_counts()"
   ]
  },
  {
   "cell_type": "code",
   "execution_count": null,
   "metadata": {},
   "outputs": [],
   "source": []
  },
  {
   "cell_type": "markdown",
   "metadata": {},
   "source": [
    "<b>Do patients go to different hospitals? Study the distribution of hospital counts/patient? It is possible to characterize those patients who receive services from a lot of different hospitals?"
   ]
  },
  {
   "cell_type": "code",
   "execution_count": 13,
   "metadata": {},
   "outputs": [
    {
     "data": {
      "text/plain": [
       "PRV55215    2580\n",
       "PRV51459    2153\n",
       "PRV53797    1654\n",
       "PRV52649    1395\n",
       "PRV53918    1340\n",
       "            ... \n",
       "PRV55051       1\n",
       "PRV51988       1\n",
       "PRV55808       1\n",
       "PRV54471       1\n",
       "PRV51888       1\n",
       "Name: Provider, Length: 4223, dtype: int64"
      ]
     },
     "execution_count": 13,
     "metadata": {},
     "output_type": "execute_result"
    }
   ],
   "source": [
    "train[['BeneID','Provider']].drop_duplicates(subset=['BeneID'])['Provider'].value_counts()"
   ]
  },
  {
   "cell_type": "markdown",
   "metadata": {},
   "source": [
    "Do the same providers provide both inpatient and outpatient services? Summarize your finding."
   ]
  },
  {
   "cell_type": "code",
   "execution_count": null,
   "metadata": {},
   "outputs": [],
   "source": []
  },
  {
   "cell_type": "markdown",
   "metadata": {},
   "source": [
    "Do some of the same patients receive both inpatient and outpatient services? Summarize your finding."
   ]
  },
  {
   "cell_type": "code",
   "execution_count": null,
   "metadata": {},
   "outputs": [],
   "source": []
  },
  {
   "cell_type": "markdown",
   "metadata": {},
   "source": [
    "------------------------------------------------"
   ]
  },
  {
   "cell_type": "markdown",
   "metadata": {},
   "source": [
    "Study the relationship between the patient ages (at the time of their service) and the counts of medical claims."
   ]
  },
  {
   "cell_type": "code",
   "execution_count": 14,
   "metadata": {},
   "outputs": [],
   "source": [
    "# adding a column representing the age at the time of service\n",
    "def f(df):\n",
    "    age = relativedelta(df['ClaimStartDt'], df['DOB']) \n",
    "    return age.years\n",
    "\n",
    "train['ageAtClaim'] = train.apply(f, axis=1)"
   ]
  },
  {
   "cell_type": "code",
   "execution_count": 15,
   "metadata": {
    "scrolled": false
   },
   "outputs": [
    {
     "data": {
      "image/png": "[encoded data removed]",
      "text/plain": [
       "<Figure size 432x288 with 1 Axes>"
      ]
     },
     "metadata": {
      "needs_background": "light"
     },
     "output_type": "display_data"
    }
   ],
   "source": [
    "plt.plot(train.groupby(['ageAtClaim'])['ageAtClaim'].count());"
   ]
  },
  {
   "cell_type": "markdown",
   "metadata": {},
   "source": [
    "Study the relationship between the patient age and their chronic conditions. Within the train-samples, do these chronic conditions show a definite trend with respect to increasing ages?"
   ]
  },
  {
   "cell_type": "code",
   "execution_count": 16,
   "metadata": {
    "scrolled": true
   },
   "outputs": [
    {
     "data": {
      "text/html": [
       "<div>\n",
       "<style scoped>\n",
       "    .dataframe tbody tr th:only-of-type {\n",
       "        vertical-align: middle;\n",
       "    }\n",
       "\n",
       "    .dataframe tbody tr th {\n",
       "        vertical-align: top;\n",
       "    }\n",
       "\n",
       "    .dataframe thead th {\n",
       "        text-align: right;\n",
       "    }\n",
       "</style>\n",
       "<table border=\"1\" class=\"dataframe\">\n",
       "  <thead>\n",
       "    <tr style=\"text-align: right;\">\n",
       "      <th></th>\n",
       "      <th>ChronicCond_Alzheimer</th>\n",
       "    </tr>\n",
       "    <tr>\n",
       "      <th>ageAtClaim</th>\n",
       "      <th></th>\n",
       "    </tr>\n",
       "  </thead>\n",
       "  <tbody>\n",
       "    <tr>\n",
       "      <th>25</th>\n",
       "      <td>332</td>\n",
       "    </tr>\n",
       "    <tr>\n",
       "      <th>26</th>\n",
       "      <td>687</td>\n",
       "    </tr>\n",
       "    <tr>\n",
       "      <th>27</th>\n",
       "      <td>794</td>\n",
       "    </tr>\n",
       "    <tr>\n",
       "      <th>28</th>\n",
       "      <td>900</td>\n",
       "    </tr>\n",
       "    <tr>\n",
       "      <th>29</th>\n",
       "      <td>772</td>\n",
       "    </tr>\n",
       "    <tr>\n",
       "      <th>30</th>\n",
       "      <td>676</td>\n",
       "    </tr>\n",
       "    <tr>\n",
       "      <th>31</th>\n",
       "      <td>692</td>\n",
       "    </tr>\n",
       "    <tr>\n",
       "      <th>32</th>\n",
       "      <td>886</td>\n",
       "    </tr>\n",
       "    <tr>\n",
       "      <th>33</th>\n",
       "      <td>962</td>\n",
       "    </tr>\n",
       "    <tr>\n",
       "      <th>34</th>\n",
       "      <td>842</td>\n",
       "    </tr>\n",
       "    <tr>\n",
       "      <th>35</th>\n",
       "      <td>1050</td>\n",
       "    </tr>\n",
       "    <tr>\n",
       "      <th>36</th>\n",
       "      <td>1420</td>\n",
       "    </tr>\n",
       "    <tr>\n",
       "      <th>37</th>\n",
       "      <td>1514</td>\n",
       "    </tr>\n",
       "    <tr>\n",
       "      <th>38</th>\n",
       "      <td>1447</td>\n",
       "    </tr>\n",
       "    <tr>\n",
       "      <th>39</th>\n",
       "      <td>1491</td>\n",
       "    </tr>\n",
       "    <tr>\n",
       "      <th>40</th>\n",
       "      <td>1611</td>\n",
       "    </tr>\n",
       "    <tr>\n",
       "      <th>41</th>\n",
       "      <td>1433</td>\n",
       "    </tr>\n",
       "    <tr>\n",
       "      <th>42</th>\n",
       "      <td>1458</td>\n",
       "    </tr>\n",
       "    <tr>\n",
       "      <th>43</th>\n",
       "      <td>1469</td>\n",
       "    </tr>\n",
       "    <tr>\n",
       "      <th>44</th>\n",
       "      <td>1482</td>\n",
       "    </tr>\n",
       "    <tr>\n",
       "      <th>45</th>\n",
       "      <td>2269</td>\n",
       "    </tr>\n",
       "    <tr>\n",
       "      <th>46</th>\n",
       "      <td>3165</td>\n",
       "    </tr>\n",
       "    <tr>\n",
       "      <th>47</th>\n",
       "      <td>2931</td>\n",
       "    </tr>\n",
       "    <tr>\n",
       "      <th>48</th>\n",
       "      <td>2963</td>\n",
       "    </tr>\n",
       "    <tr>\n",
       "      <th>49</th>\n",
       "      <td>3041</td>\n",
       "    </tr>\n",
       "    <tr>\n",
       "      <th>50</th>\n",
       "      <td>2977</td>\n",
       "    </tr>\n",
       "    <tr>\n",
       "      <th>51</th>\n",
       "      <td>2993</td>\n",
       "    </tr>\n",
       "    <tr>\n",
       "      <th>52</th>\n",
       "      <td>3275</td>\n",
       "    </tr>\n",
       "    <tr>\n",
       "      <th>53</th>\n",
       "      <td>3199</td>\n",
       "    </tr>\n",
       "    <tr>\n",
       "      <th>54</th>\n",
       "      <td>3075</td>\n",
       "    </tr>\n",
       "    <tr>\n",
       "      <th>55</th>\n",
       "      <td>3321</td>\n",
       "    </tr>\n",
       "    <tr>\n",
       "      <th>56</th>\n",
       "      <td>4272</td>\n",
       "    </tr>\n",
       "    <tr>\n",
       "      <th>57</th>\n",
       "      <td>4346</td>\n",
       "    </tr>\n",
       "    <tr>\n",
       "      <th>58</th>\n",
       "      <td>4127</td>\n",
       "    </tr>\n",
       "    <tr>\n",
       "      <th>59</th>\n",
       "      <td>4505</td>\n",
       "    </tr>\n",
       "    <tr>\n",
       "      <th>60</th>\n",
       "      <td>4374</td>\n",
       "    </tr>\n",
       "    <tr>\n",
       "      <th>61</th>\n",
       "      <td>4260</td>\n",
       "    </tr>\n",
       "    <tr>\n",
       "      <th>62</th>\n",
       "      <td>4094</td>\n",
       "    </tr>\n",
       "    <tr>\n",
       "      <th>63</th>\n",
       "      <td>4346</td>\n",
       "    </tr>\n",
       "    <tr>\n",
       "      <th>64</th>\n",
       "      <td>4152</td>\n",
       "    </tr>\n",
       "    <tr>\n",
       "      <th>65</th>\n",
       "      <td>12870</td>\n",
       "    </tr>\n",
       "    <tr>\n",
       "      <th>66</th>\n",
       "      <td>21205</td>\n",
       "    </tr>\n",
       "    <tr>\n",
       "      <th>67</th>\n",
       "      <td>21937</td>\n",
       "    </tr>\n",
       "    <tr>\n",
       "      <th>68</th>\n",
       "      <td>21588</td>\n",
       "    </tr>\n",
       "    <tr>\n",
       "      <th>69</th>\n",
       "      <td>21632</td>\n",
       "    </tr>\n",
       "    <tr>\n",
       "      <th>70</th>\n",
       "      <td>21496</td>\n",
       "    </tr>\n",
       "    <tr>\n",
       "      <th>71</th>\n",
       "      <td>20095</td>\n",
       "    </tr>\n",
       "    <tr>\n",
       "      <th>72</th>\n",
       "      <td>20260</td>\n",
       "    </tr>\n",
       "    <tr>\n",
       "      <th>73</th>\n",
       "      <td>20281</td>\n",
       "    </tr>\n",
       "    <tr>\n",
       "      <th>74</th>\n",
       "      <td>20297</td>\n",
       "    </tr>\n",
       "    <tr>\n",
       "      <th>75</th>\n",
       "      <td>19316</td>\n",
       "    </tr>\n",
       "    <tr>\n",
       "      <th>76</th>\n",
       "      <td>17968</td>\n",
       "    </tr>\n",
       "    <tr>\n",
       "      <th>77</th>\n",
       "      <td>18193</td>\n",
       "    </tr>\n",
       "    <tr>\n",
       "      <th>78</th>\n",
       "      <td>17777</td>\n",
       "    </tr>\n",
       "    <tr>\n",
       "      <th>79</th>\n",
       "      <td>17715</td>\n",
       "    </tr>\n",
       "    <tr>\n",
       "      <th>80</th>\n",
       "      <td>17215</td>\n",
       "    </tr>\n",
       "    <tr>\n",
       "      <th>81</th>\n",
       "      <td>15958</td>\n",
       "    </tr>\n",
       "    <tr>\n",
       "      <th>82</th>\n",
       "      <td>15736</td>\n",
       "    </tr>\n",
       "    <tr>\n",
       "      <th>83</th>\n",
       "      <td>15714</td>\n",
       "    </tr>\n",
       "    <tr>\n",
       "      <th>84</th>\n",
       "      <td>15491</td>\n",
       "    </tr>\n",
       "    <tr>\n",
       "      <th>85</th>\n",
       "      <td>13052</td>\n",
       "    </tr>\n",
       "    <tr>\n",
       "      <th>86</th>\n",
       "      <td>10040</td>\n",
       "    </tr>\n",
       "    <tr>\n",
       "      <th>87</th>\n",
       "      <td>10584</td>\n",
       "    </tr>\n",
       "    <tr>\n",
       "      <th>88</th>\n",
       "      <td>10498</td>\n",
       "    </tr>\n",
       "    <tr>\n",
       "      <th>89</th>\n",
       "      <td>10461</td>\n",
       "    </tr>\n",
       "    <tr>\n",
       "      <th>90</th>\n",
       "      <td>6900</td>\n",
       "    </tr>\n",
       "    <tr>\n",
       "      <th>91</th>\n",
       "      <td>3091</td>\n",
       "    </tr>\n",
       "    <tr>\n",
       "      <th>92</th>\n",
       "      <td>2977</td>\n",
       "    </tr>\n",
       "    <tr>\n",
       "      <th>93</th>\n",
       "      <td>3258</td>\n",
       "    </tr>\n",
       "    <tr>\n",
       "      <th>94</th>\n",
       "      <td>3130</td>\n",
       "    </tr>\n",
       "    <tr>\n",
       "      <th>95</th>\n",
       "      <td>3079</td>\n",
       "    </tr>\n",
       "    <tr>\n",
       "      <th>96</th>\n",
       "      <td>3402</td>\n",
       "    </tr>\n",
       "    <tr>\n",
       "      <th>97</th>\n",
       "      <td>3172</td>\n",
       "    </tr>\n",
       "    <tr>\n",
       "      <th>98</th>\n",
       "      <td>3210</td>\n",
       "    </tr>\n",
       "    <tr>\n",
       "      <th>99</th>\n",
       "      <td>3279</td>\n",
       "    </tr>\n",
       "    <tr>\n",
       "      <th>100</th>\n",
       "      <td>1731</td>\n",
       "    </tr>\n",
       "  </tbody>\n",
       "</table>\n",
       "</div>"
      ],
      "text/plain": [
       "            ChronicCond_Alzheimer\n",
       "ageAtClaim                       \n",
       "25                            332\n",
       "26                            687\n",
       "27                            794\n",
       "28                            900\n",
       "29                            772\n",
       "30                            676\n",
       "31                            692\n",
       "32                            886\n",
       "33                            962\n",
       "34                            842\n",
       "35                           1050\n",
       "36                           1420\n",
       "37                           1514\n",
       "38                           1447\n",
       "39                           1491\n",
       "40                           1611\n",
       "41                           1433\n",
       "42                           1458\n",
       "43                           1469\n",
       "44                           1482\n",
       "45                           2269\n",
       "46                           3165\n",
       "47                           2931\n",
       "48                           2963\n",
       "49                           3041\n",
       "50                           2977\n",
       "51                           2993\n",
       "52                           3275\n",
       "53                           3199\n",
       "54                           3075\n",
       "55                           3321\n",
       "56                           4272\n",
       "57                           4346\n",
       "58                           4127\n",
       "59                           4505\n",
       "60                           4374\n",
       "61                           4260\n",
       "62                           4094\n",
       "63                           4346\n",
       "64                           4152\n",
       "65                          12870\n",
       "66                          21205\n",
       "67                          21937\n",
       "68                          21588\n",
       "69                          21632\n",
       "70                          21496\n",
       "71                          20095\n",
       "72                          20260\n",
       "73                          20281\n",
       "74                          20297\n",
       "75                          19316\n",
       "76                          17968\n",
       "77                          18193\n",
       "78                          17777\n",
       "79                          17715\n",
       "80                          17215\n",
       "81                          15958\n",
       "82                          15736\n",
       "83                          15714\n",
       "84                          15491\n",
       "85                          13052\n",
       "86                          10040\n",
       "87                          10584\n",
       "88                          10498\n",
       "89                          10461\n",
       "90                           6900\n",
       "91                           3091\n",
       "92                           2977\n",
       "93                           3258\n",
       "94                           3130\n",
       "95                           3079\n",
       "96                           3402\n",
       "97                           3172\n",
       "98                           3210\n",
       "99                           3279\n",
       "100                          1731"
      ]
     },
     "execution_count": 16,
     "metadata": {},
     "output_type": "execute_result"
    }
   ],
   "source": [
    "train[['ChronicCond_Alzheimer', 'ageAtClaim']].groupby(['ageAtClaim']).count()"
   ]
  },
  {
   "cell_type": "markdown",
   "metadata": {},
   "source": [
    "In order to make sure the insurance premiums can cover the claims, the insurance company would need to categorize the patients according to their resource usage. In answering the question that what types of patients would make more outpatient visits, please provide your finding."
   ]
  },
  {
   "cell_type": "code",
   "execution_count": 17,
   "metadata": {},
   "outputs": [
    {
     "data": {
      "text/plain": [
       "BeneID\n",
       "BENE100000     120\n",
       "BENE100001    1430\n",
       "BENE100002    1700\n",
       "BENE100003     300\n",
       "BENE100004     380\n",
       "              ... \n",
       "BENE99994     1330\n",
       "BENE99995      800\n",
       "BENE99997     1470\n",
       "BENE99998     1600\n",
       "BENE99999     1000\n",
       "Name: InscClaimAmtReimbursed, Length: 133980, dtype: int64"
      ]
     },
     "execution_count": 17,
     "metadata": {},
     "output_type": "execute_result"
    }
   ],
   "source": [
    "train[outpatient].groupby(['BeneID'])['InscClaimAmtReimbursed'].sum()"
   ]
  },
  {
   "cell_type": "markdown",
   "metadata": {},
   "source": [
    "In answering what types of patients would make more inpatient service claims, please provide your findings."
   ]
  },
  {
   "cell_type": "code",
   "execution_count": 18,
   "metadata": {},
   "outputs": [
    {
     "data": {
      "text/plain": [
       "BeneID\n",
       "BENE100002    12000\n",
       "BENE100004     3000\n",
       "BENE100006    17000\n",
       "BENE100007     4000\n",
       "BENE100010    12000\n",
       "              ...  \n",
       "BENE99965      7000\n",
       "BENE99974     11000\n",
       "BENE99976     14000\n",
       "BENE99984      3000\n",
       "BENE99995     19000\n",
       "Name: InscClaimAmtReimbursed, Length: 31289, dtype: int64"
      ]
     },
     "execution_count": 18,
     "metadata": {},
     "output_type": "execute_result"
    }
   ],
   "source": [
    "train[inpatient].groupby(['BeneID'])['InscClaimAmtReimbursed'].sum()"
   ]
  },
  {
   "cell_type": "markdown",
   "metadata": {},
   "source": [
    "From the prospect of the insurance company, the reimbursed amounts are their coverage on the claims. Please analyze the patterns of the total reimbursed amounts (or average reimbursed amounts/visit) vs different types of patients."
   ]
  },
  {
   "cell_type": "code",
   "execution_count": 19,
   "metadata": {},
   "outputs": [
    {
     "data": {
      "text/html": [
       "<div>\n",
       "<style scoped>\n",
       "    .dataframe tbody tr th:only-of-type {\n",
       "        vertical-align: middle;\n",
       "    }\n",
       "\n",
       "    .dataframe tbody tr th {\n",
       "        vertical-align: top;\n",
       "    }\n",
       "\n",
       "    .dataframe thead th {\n",
       "        text-align: right;\n",
       "    }\n",
       "</style>\n",
       "<table border=\"1\" class=\"dataframe\">\n",
       "  <thead>\n",
       "    <tr style=\"text-align: right;\">\n",
       "      <th></th>\n",
       "      <th>TotalReimbursed</th>\n",
       "      <th>ClaimCount</th>\n",
       "    </tr>\n",
       "    <tr>\n",
       "      <th>BeneID</th>\n",
       "      <th></th>\n",
       "      <th></th>\n",
       "    </tr>\n",
       "  </thead>\n",
       "  <tbody>\n",
       "    <tr>\n",
       "      <th>BENE100000</th>\n",
       "      <td>120</td>\n",
       "      <td>2</td>\n",
       "    </tr>\n",
       "    <tr>\n",
       "      <th>BENE100001</th>\n",
       "      <td>1430</td>\n",
       "      <td>10</td>\n",
       "    </tr>\n",
       "    <tr>\n",
       "      <th>BENE100002</th>\n",
       "      <td>13700</td>\n",
       "      <td>14</td>\n",
       "    </tr>\n",
       "    <tr>\n",
       "      <th>BENE100003</th>\n",
       "      <td>300</td>\n",
       "      <td>1</td>\n",
       "    </tr>\n",
       "    <tr>\n",
       "      <th>BENE100004</th>\n",
       "      <td>3380</td>\n",
       "      <td>6</td>\n",
       "    </tr>\n",
       "    <tr>\n",
       "      <th>...</th>\n",
       "      <td>...</td>\n",
       "      <td>...</td>\n",
       "    </tr>\n",
       "    <tr>\n",
       "      <th>BENE99994</th>\n",
       "      <td>1330</td>\n",
       "      <td>7</td>\n",
       "    </tr>\n",
       "    <tr>\n",
       "      <th>BENE99995</th>\n",
       "      <td>19800</td>\n",
       "      <td>2</td>\n",
       "    </tr>\n",
       "    <tr>\n",
       "      <th>BENE99997</th>\n",
       "      <td>1470</td>\n",
       "      <td>7</td>\n",
       "    </tr>\n",
       "    <tr>\n",
       "      <th>BENE99998</th>\n",
       "      <td>1600</td>\n",
       "      <td>3</td>\n",
       "    </tr>\n",
       "    <tr>\n",
       "      <th>BENE99999</th>\n",
       "      <td>1000</td>\n",
       "      <td>6</td>\n",
       "    </tr>\n",
       "  </tbody>\n",
       "</table>\n",
       "<p>138556 rows × 2 columns</p>\n",
       "</div>"
      ],
      "text/plain": [
       "            TotalReimbursed  ClaimCount\n",
       "BeneID                                 \n",
       "BENE100000              120           2\n",
       "BENE100001             1430          10\n",
       "BENE100002            13700          14\n",
       "BENE100003              300           1\n",
       "BENE100004             3380           6\n",
       "...                     ...         ...\n",
       "BENE99994              1330           7\n",
       "BENE99995             19800           2\n",
       "BENE99997              1470           7\n",
       "BENE99998              1600           3\n",
       "BENE99999              1000           6\n",
       "\n",
       "[138556 rows x 2 columns]"
      ]
     },
     "execution_count": 19,
     "metadata": {},
     "output_type": "execute_result"
    }
   ],
   "source": [
    "train.groupby('BeneID').agg(TotalReimbursed=('InscClaimAmtReimbursed', 'sum'), ClaimCount=('BeneID', 'count'))"
   ]
  },
  {
   "cell_type": "markdown",
   "metadata": {},
   "source": [
    "From the prospect of the providers, the sum of reimbursed amounts and deductibles are flowing to the providers. Based on this, analyze which types of patients contribute more to the providers in terms of the aggregate charges or the average charge per visit."
   ]
  },
  {
   "cell_type": "code",
   "execution_count": 20,
   "metadata": {},
   "outputs": [
    {
     "data": {
      "text/html": [
       "<div>\n",
       "<style scoped>\n",
       "    .dataframe tbody tr th:only-of-type {\n",
       "        vertical-align: middle;\n",
       "    }\n",
       "\n",
       "    .dataframe tbody tr th {\n",
       "        vertical-align: top;\n",
       "    }\n",
       "\n",
       "    .dataframe thead th {\n",
       "        text-align: right;\n",
       "    }\n",
       "</style>\n",
       "<table border=\"1\" class=\"dataframe\">\n",
       "  <thead>\n",
       "    <tr style=\"text-align: right;\">\n",
       "      <th></th>\n",
       "      <th>ClaimCount</th>\n",
       "      <th>TotalReimbursed</th>\n",
       "      <th>TotalDeductiblePaid</th>\n",
       "    </tr>\n",
       "    <tr>\n",
       "      <th>BeneID</th>\n",
       "      <th></th>\n",
       "      <th></th>\n",
       "      <th></th>\n",
       "    </tr>\n",
       "  </thead>\n",
       "  <tbody>\n",
       "    <tr>\n",
       "      <th>BENE100000</th>\n",
       "      <td>2</td>\n",
       "      <td>120</td>\n",
       "      <td>0.0</td>\n",
       "    </tr>\n",
       "    <tr>\n",
       "      <th>BENE100001</th>\n",
       "      <td>10</td>\n",
       "      <td>1430</td>\n",
       "      <td>100.0</td>\n",
       "    </tr>\n",
       "    <tr>\n",
       "      <th>BENE100002</th>\n",
       "      <td>14</td>\n",
       "      <td>13700</td>\n",
       "      <td>1068.0</td>\n",
       "    </tr>\n",
       "    <tr>\n",
       "      <th>BENE100003</th>\n",
       "      <td>1</td>\n",
       "      <td>300</td>\n",
       "      <td>0.0</td>\n",
       "    </tr>\n",
       "    <tr>\n",
       "      <th>BENE100004</th>\n",
       "      <td>6</td>\n",
       "      <td>3380</td>\n",
       "      <td>1118.0</td>\n",
       "    </tr>\n",
       "    <tr>\n",
       "      <th>...</th>\n",
       "      <td>...</td>\n",
       "      <td>...</td>\n",
       "      <td>...</td>\n",
       "    </tr>\n",
       "    <tr>\n",
       "      <th>BENE99994</th>\n",
       "      <td>7</td>\n",
       "      <td>1330</td>\n",
       "      <td>0.0</td>\n",
       "    </tr>\n",
       "    <tr>\n",
       "      <th>BENE99995</th>\n",
       "      <td>2</td>\n",
       "      <td>19800</td>\n",
       "      <td>1068.0</td>\n",
       "    </tr>\n",
       "    <tr>\n",
       "      <th>BENE99997</th>\n",
       "      <td>7</td>\n",
       "      <td>1470</td>\n",
       "      <td>0.0</td>\n",
       "    </tr>\n",
       "    <tr>\n",
       "      <th>BENE99998</th>\n",
       "      <td>3</td>\n",
       "      <td>1600</td>\n",
       "      <td>0.0</td>\n",
       "    </tr>\n",
       "    <tr>\n",
       "      <th>BENE99999</th>\n",
       "      <td>6</td>\n",
       "      <td>1000</td>\n",
       "      <td>0.0</td>\n",
       "    </tr>\n",
       "  </tbody>\n",
       "</table>\n",
       "<p>138556 rows × 3 columns</p>\n",
       "</div>"
      ],
      "text/plain": [
       "            ClaimCount  TotalReimbursed  TotalDeductiblePaid\n",
       "BeneID                                                      \n",
       "BENE100000           2              120                  0.0\n",
       "BENE100001          10             1430                100.0\n",
       "BENE100002          14            13700               1068.0\n",
       "BENE100003           1              300                  0.0\n",
       "BENE100004           6             3380               1118.0\n",
       "...                ...              ...                  ...\n",
       "BENE99994            7             1330                  0.0\n",
       "BENE99995            2            19800               1068.0\n",
       "BENE99997            7             1470                  0.0\n",
       "BENE99998            3             1600                  0.0\n",
       "BENE99999            6             1000                  0.0\n",
       "\n",
       "[138556 rows x 3 columns]"
      ]
     },
     "execution_count": 20,
     "metadata": {},
     "output_type": "execute_result"
    }
   ],
   "source": [
    "train.groupby('BeneID').agg(\n",
    "    ClaimCount = ('BeneID', 'count'), \n",
    "    TotalReimbursed = ('InscClaimAmtReimbursed', 'sum'),\n",
    "    TotalDeductiblePaid = ('DeductibleAmtPaid', 'sum'))"
   ]
  },
  {
   "cell_type": "markdown",
   "metadata": {},
   "source": [
    "------------"
   ]
  },
  {
   "cell_type": "markdown",
   "metadata": {},
   "source": [
    "Based on the attribute ClaimStartDt, analyze the weekly service volume variations."
   ]
  },
  {
   "cell_type": "code",
   "execution_count": 21,
   "metadata": {},
   "outputs": [
    {
     "data": {
      "image/png": "[encoded data removed]",
      "text/plain": [
       "<Figure size 432x288 with 2 Axes>"
      ]
     },
     "metadata": {
      "needs_background": "light"
     },
     "output_type": "display_data"
    }
   ],
   "source": [
    "# create a new column representing the day of the week\n",
    "train['ClaimStartDtDOW'] = train['ClaimStartDt'].dt.day_name()\n",
    "\n",
    "fig, axs = plt.subplots(2)\n",
    "axs[0].plot(train[fraudulent].groupby(['ClaimStartDtDOW'])['ClaimStartDtDOW'].count(), 'tab:red');\n",
    "axs[0].set_title('Fraudulent')\n",
    "axs[1].plot(train[genuine].groupby(['ClaimStartDtDOW'])['ClaimStartDtDOW'].count(), 'tab:green');\n",
    "axs[1].set_title('Genuine')\n",
    "# Hide x labels and tick labels for top plots and y ticks for right plots.\n",
    "for ax in axs.flat:\n",
    "    ax.label_outer()"
   ]
  },
  {
   "cell_type": "markdown",
   "metadata": {},
   "source": [
    "Identify the top  5  most frequent ClmAdmitDiagnosisCodes and trace their weekly seasonalities. Display the patterns you find."
   ]
  },
  {
   "cell_type": "code",
   "execution_count": 22,
   "metadata": {},
   "outputs": [
    {
     "data": {
      "image/png": "[encoded data removed]",
      "text/plain": [
       "<Figure size 432x288 with 5 Axes>"
      ]
     },
     "metadata": {
      "needs_background": "light"
     },
     "output_type": "display_data"
    }
   ],
   "source": [
    "# top 5 most frequent ClmAdmitDiagnosisCodes\n",
    "train['ClmAdmitDiagnosisCode'].value_counts().head(5)\n",
    "\n",
    "fig, axs = plt.subplots(5)\n",
    "axs[0].plot(train[train['ClmAdmitDiagnosisCode'].eq('V7612')].groupby(\n",
    "    ['ClaimStartDtDOW'])['ClaimStartDtDOW'].count(), 'tab:red');\n",
    "axs[1].plot(train[train['ClmAdmitDiagnosisCode'].eq('42731')].groupby(\n",
    "    ['ClaimStartDtDOW'])['ClaimStartDtDOW'].count(), 'tab:red');\n",
    "axs[2].plot(train[train['ClmAdmitDiagnosisCode'].eq('78605')].groupby(\n",
    "    ['ClaimStartDtDOW'])['ClaimStartDtDOW'].count(), 'tab:red');\n",
    "axs[3].plot(train[train['ClmAdmitDiagnosisCode'].eq('4019')].groupby(\n",
    "    ['ClaimStartDtDOW'])['ClaimStartDtDOW'].count(), 'tab:red');\n",
    "axs[4].plot(train[train['ClmAdmitDiagnosisCode'].eq('25000')].groupby(\n",
    "    ['ClaimStartDtDOW'])['ClaimStartDtDOW'].count(), 'tab:red');\n",
    "\n",
    "# Hide x labels and tick labels for top plots and y ticks for right plots.\n",
    "for ax in axs.flat:\n",
    "    ax.label_outer()"
   ]
  },
  {
   "cell_type": "markdown",
   "metadata": {},
   "source": [
    "For the inpatient patients, is there any pattern between the durations of the treatments and the patient attributes?"
   ]
  },
  {
   "cell_type": "code",
   "execution_count": null,
   "metadata": {},
   "outputs": [],
   "source": []
  },
  {
   "cell_type": "markdown",
   "metadata": {},
   "source": [
    "For the monthly inpatient/outpatient claim counts of all the providers, please analyze the table of provider-month matrices and report any interesting findings."
   ]
  },
  {
   "cell_type": "code",
   "execution_count": null,
   "metadata": {},
   "outputs": [],
   "source": []
  },
  {
   "cell_type": "markdown",
   "metadata": {},
   "source": [
    "-------"
   ]
  },
  {
   "cell_type": "markdown",
   "metadata": {},
   "source": [
    "<b>Study the distributions of InscClaimAmtReimbursed, DeductibleAmtPaid for both inpatient and outpatient services. Your team might want to work with hist, scatter or sns.pairplot, distplot, etc."
   ]
  },
  {
   "cell_type": "code",
   "execution_count": 25,
   "metadata": {},
   "outputs": [
    {
     "data": {
      "image/png": "[encoded data removed]",
      "text/plain": [
       "<Figure size 432x288 with 1 Axes>"
      ]
     },
     "metadata": {
      "needs_background": "light"
     },
     "output_type": "display_data"
    }
   ],
   "source": [
    "from matplotlib.colors import ListedColormap\n",
    "\n",
    "train['isOutpatient'] = np.where(train['AdmissionDt'].notnull(), '0', '1')\n",
    "\n",
    "x = train['InscClaimAmtReimbursed']\n",
    "y = train['DeductibleAmtPaid']\n",
    "values = train['isOutpatient']\n",
    "scatter = plt.scatter(x, y,c=values)\n",
    "# plt.legend(handles=scatter.legend_elements()[0], labels=classes)"
   ]
  },
  {
   "cell_type": "code",
   "execution_count": 28,
   "metadata": {},
   "outputs": [
    {
     "data": {
      "text/plain": [
       "0.0       496701\n",
       "1068.0     39575\n",
       "100.0       4582\n",
       "70.0        2420\n",
       "60.0        2065\n",
       "40.0        2045\n",
       "80.0        2024\n",
       "50.0        1969\n",
       "20.0        1406\n",
       "30.0        1336\n",
       "90.0        1245\n",
       "10.0        1203\n",
       "200.0        734\n",
       "897.0          2\n",
       "876.0          2\n",
       "865.0          2\n",
       "886.0          1\n",
       "Name: DeductibleAmtPaid, dtype: int64"
      ]
     },
     "execution_count": 28,
     "metadata": {},
     "output_type": "execute_result"
    }
   ],
   "source": [
    "train['DeductibleAmtPaid'].value_counts()"
   ]
  },
  {
   "cell_type": "markdown",
   "metadata": {},
   "source": [
    "<b>Study the distributions of insurance covered percentages InscClaimAmtReimbursed/(InscClaimAmtReimbursed+DeductibleAmtPaid)."
   ]
  },
  {
   "cell_type": "code",
   "execution_count": 33,
   "metadata": {},
   "outputs": [
    {
     "data": {
      "image/png": "[encoded data removed]",
      "text/plain": [
       "<Figure size 432x288 with 1 Axes>"
      ]
     },
     "metadata": {
      "needs_background": "light"
     },
     "output_type": "display_data"
    }
   ],
   "source": [
    "train['InsCovPercentage'] = train['InscClaimAmtReimbursed']/(\n",
    "    train['InscClaimAmtReimbursed'] + train['DeductibleAmtPaid'])\n",
    "\n",
    "\n",
    "plt.hist(train['InsCovPercentage']);"
   ]
  },
  {
   "cell_type": "markdown",
   "metadata": {},
   "source": [
    "<b>Study the distributions of the durations of average insurance claims (end-start) of the providers? Box-plot/violin-plot based on the PotentialFraud flag. Do you find any differences for none-potential fraud vs potential-fraud providers?"
   ]
  },
  {
   "cell_type": "code",
   "execution_count": 49,
   "metadata": {},
   "outputs": [
    {
     "data": {
      "image/png": "[encoded data removed]",
      "text/plain": [
       "<Figure size 432x288 with 1 Axes>"
      ]
     },
     "metadata": {
      "needs_background": "light"
     },
     "output_type": "display_data"
    }
   ],
   "source": [
    "train['ClaimDuration'] =  (train['ClaimEndDt'] - train['ClaimStartDt']).astype('timedelta64[D]')\n",
    "\n",
    "sns.boxplot(data = train, x = 'ClaimDuration', y = 'PotentialFraud');"
   ]
  },
  {
   "cell_type": "markdown",
   "metadata": {},
   "source": [
    "<b>How are the service durations related to the total claim amounts, i.e. InscClaimAmtReimbursed+DeductibleAmtPaid?"
   ]
  },
  {
   "cell_type": "code",
   "execution_count": 57,
   "metadata": {},
   "outputs": [
    {
     "data": {
      "image/png": "[encoded data removed]",
      "text/plain": [
       "<Figure size 432x288 with 1 Axes>"
      ]
     },
     "metadata": {},
     "output_type": "display_data"
    }
   ],
   "source": [
    "train['TotalClaimAmount'] = train['InscClaimAmtReimbursed'] + train['DeductibleAmtPaid']\n",
    "\n",
    "sns.scatterplot(data = train, x='ClaimDuration', y='TotalClaimAmount');"
   ]
  },
  {
   "cell_type": "markdown",
   "metadata": {},
   "source": [
    "<b>Consider mean daily total charges (i.e. total charge/duration), please describe their distribution. How do the Potential Fraud flag affect the distribution patterns?"
   ]
  },
  {
   "cell_type": "code",
   "execution_count": 60,
   "metadata": {
    "scrolled": true
   },
   "outputs": [
    {
     "data": {
      "image/png": "[encoded data removed]",
      "text/plain": [
       "<Figure size 432x288 with 1 Axes>"
      ]
     },
     "metadata": {},
     "output_type": "display_data"
    }
   ],
   "source": [
    "train['MeanDailyCharges'] = (train['TotalClaimAmount']/train['ClaimDuration']).replace([np.inf, -np.inf], np.nan)\n",
    "\n",
    "sns.boxplot(data = train, x='MeanDailyCharges', y='PotentialFraud');"
   ]
  },
  {
   "cell_type": "markdown",
   "metadata": {},
   "source": [
    "-----"
   ]
  },
  {
   "cell_type": "markdown",
   "metadata": {},
   "source": [
    "<b> \n",
    "- An easier type of frauds is to submit duplicated claims using stolen patient IDs.\n",
    "- While multiple claims with identical information are not always fraudulent, the prevalence of these duplicated records would signal potential fraud activities.\n",
    "- Consider the various diagnosis codes, procedure codes, admit diagnosis codes as the key features, please identify the duplicated claims in the inpatients_train, outpatients_train data."
   ]
  },
  {
   "cell_type": "markdown",
   "metadata": {},
   "source": [
    "<b>Are these potentially fradulent providers duplicating their own medical records, or are they using the records from the other providers?"
   ]
  },
  {
   "cell_type": "code",
   "execution_count": 70,
   "metadata": {},
   "outputs": [
    {
     "data": {
      "text/plain": [
       "False"
      ]
     },
     "execution_count": 70,
     "metadata": {},
     "output_type": "execute_result"
    }
   ],
   "source": [
    "# claimID is a unique number, always: df['Student'].duplicated().any()\n",
    "\n",
    "train['DuplicateCode'] = train[['BeneID', 'ClaimID', 'ClaimStartDt','ClaimEndDt','Provider']].apply(\n",
    "    lambda x: ''.join(x), axis=1)\n",
    "\n",
    "train['DuplicateCode'].duplicated().any()"
   ]
  },
  {
   "cell_type": "markdown",
   "metadata": {},
   "source": [
    "<b>Assuming that the claimStartDates are authentic, identify the providers which are the information receivers. Identify the providers which are the information givers."
   ]
  },
  {
   "cell_type": "code",
   "execution_count": null,
   "metadata": {},
   "outputs": [],
   "source": []
  },
  {
   "cell_type": "markdown",
   "metadata": {},
   "source": [
    "<b>Summarize the duplicate record counts/provider and study if the statistics have different distributions between honest and potentialfraud providers."
   ]
  },
  {
   "cell_type": "code",
   "execution_count": null,
   "metadata": {},
   "outputs": [],
   "source": []
  },
  {
   "cell_type": "markdown",
   "metadata": {},
   "source": [
    "<b>Do these potentially fraud providers reuse doctor IDs and/or patient IDs? If so, these fradulent IDs (or if the doctors or patients willingly participate) can be used as signals to the other types of fraudulent activities."
   ]
  },
  {
   "cell_type": "code",
   "execution_count": null,
   "metadata": {},
   "outputs": [],
   "source": []
  },
  {
   "cell_type": "markdown",
   "metadata": {},
   "source": [
    "<b>Do these duplicated records show any anomaly in terms of geographic locations? Even though the original data doesn't specify the providers nor the doctors' practice locations, one may use the majority of the patients' residence state/county information to infer their physical locations."
   ]
  },
  {
   "cell_type": "code",
   "execution_count": null,
   "metadata": {},
   "outputs": [],
   "source": []
  },
  {
   "cell_type": "markdown",
   "metadata": {},
   "source": [
    "<b>Base on your best knowledge of suspicious activities in duplicating the patient claims, flag the providers accordingly. Compare with the PotentialFraud flags offered by the dataset and discuss."
   ]
  },
  {
   "cell_type": "code",
   "execution_count": null,
   "metadata": {},
   "outputs": [],
   "source": []
  },
  {
   "cell_type": "code",
   "execution_count": null,
   "metadata": {},
   "outputs": [],
   "source": []
  },
  {
   "cell_type": "code",
   "execution_count": null,
   "metadata": {},
   "outputs": [],
   "source": []
  }
 ],
 "metadata": {
  "kernelspec": {
   "display_name": "Python 3",
   "language": "python",
   "name": "python3"
  },
  "language_info": {
   "codemirror_mode": {
    "name": "ipython",
    "version": 3
   },
   "file_extension": ".py",
   "mimetype": "text/x-python",
   "name": "python",
   "nbconvert_exporter": "python",
   "pygments_lexer": "ipython3",
   "version": "3.7.4"
  }
 },
 "nbformat": 4,
 "nbformat_minor": 2
}
