{
 "cells": [
  {
   "cell_type": "markdown",
   "metadata": {},
   "source": [
    "## Setup and Data Import"
   ]
  },
  {
   "cell_type": "code",
   "execution_count": 1,
   "metadata": {},
   "outputs": [],
   "source": [
    "import sys\n",
    "sys.path.insert(0, '..')\n",
    "\n",
    "from joblib import dump, load\n",
    "\n",
    "import numpy as np\n",
    "\n",
    "import pandas as pd\n",
    "pd.set_option('display.max_columns', None)\n",
    "\n",
    "import sklearn.model_selection as ms\n",
    "from sklearn import preprocessing as pp\n",
    "from sklearn.linear_model import \\\n",
    "    LogisticRegressionCV, LogisticRegression\n",
    "from sklearn.ensemble import \\\n",
    "    RandomForestClassifier, GradientBoostingClassifier\n",
    "from sklearn.svm import SVC\n",
    "from sklearn.naive_bayes import GaussianNB\n",
    "from sklearn.neighbors import KNeighborsClassifier\n",
    "from sklearn.metrics import recall_score, confusion_matrix\n",
    "from sklearn.utils.class_weight import compute_sample_weight\n",
    "\n",
    "from imblearn import over_sampling"
   ]
  },
  {
   "cell_type": "code",
   "execution_count": 2,
   "metadata": {},
   "outputs": [],
   "source": [
    "providers = load('./data/Providers_Final_Second.pkl')\n",
    "providers.set_index('Provider', inplace=True)"
   ]
  },
  {
   "cell_type": "code",
   "execution_count": 3,
   "metadata": {},
   "outputs": [],
   "source": [
    "X = providers.drop(['PotentialFraud', 'PatientsPerAttPhys',\n",
    "                    'PatientsPerOperPhys', 'PatientsPerOthPhys'], axis=1)\n",
    "y = providers.PotentialFraud"
   ]
  },
  {
   "cell_type": "markdown",
   "metadata": {},
   "source": [
    "## Pre-processing"
   ]
  },
  {
   "cell_type": "code",
   "execution_count": 4,
   "metadata": {},
   "outputs": [],
   "source": [
    "# # 70/30 split gives roughly the same baseline model results\n",
    "# # as 80/20 and 90/10, but saves grid_search time\n",
    "\n",
    "X_train, X_test, y_train, y_test = ms.train_test_split(\n",
    "    X, y, test_size = 0.3, random_state = 0, stratify=y)"
   ]
  },
  {
   "cell_type": "code",
   "execution_count": 5,
   "metadata": {},
   "outputs": [],
   "source": [
    "# # Scale only the training data to avoid data leakage\n",
    "# # MinMax performed better or about the same as StandardScaler,\n",
    "# # RobustScaler, and Normalize on most models\n",
    "\n",
    "scaler = pp.MinMaxScaler()\n",
    "\n",
    "X_train = pd.DataFrame(scaler.fit_transform(X_train), columns=X.columns)\n",
    "X_test = pd.DataFrame(scaler.transform(X_test), columns=X.columns)"
   ]
  },
  {
   "cell_type": "code",
   "execution_count": 6,
   "metadata": {},
   "outputs": [],
   "source": [
    "# Upsample for K-nearest Neighbors\n",
    "\n",
    "oversample = over_sampling.SMOTE(random_state=0)\n",
    "X_train_SMOTE, y_train_SMOTE = oversample.fit_resample(X_train, y_train)"
   ]
  },
  {
   "cell_type": "code",
   "execution_count": 7,
   "metadata": {},
   "outputs": [],
   "source": [
    "# # Stratify folds so that classes always have the same sample ratio\n",
    "# # n_splits=10 to maximize testing for this small dataset\n",
    "\n",
    "skfold = ms.StratifiedKFold(n_splits=5, random_state=0, shuffle=True);"
   ]
  },
  {
   "cell_type": "code",
   "execution_count": 8,
   "metadata": {},
   "outputs": [],
   "source": [
    "def model_results(model,\n",
    "    X_train=X_train, y_train=y_train, X_test=X_test, y_test=y_test):\n",
    "        train_recall = recall_score(y_train, model.predict(X_train))\n",
    "        test_recall = recall_score(y_test, model.predict(X_test))\n",
    "        \n",
    "        print('Model details:', model, '\\n')\n",
    "        print('Train Set Recall Score:',\n",
    "              f'{round(train_recall, 4) * 100}%')\n",
    "        print('Test Set Recall Score:',\n",
    "              f'{round(test_recall, 4) * 100}%')\n",
    "        print('\\nTrain Set Confusion Matrix:\\n',\n",
    "              confusion_matrix(y_train, model.predict(X_train)))\n",
    "        print('Test Set Confusion Matrix:\\n',\n",
    "              confusion_matrix(y_test, model.predict(X_test)))"
   ]
  },
  {
   "cell_type": "markdown",
   "metadata": {},
   "source": [
    "## Logistic Regression"
   ]
  },
  {
   "cell_type": "markdown",
   "metadata": {},
   "source": [
    "### Models"
   ]
  },
  {
   "cell_type": "code",
   "execution_count": 9,
   "metadata": {},
   "outputs": [
    {
     "name": "stdout",
     "output_type": "stream",
     "text": [
      "Model details: LogisticRegressionCV(class_weight='balanced',\n",
      "                     cv=StratifiedKFold(n_splits=5, random_state=0, shuffle=True),\n",
      "                     n_jobs=-1, random_state=0, scoring='recall', verbose=1) \n",
      "\n",
      "Train Set Recall Score: 87.29%\n",
      "Test Set Recall Score: 86.18%\n",
      "\n",
      "Train Set Confusion Matrix:\n",
      " [[2255 1178]\n",
      " [  45  309]]\n",
      "Test Set Confusion Matrix:\n",
      " [[1003  468]\n",
      " [  21  131]]\n"
     ]
    }
   ],
   "source": [
    "# # baseline model\n",
    "\n",
    "# logRegCV = \\\n",
    "#     LogisticRegressionCV(class_weight='balanced',\n",
    "#                          cv=skfold, scoring='recall',\n",
    "#                          random_state=0, n_jobs=(-1), verbose=1\n",
    "#                         ).fit(X_train, y_train)\n",
    "\n",
    "# dump(logRegCV, './data/Iteration_2/logRegCV.pkl')\n",
    "\n",
    "logRegCV = load('./data/Iteration_2/logRegCV.pkl')\n",
    "model_results(logRegCV)"
   ]
  },
  {
   "cell_type": "code",
   "execution_count": 10,
   "metadata": {
    "scrolled": false
   },
   "outputs": [
    {
     "name": "stdout",
     "output_type": "stream",
     "text": [
      "Model details: LogisticRegressionCV(class_weight='balanced',\n",
      "                     cv=StratifiedKFold(n_splits=5, random_state=0, shuffle=True),\n",
      "                     n_jobs=-1, penalty='l1', random_state=0, scoring='recall',\n",
      "                     solver='liblinear', verbose=1) \n",
      "\n",
      "Train Set Recall Score: 89.55%\n",
      "Test Set Recall Score: 89.47%\n",
      "\n",
      "Train Set Confusion Matrix:\n",
      " [[2919  514]\n",
      " [  37  317]]\n",
      "Test Set Confusion Matrix:\n",
      " [[1271  200]\n",
      " [  16  136]]\n"
     ]
    }
   ],
   "source": [
    "# # baseline model\n",
    "# # L1 penalty for feature selection, liblinear solver faster than saga\n",
    "\n",
    "# logRegCVL1 = \\\n",
    "#     LogisticRegressionCV(penalty='l1', solver='liblinear', cv=skfold,\n",
    "#                          class_weight='balanced', scoring='recall',\n",
    "#                          random_state=0, n_jobs=(-1), verbose=1\n",
    "#                         ).fit(X_train, y_train)\n",
    "\n",
    "# dump(logRegCVL1, './data/Iteration_2/logRegCVL1.pkl')\n",
    "\n",
    "logRegCVL1 = load('./data/Iteration_2/logRegCVL1.pkl')\n",
    "model_results(logRegCVL1)"
   ]
  },
  {
   "cell_type": "code",
   "execution_count": 11,
   "metadata": {
    "scrolled": false
   },
   "outputs": [
    {
     "name": "stdout",
     "output_type": "stream",
     "text": [
      "Model details: LogisticRegression(C=0.2442053094548651, class_weight='balanced', max_iter=150,\n",
      "                   penalty='l1', random_state=0, solver='liblinear') \n",
      "\n",
      "Train Set Recall Score: 89.55%\n",
      "Test Set Recall Score: 89.47%\n",
      "\n",
      "Train Set Confusion Matrix:\n",
      " [[2885  548]\n",
      " [  37  317]]\n",
      "Test Set Confusion Matrix:\n",
      " [[1253  218]\n",
      " [  16  136]]\n",
      "\n",
      "About 2% worse than Iteration 1\n"
     ]
    }
   ],
   "source": [
    "# # grid search (fine-tuned)\n",
    "\n",
    "# logRegModel = \\\n",
    "#     LogisticRegression(penalty='l1', solver='liblinear',\n",
    "#                        class_weight='balanced', random_state=0)\n",
    "\n",
    "# params = {'C': np.logspace(-2, 2, 50),\n",
    "#           'max_iter': [150, 200]}\n",
    "\n",
    "# logRegRS = ms.RandomizedSearchCV(logRegModel, param_distributions=params,\n",
    "#                            scoring='recall', cv=skfold, verbose=1,\n",
    "#                            return_train_score=True\n",
    "#                           ).fit(X_train, y_train)\n",
    "\n",
    "# bestLogReg = logRegRS.best_estimator_\n",
    "\n",
    "# dump(bestLogReg, './data/Iteration_2/bestLogReg.pkl')\n",
    "\n",
    "bestLogReg = load('./data/Iteration_2/bestLogReg.pkl')\n",
    "model_results(bestLogReg)\n",
    "print('\\nAbout 2% worse than Iteration 1')"
   ]
  },
  {
   "cell_type": "markdown",
   "metadata": {},
   "source": [
    "### Results"
   ]
  },
  {
   "cell_type": "code",
   "execution_count": 12,
   "metadata": {
    "scrolled": false
   },
   "outputs": [
    {
     "data": {
      "text/html": [
       "<div>\n",
       "<style scoped>\n",
       "    .dataframe tbody tr th:only-of-type {\n",
       "        vertical-align: middle;\n",
       "    }\n",
       "\n",
       "    .dataframe tbody tr th {\n",
       "        vertical-align: top;\n",
       "    }\n",
       "\n",
       "    .dataframe thead th {\n",
       "        text-align: right;\n",
       "    }\n",
       "</style>\n",
       "<table border=\"1\" class=\"dataframe\">\n",
       "  <thead>\n",
       "    <tr style=\"text-align: right;\">\n",
       "      <th></th>\n",
       "      <th>Coefficient</th>\n",
       "    </tr>\n",
       "  </thead>\n",
       "  <tbody>\n",
       "    <tr>\n",
       "      <th>OP_Sum_InscClaimAmtReimbursed</th>\n",
       "      <td>8.485075</td>\n",
       "    </tr>\n",
       "    <tr>\n",
       "      <th>Ratio_ClaimsPerPatient</th>\n",
       "      <td>6.175729</td>\n",
       "    </tr>\n",
       "    <tr>\n",
       "      <th>IP_Sum_InscClaimAmtReimbursed</th>\n",
       "      <td>6.120085</td>\n",
       "    </tr>\n",
       "    <tr>\n",
       "      <th>Perc_Outpatient</th>\n",
       "      <td>3.324114</td>\n",
       "    </tr>\n",
       "    <tr>\n",
       "      <th>IP_Mean_ClaimDuration</th>\n",
       "      <td>2.173876</td>\n",
       "    </tr>\n",
       "    <tr>\n",
       "      <th>OP_AgeRange</th>\n",
       "      <td>2.043294</td>\n",
       "    </tr>\n",
       "    <tr>\n",
       "      <th>IP_Mean_ClaimCostPerOperPhys</th>\n",
       "      <td>1.848461</td>\n",
       "    </tr>\n",
       "    <tr>\n",
       "      <th>OP_Perc_KidneyDisease_Chronic</th>\n",
       "      <td>1.455212</td>\n",
       "    </tr>\n",
       "    <tr>\n",
       "      <th>IP_AgeRange</th>\n",
       "      <td>1.226295</td>\n",
       "    </tr>\n",
       "    <tr>\n",
       "      <th>OP_Sum_DeductibleAmtPaid</th>\n",
       "      <td>1.163725</td>\n",
       "    </tr>\n",
       "    <tr>\n",
       "      <th>Mean_StatePerAttPhys</th>\n",
       "      <td>1.133158</td>\n",
       "    </tr>\n",
       "    <tr>\n",
       "      <th>IP_Mean_AdmitDuration</th>\n",
       "      <td>1.048953</td>\n",
       "    </tr>\n",
       "    <tr>\n",
       "      <th>Mean_StatePerOthPhys</th>\n",
       "      <td>0.848430</td>\n",
       "    </tr>\n",
       "    <tr>\n",
       "      <th>IP_Mean_Duplicate_per_Patient</th>\n",
       "      <td>0.834374</td>\n",
       "    </tr>\n",
       "    <tr>\n",
       "      <th>OP_Perc_HeartFailure_Chronic</th>\n",
       "      <td>0.437727</td>\n",
       "    </tr>\n",
       "    <tr>\n",
       "      <th>IP_Perc_GenderZero</th>\n",
       "      <td>0.343233</td>\n",
       "    </tr>\n",
       "    <tr>\n",
       "      <th>OP_Perc_MultHosp</th>\n",
       "      <td>0.325018</td>\n",
       "    </tr>\n",
       "    <tr>\n",
       "      <th>IP_Perc_MultHosp</th>\n",
       "      <td>0.254595</td>\n",
       "    </tr>\n",
       "    <tr>\n",
       "      <th>IP_Perc_Depression_Chronic</th>\n",
       "      <td>0.222784</td>\n",
       "    </tr>\n",
       "    <tr>\n",
       "      <th>IP_Perc_HeartFailure_Chronic</th>\n",
       "      <td>0.221597</td>\n",
       "    </tr>\n",
       "    <tr>\n",
       "      <th>IP_Mean_ClaimCostPerOtherPhys</th>\n",
       "      <td>0.209036</td>\n",
       "    </tr>\n",
       "    <tr>\n",
       "      <th>OP_Perc_RheumatoidArthritis_Chronic</th>\n",
       "      <td>0.099917</td>\n",
       "    </tr>\n",
       "    <tr>\n",
       "      <th>IP_Perc_Osteoporosis_Chronic</th>\n",
       "      <td>0.077443</td>\n",
       "    </tr>\n",
       "    <tr>\n",
       "      <th>IP_Perc_Alzheimers_Chronic</th>\n",
       "      <td>0.059186</td>\n",
       "    </tr>\n",
       "    <tr>\n",
       "      <th>IP_Perc_No_ProcCode</th>\n",
       "      <td>0.057333</td>\n",
       "    </tr>\n",
       "    <tr>\n",
       "      <th>IP_Perc_IschemicHeart_Chronic</th>\n",
       "      <td>0.028646</td>\n",
       "    </tr>\n",
       "    <tr>\n",
       "      <th>IP_Perc_RaceOne</th>\n",
       "      <td>0.027720</td>\n",
       "    </tr>\n",
       "    <tr>\n",
       "      <th>OP_Perc_Diabetes_Chronic</th>\n",
       "      <td>0.002872</td>\n",
       "    </tr>\n",
       "  </tbody>\n",
       "</table>\n",
       "</div>"
      ],
      "text/plain": [
       "                                     Coefficient\n",
       "OP_Sum_InscClaimAmtReimbursed           8.485075\n",
       "Ratio_ClaimsPerPatient                  6.175729\n",
       "IP_Sum_InscClaimAmtReimbursed           6.120085\n",
       "Perc_Outpatient                         3.324114\n",
       "IP_Mean_ClaimDuration                   2.173876\n",
       "OP_AgeRange                             2.043294\n",
       "IP_Mean_ClaimCostPerOperPhys            1.848461\n",
       "OP_Perc_KidneyDisease_Chronic           1.455212\n",
       "IP_AgeRange                             1.226295\n",
       "OP_Sum_DeductibleAmtPaid                1.163725\n",
       "Mean_StatePerAttPhys                    1.133158\n",
       "IP_Mean_AdmitDuration                   1.048953\n",
       "Mean_StatePerOthPhys                    0.848430\n",
       "IP_Mean_Duplicate_per_Patient           0.834374\n",
       "OP_Perc_HeartFailure_Chronic            0.437727\n",
       "IP_Perc_GenderZero                      0.343233\n",
       "OP_Perc_MultHosp                        0.325018\n",
       "IP_Perc_MultHosp                        0.254595\n",
       "IP_Perc_Depression_Chronic              0.222784\n",
       "IP_Perc_HeartFailure_Chronic            0.221597\n",
       "IP_Mean_ClaimCostPerOtherPhys           0.209036\n",
       "OP_Perc_RheumatoidArthritis_Chronic     0.099917\n",
       "IP_Perc_Osteoporosis_Chronic            0.077443\n",
       "IP_Perc_Alzheimers_Chronic              0.059186\n",
       "IP_Perc_No_ProcCode                     0.057333\n",
       "IP_Perc_IschemicHeart_Chronic           0.028646\n",
       "IP_Perc_RaceOne                         0.027720\n",
       "OP_Perc_Diabetes_Chronic                0.002872"
      ]
     },
     "execution_count": 12,
     "metadata": {},
     "output_type": "execute_result"
    }
   ],
   "source": [
    "coefficients = pd.DataFrame(bestLogReg.coef_.T, index=X.columns\n",
    "                           ).rename(columns = {0:'Coefficient'}\n",
    "                           ).abs().sort_values(by='Coefficient',\n",
    "                                               ascending=False)\n",
    "coefficients[coefficients.Coefficient > 0]"
   ]
  },
  {
   "cell_type": "markdown",
   "metadata": {},
   "source": [
    "## K-nearest Neighbors"
   ]
  },
  {
   "cell_type": "code",
   "execution_count": 13,
   "metadata": {
    "scrolled": true
   },
   "outputs": [
    {
     "name": "stdout",
     "output_type": "stream",
     "text": [
      "Model details: KNeighborsClassifier() \n",
      "\n",
      "Train Set Recall Score: 100.0%\n",
      "Test Set Recall Score: 87.5%\n",
      "\n",
      "Train Set Confusion Matrix:\n",
      " [[2750  683]\n",
      " [   0 3433]]\n",
      "Test Set Confusion Matrix:\n",
      " [[1109  362]\n",
      " [  19  133]]\n"
     ]
    }
   ],
   "source": [
    "# # baseline model with SMOTE\n",
    "\n",
    "# knn = KNeighborsClassifier().fit(X_train_SMOTE, y_train_SMOTE)\n",
    "\n",
    "# dump(knn, './data/Iteration_2/knn.pkl')\n",
    "\n",
    "knn = load('./data/Iteration_2/knn.pkl')\n",
    "model_results(knn, X_train_SMOTE, y_train_SMOTE)"
   ]
  },
  {
   "cell_type": "code",
   "execution_count": 14,
   "metadata": {
    "scrolled": true
   },
   "outputs": [
    {
     "name": "stdout",
     "output_type": "stream",
     "text": [
      "Model details: KNeighborsClassifier(n_neighbors=31) \n",
      "\n",
      "Train Set Recall Score: 97.76%\n",
      "Test Set Recall Score: 94.08%\n",
      "\n",
      "Train Set Confusion Matrix:\n",
      " [[2364 1069]\n",
      " [  77 3356]]\n",
      "Test Set Confusion Matrix:\n",
      " [[1011  460]\n",
      " [   9  143]]\n",
      "\n",
      "About 2% worse than Iteration 1\n"
     ]
    }
   ],
   "source": [
    "# # grid search (fine-tuned)\n",
    "\n",
    "# params = {'n_neighbors': np.arange(30, 41)}\n",
    "\n",
    "# knnGS = \\\n",
    "#     ms.GridSearchCV(knn, param_grid=params,\n",
    "#                           cv=skfold, n_jobs=(-1), verbose = 1,\n",
    "#                           return_train_score = True,\n",
    "#                           scoring = 'recall').fit(X_train_SMOTE,\n",
    "#                                                   y_train_SMOTE)\n",
    "\n",
    "# bestKNN = knnGS.best_estimator_\n",
    "# dump(bestKNN, './data/Iteration_2/bestKNN.pkl')\n",
    "\n",
    "bestKNN = load('./data/Iteration_2/bestKNN.pkl')\n",
    "model_results(bestKNN, X_train_SMOTE, y_train_SMOTE)\n",
    "print('\\nAbout 2% worse than Iteration 1')"
   ]
  },
  {
   "cell_type": "markdown",
   "metadata": {},
   "source": [
    "## Gaussian Naive Bayes"
   ]
  },
  {
   "cell_type": "code",
   "execution_count": 15,
   "metadata": {
    "scrolled": false
   },
   "outputs": [
    {
     "name": "stdout",
     "output_type": "stream",
     "text": [
      "Model details: GaussianNB() \n",
      "\n",
      "Train Set Recall Score: 77.68%\n",
      "Test Set Recall Score: 75.66000000000001%\n",
      "\n",
      "Train Set Confusion Matrix:\n",
      " [[3096  337]\n",
      " [  79  275]]\n",
      "Test Set Confusion Matrix:\n",
      " [[1336  135]\n",
      " [  37  115]]\n"
     ]
    }
   ],
   "source": [
    "# # baseline model\n",
    "\n",
    "# gnb = GaussianNB().fit(X_train, y_train)\n",
    "\n",
    "# dump(gnb, './data/Iteration_2/gnb.pkl')\n",
    "\n",
    "gnb = load('./data/Iteration_2/gnb.pkl')\n",
    "model_results(gnb)"
   ]
  },
  {
   "cell_type": "code",
   "execution_count": 16,
   "metadata": {
    "scrolled": true
   },
   "outputs": [
    {
     "name": "stdout",
     "output_type": "stream",
     "text": [
      "Model details: GaussianNB(var_smoothing=0.05100000000000001) \n",
      "\n",
      "Train Set Recall Score: 88.42%\n",
      "Test Set Recall Score: 86.83999999999999%\n",
      "\n",
      "Train Set Confusion Matrix:\n",
      " [[2425 1008]\n",
      " [  41  313]]\n",
      "Test Set Confusion Matrix:\n",
      " [[1077  394]\n",
      " [  20  132]]\n",
      "\n",
      "Exactly the same as Iteration 1\n"
     ]
    }
   ],
   "source": [
    "# # grid search (fine-tuned)\n",
    "\n",
    "# params = {'var_smoothing': np.arange(0.04, 0.6, .001)}\n",
    "\n",
    "# gnbModel = ms.GridSearchCV(gnb, param_grid=params,\n",
    "#                              scoring='recall', cv=skfold,\n",
    "#                              n_jobs=(-1), verbose=1\n",
    "#                             ).fit(X_train, y_train)\n",
    "\n",
    "# bestGNB = gnbModel.best_estimator_\n",
    "# dump(bestGNB, './data/Iteration_2/bestGNB.pkl')\n",
    "\n",
    "bestGNB = load('./data/Iteration_2/bestGNB.pkl')\n",
    "model_results(bestGNB)\n",
    "print('\\nExactly the same as Iteration 1')\n",
    "\n",
    "# ----------------------------------------------\n",
    "# params = {'var_smoothing': np.arange(0.01, 0.2, .0001)}\n",
    "# Model details: GaussianNB(var_smoothing=0.050999999999999754) \n",
    "# Train Set Recall Score: 88.42%\n",
    "# Test Set Recall Score: 86.83999999999999%\n",
    "# Train Set Confusion Matrix:\n",
    "#  [[2425 1008]\n",
    "#  [  41  313]]\n",
    "# Test Set Confusion Matrix:\n",
    "#  [[1077  394]\n",
    "#  [  20  132]]"
   ]
  },
  {
   "cell_type": "markdown",
   "metadata": {},
   "source": [
    "## Tree Models"
   ]
  },
  {
   "cell_type": "markdown",
   "metadata": {},
   "source": [
    "### Random Forest"
   ]
  },
  {
   "cell_type": "code",
   "execution_count": 17,
   "metadata": {
    "scrolled": true
   },
   "outputs": [
    {
     "name": "stdout",
     "output_type": "stream",
     "text": [
      "Model details: RandomForestClassifier(class_weight='balanced', random_state=0) \n",
      "\n",
      "Train Set Recall Score: 99.72%\n",
      "Test Set Recall Score: 40.79%\n",
      "\n",
      "Train Set Confusion Matrix:\n",
      " [[3433    0]\n",
      " [   1  353]]\n",
      "Test Set Confusion Matrix:\n",
      " [[1456   15]\n",
      " [  90   62]]\n"
     ]
    }
   ],
   "source": [
    "# # baseline model\n",
    "\n",
    "randForest = \\\n",
    "    RandomForestClassifier(class_weight='balanced', random_state=0\n",
    "                          ).fit(X_train, y_train)\n",
    "\n",
    "# dump(randForest, './data/Iteration_2/randForest.pkl')\n",
    "\n",
    "randForest = load('./data/Iteration_2/randForest.pkl')\n",
    "model_results(randForest)"
   ]
  },
  {
   "cell_type": "code",
   "execution_count": 18,
   "metadata": {
    "scrolled": false
   },
   "outputs": [
    {
     "name": "stdout",
     "output_type": "stream",
     "text": [
      "Model details: RandomForestClassifier(class_weight='balanced', max_depth=2, min_samples_leaf=2,\n",
      "                       n_estimators=1000, random_state=0) \n",
      "\n",
      "Train Set Recall Score: 88.7%\n",
      "Test Set Recall Score: 88.16000000000001%\n",
      "\n",
      "Train Set Confusion Matrix:\n",
      " [[2842  591]\n",
      " [  40  314]]\n",
      "Test Set Confusion Matrix:\n",
      " [[1248  223]\n",
      " [  18  134]]\n",
      "\n",
      "About 4% worse than Iteration 1\n"
     ]
    }
   ],
   "source": [
    "# # grid search (fine-tuned)\n",
    "\n",
    "# params = {'max_depth': [1, 2, 3],\n",
    "#           'min_samples_split': np.arange(2, 7),\n",
    "#           'min_samples_leaf': np.arange(2, 7),\n",
    "#           'n_estimators': [1000]}\n",
    "\n",
    "# randForestGS = \\\n",
    "#     ms.GridSearchCV(randForest,\n",
    "#                           param_grid=params,\n",
    "#                           scoring='recall', cv=skfold,\n",
    "#                           n_jobs=(-1), verbose=1,\n",
    "#                           return_train_score=True\n",
    "#                           ).fit(X_train, y_train)\n",
    "\n",
    "# bestRandForest = randForestGS.best_estimator_\n",
    "# dump(bestRandForest, './data/Iteration_2/bestRandForest.pkl')\n",
    "\n",
    "bestRandForest = load('./data/Iteration_2/bestRandForest.pkl')\n",
    "model_results(bestRandForest)\n",
    "print('\\nAbout 4% worse than Iteration 1')\n",
    "\n",
    "# --------------------------------------------------------------\n",
    "# params = {'max_depth': np.arange(2, 5),\n",
    "#           'min_samples_split': np.arange(3, 7),\n",
    "#           'min_samples_leaf': np.arange(3, 7)}\n",
    "# Model details: RandomForestClassifier(class_weight='balanced',\n",
    "#                    max_depth=3, min_samples_leaf=3,\n",
    "#                    min_samples_split=3, random_state=0) \n",
    "# Train Set Recall Score: 91.81%\n",
    "# Test Set Recall Score: 88.16000000000001%\n",
    "# Train Set Confusion Matrix:\n",
    "#  [[2905  528]\n",
    "#  [  29  325]]\n",
    "# Test Set Confusion Matrix:\n",
    "#  [[1268  203]\n",
    "#  [  18  134]]\n",
    "\n",
    "# params = {'max_depth': np.arange(2, 5),\n",
    "#           'min_samples_split': np.arange(3, 7),\n",
    "#           'min_samples_leaf': np.arange(3, 7),\n",
    "#           'n_estimators': [300, 335, 375]}\n",
    "# Model details: RandomForestClassifier(class_weight='balanced', max_depth=3, min_samples_leaf=3,\n",
    "#                        min_samples_split=3, n_estimators=335, random_state=0) \n",
    "# Train Set Recall Score: 91.53%\n",
    "# Test Set Recall Score: 88.82%\n",
    "# Train Set Confusion Matrix:\n",
    "#  [[2902  531]\n",
    "#  [  30  324]]\n",
    "# Test Set Confusion Matrix:\n",
    "#  [[1263  208]\n",
    "#  [  17  135]]"
   ]
  },
  {
   "cell_type": "markdown",
   "metadata": {},
   "source": [
    "### Gradient Boosting"
   ]
  },
  {
   "cell_type": "code",
   "execution_count": 19,
   "metadata": {
    "scrolled": true
   },
   "outputs": [
    {
     "name": "stdout",
     "output_type": "stream",
     "text": [
      "Model details: GradientBoostingClassifier(max_features='auto', random_state=0) \n",
      "\n",
      "Train Set Recall Score: 99.15%\n",
      "Test Set Recall Score: 80.25999999999999%\n",
      "\n",
      "Train Set Confusion Matrix:\n",
      " [[3248  185]\n",
      " [   3  351]]\n",
      "Test Set Confusion Matrix:\n",
      " [[1355  116]\n",
      " [  30  122]]\n"
     ]
    }
   ],
   "source": [
    "# # baseline model with sample_weight\n",
    "\n",
    "# gradBoostModel = \\\n",
    "#     GradientBoostingClassifier(max_features='auto', random_state=0)\n",
    "# gradBoostModel.fit(X_train, y_train, sample_weight=\n",
    "#     compute_sample_weight(class_weight='balanced', y=y_train))\n",
    "\n",
    "# dump(gradBoostModel, './data/Iteration_2/gradBoostModel.pkl')\n",
    "\n",
    "gradBoostModel = load('./data/Iteration_2/gradBoostModel.pkl')\n",
    "model_results(gradBoostModel)"
   ]
  },
  {
   "cell_type": "code",
   "execution_count": 20,
   "metadata": {
    "scrolled": false
   },
   "outputs": [
    {
     "name": "stdout",
     "output_type": "stream",
     "text": [
      "Model details: GradientBoostingClassifier(learning_rate=0.001, max_depth=2,\n",
      "                           max_features='auto', min_samples_leaf=12,\n",
      "                           min_samples_split=26, n_estimators=1050,\n",
      "                           random_state=0) \n",
      "\n",
      "Train Set Recall Score: 92.09%\n",
      "Test Set Recall Score: 92.75999999999999%\n",
      "\n",
      "Train Set Confusion Matrix:\n",
      " [[2883  550]\n",
      " [  28  326]]\n",
      "Test Set Confusion Matrix:\n",
      " [[1262  209]\n",
      " [  11  141]]\n",
      "\n",
      "Comparable score to Iteration 1 but about 20 more false positives\n"
     ]
    }
   ],
   "source": [
    "# # grid search (fine-tuned)\n",
    "\n",
    "# gradBoostModel = \\\n",
    "#     GradientBoostingClassifier(max_features='auto',\n",
    "#                                learning_rate=0.001,\n",
    "#                                min_samples_leaf=12,\n",
    "#                                random_state=0)\n",
    "\n",
    "# gradBoostModel.fit(X_train, y_train, sample_weight=\n",
    "#     compute_sample_weight(class_weight='balanced', y=y_train))\n",
    "\n",
    "# params = {'n_estimators': [950, 1050, 1200],\n",
    "#           'min_samples_split': [22, 24, 26],\n",
    "#           'max_depth': [1, 2, 3]}\n",
    "\n",
    "# gradBoostRS = ms.RandomizedSearchCV(gradBoostModel,\n",
    "#                                     param_distributions=params,\n",
    "#                                     scoring='recall', cv=skfold,\n",
    "#                                     n_jobs=(-1), verbose=1,\n",
    "#                                     return_train_score=True)\n",
    "# gradBoostRS.fit(X_train, y_train,\n",
    "#     sample_weight=\\\n",
    "#         compute_sample_weight(class_weight='balanced', y=y_train))\n",
    "\n",
    "# bestGradBoost = gradBoostRS.best_estimator_\n",
    "# dump(bestGradBoost, './data/Iteration_2/bestGradBoost.pkl')\n",
    "\n",
    "bestGradBoost = load('./data/Iteration_2/bestGradBoost.pkl')\n",
    "model_results(bestGradBoost)\n",
    "print('\\nComparable score to Iteration 1 but about 20 more false positives')"
   ]
  },
  {
   "cell_type": "code",
   "execution_count": 21,
   "metadata": {},
   "outputs": [],
   "source": [
    "# # grid search tuning steps\n",
    "# params = {'learning_rate':[0.003, 0.005, 0.007],\n",
    "#           'min_samples_split': [22, 24, 26],\n",
    "#           'min_samples_leaf': [8, 12, 16],\n",
    "#           'max_depth': [1, 2],\n",
    "#           'n_estimators': [250, 300, 350]}\n",
    "# Model details: GradientBoostingClassifier(learning_rate=0.005, max_depth=2,\n",
    "#                            max_features='auto', min_samples_leaf=8,\n",
    "#                            min_samples_split=24, n_estimators=300,\n",
    "#                            random_state=0) \n",
    "# Train Set Recall Score: 92.36999999999999%\n",
    "# Test Set Recall Score: 90.13%\n",
    "# Train Set Confusion Matrix:\n",
    "#  [[2943  490]\n",
    "#  [  27  327]]\n",
    "# Test Set Confusion Matrix:\n",
    "#  [[1279  192]\n",
    "#  [  15  137]]\n",
    "\n",
    "# params = {'learning_rate':[0.001, 0.01, 0.1],\n",
    "#           'n_estimators': [500, 850, 1200],\n",
    "#           'min_samples_split': [2, 8, 20],\n",
    "#           'min_samples_leaf': [1, 5, 12]}\n",
    "# Model details: GradientBoostingClassifier(learning_rate=0.001, max_features='auto',\n",
    "#                            min_samples_leaf=12, min_samples_split=20,\n",
    "#                            n_estimators=850, random_state=0) \n",
    "# Train Set Recall Score: 94.07%\n",
    "# Test Set Recall Score: 91.45%\n",
    "# Train Set Confusion Matrix:\n",
    "#  [[2948  485]\n",
    "#  [  21  333]]\n",
    "# Test Set Confusion Matrix:\n",
    "#  [[1275  196]\n",
    "#  [  13  139]]\n",
    "\n",
    "# params = {'learning_rate':[0.0005, 0.001, 0.005],\n",
    "#           'n_estimators': [750, 850, 950],\n",
    "#           'min_samples_split': [16, 20, 24],\n",
    "#           'min_samples_leaf': [8, 12, 16]}\n",
    "# Model details: GradientBoostingClassifier(learning_rate=0.001, max_features='auto',\n",
    "#                            min_samples_leaf=12, min_samples_split=24,\n",
    "#                            n_estimators=950, random_state=0) \n",
    "# Train Set Recall Score: 93.22%\n",
    "# Test Set Recall Score: 91.45%\n",
    "# Train Set Confusion Matrix:\n",
    "#  [[2981  452]\n",
    "#  [  24  330]]\n",
    "# Test Set Confusion Matrix:\n",
    "#  [[1285  186]\n",
    "#  [  13  139]]"
   ]
  },
  {
   "cell_type": "markdown",
   "metadata": {},
   "source": [
    "## Support Vector Machine"
   ]
  },
  {
   "cell_type": "code",
   "execution_count": 22,
   "metadata": {},
   "outputs": [
    {
     "name": "stdout",
     "output_type": "stream",
     "text": [
      "Model details: SVC(class_weight='balanced', random_state=0) \n",
      "\n",
      "Train Set Recall Score: 93.22%\n",
      "Test Set Recall Score: 91.45%\n",
      "\n",
      "Train Set Confusion Matrix:\n",
      " [[2838  595]\n",
      " [  24  330]]\n",
      "Test Set Confusion Matrix:\n",
      " [[1234  237]\n",
      " [  13  139]]\n"
     ]
    }
   ],
   "source": [
    "# # baseline model\n",
    "\n",
    "# svm = \\\n",
    "#     SVC(random_state=0, class_weight='balanced').fit(X_train, y_train)\n",
    "\n",
    "# dump(svm, './data/Iteration_2/svm.pkl')\n",
    "\n",
    "svm = load('./data/Iteration_2/svm.pkl')\n",
    "model_results(svm)"
   ]
  },
  {
   "cell_type": "code",
   "execution_count": 23,
   "metadata": {
    "scrolled": true
   },
   "outputs": [
    {
     "name": "stdout",
     "output_type": "stream",
     "text": [
      "Model details: SVC(C=0.08302175681319744, class_weight='balanced', degree=5, gamma='auto',\n",
      "    kernel='linear', random_state=0) \n",
      "\n",
      "Train Set Recall Score: 90.96%\n",
      "Test Set Recall Score: 90.79%\n",
      "\n",
      "Train Set Confusion Matrix:\n",
      " [[2777  656]\n",
      " [  32  322]]\n",
      "Test Set Confusion Matrix:\n",
      " [[1219  252]\n",
      " [  14  138]]\n",
      "\n",
      "About 2% worse than Iteration 1\n"
     ]
    }
   ],
   "source": [
    "# # grid search\n",
    "\n",
    "# params = {'C': np.logspace(-3, 2, 100),\n",
    "#           'kernel': ['linear', 'poly', 'rbf'],\n",
    "#           'degree': [1, 3, 5],\n",
    "#           'gamma': ['scale', 'auto']}\n",
    "\n",
    "# svmRS = \\\n",
    "#     ms.RandomizedSearchCV(svm, param_distributions=params,\n",
    "#                           scoring='recall', cv=skfold,\n",
    "#                           n_jobs=(-1), verbose=1,\n",
    "#                           return_train_score=True\n",
    "#                          ).fit(X_train, y_train)\n",
    "\n",
    "# bestSVM = svmRS.best_estimator_\n",
    "# dump(bestSVM, './data/Iteration_2/bestSVM.pkl')\n",
    "\n",
    "bestSVM = load('./data/Iteration_2/bestSVM.pkl')\n",
    "model_results(bestSVM)\n",
    "print('\\nAbout 2% worse than Iteration 1')"
   ]
  }
 ],
 "metadata": {
  "kernelspec": {
   "display_name": "Python 3",
   "language": "python",
   "name": "python3"
  },
  "language_info": {
   "codemirror_mode": {
    "name": "ipython",
    "version": 3
   },
   "file_extension": ".py",
   "mimetype": "text/x-python",
   "name": "python",
   "nbconvert_exporter": "python",
   "pygments_lexer": "ipython3",
   "version": "3.7.6"
  },
  "toc": {
   "base_numbering": 1,
   "nav_menu": {},
   "number_sections": true,
   "sideBar": true,
   "skip_h1_title": true,
   "title_cell": "Table of Contents",
   "title_sidebar": "Contents",
   "toc_cell": false,
   "toc_position": {
    "height": "calc(100% - 180px)",
    "left": "10px",
    "top": "150px",
    "width": "165px"
   },
   "toc_section_display": true,
   "toc_window_display": true
  }
 },
 "nbformat": 4,
 "nbformat_minor": 4
}
