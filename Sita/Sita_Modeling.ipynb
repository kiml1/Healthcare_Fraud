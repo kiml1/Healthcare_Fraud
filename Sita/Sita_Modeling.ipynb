{
 "cells": [
  {
   "cell_type": "markdown",
   "metadata": {},
   "source": [
    "## Setup and Data Import"
   ]
  },
  {
   "cell_type": "code",
   "execution_count": 1,
   "metadata": {},
   "outputs": [],
   "source": [
    "import sys\n",
    "sys.path.insert(0, '..')\n",
    "\n",
    "from joblib import dump, load\n",
    "\n",
    "import numpy as np\n",
    "\n",
    "import pandas as pd\n",
    "pd.set_option('display.max_columns', None)\n",
    "\n",
    "import sklearn.model_selection as ms\n",
    "from sklearn import preprocessing as pp\n",
    "from sklearn.linear_model import \\\n",
    "    LogisticRegressionCV, LogisticRegression\n",
    "from sklearn.ensemble import \\\n",
    "    RandomForestClassifier, GradientBoostingClassifier\n",
    "from sklearn.svm import SVC\n",
    "from sklearn.naive_bayes import GaussianNB\n",
    "from sklearn.neighbors import KNeighborsClassifier\n",
    "from sklearn.metrics import recall_score\n",
    "\n",
    "import imblearn\n",
    "\n",
    "import plotly.express as px"
   ]
  },
  {
   "cell_type": "code",
   "execution_count": 2,
   "metadata": {},
   "outputs": [],
   "source": [
    "providers = load('./data/Iteration_1/Providers_Final_Iteration_1.pkl')\n",
    "providers.set_index('Provider', inplace=True)"
   ]
  },
  {
   "cell_type": "code",
   "execution_count": 3,
   "metadata": {},
   "outputs": [],
   "source": [
    "X = providers.drop('PotentialFraud', axis=1)\n",
    "y = providers.PotentialFraud"
   ]
  },
  {
   "cell_type": "markdown",
   "metadata": {},
   "source": [
    "## Pre-processing"
   ]
  },
  {
   "cell_type": "code",
   "execution_count": 4,
   "metadata": {},
   "outputs": [],
   "source": [
    "X_train, X_test, y_train, y_test = ms.train_test_split(\n",
    "    X, y, test_size = 0.3, random_state = 0, stratify=y)\n",
    "\n",
    "# # 70/30 split gives roughly the same baseline model results\n",
    "# # but saves grid_search time"
   ]
  },
  {
   "cell_type": "code",
   "execution_count": 5,
   "metadata": {},
   "outputs": [],
   "source": [
    "# # Scale only the training data to avoid data leakage\n",
    "scaler = pp.MinMaxScaler()\n",
    "\n",
    "X_train = pd.DataFrame(scaler.fit_transform(X_train), columns=X.columns)\n",
    "X_test = pd.DataFrame(scaler.transform(X_test), columns=X.columns)"
   ]
  },
  {
   "cell_type": "code",
   "execution_count": 6,
   "metadata": {},
   "outputs": [],
   "source": [
    "# # Stratify folds so that classes always have the same sample ratio\n",
    "skfold = ms.StratifiedKFold(n_splits=10, random_state=0, shuffle=True);"
   ]
  },
  {
   "cell_type": "code",
   "execution_count": 7,
   "metadata": {},
   "outputs": [],
   "source": [
    "def model_results(model,\n",
    "    X_train=X_train, y_train=y_train, X_test=X_test, y_test=y_test):\n",
    "        print(model)\n",
    "        print(recall_score(y_train, model.predict(X_train)))\n",
    "        print(recall_score(y_test, model.predict(X_test)))"
   ]
  },
  {
   "cell_type": "markdown",
   "metadata": {},
   "source": [
    "## Logistic Regression"
   ]
  },
  {
   "cell_type": "markdown",
   "metadata": {},
   "source": [
    "### Models"
   ]
  },
  {
   "cell_type": "code",
   "execution_count": 8,
   "metadata": {},
   "outputs": [
    {
     "name": "stdout",
     "output_type": "stream",
     "text": [
      "LogisticRegressionCV(class_weight='balanced',\n",
      "                     cv=StratifiedKFold(n_splits=10, random_state=0, shuffle=True),\n",
      "                     n_jobs=-1, penalty='l1', random_state=0, scoring='recall',\n",
      "                     solver='liblinear', verbose=1)\n",
      "0.9180790960451978\n",
      "0.9144736842105263\n"
     ]
    },
    {
     "name": "stderr",
     "output_type": "stream",
     "text": [
      "C:\\Users\\sitat\\anaconda3\\lib\\site-packages\\sklearn\\base.py:334: UserWarning: Trying to unpickle estimator LogisticRegressionCV from version 0.22.1 when using version 0.23.2. This might lead to breaking code or invalid results. Use at your own risk.\n",
      "  UserWarning)\n"
     ]
    }
   ],
   "source": [
    "# # baseline model\n",
    "\n",
    "# # L1 penalty for feature selection, liblinear solver faster than saga\n",
    "# logRegCV = \\\n",
    "#     LogisticRegressionCV(penalty='l1', solver='liblinear', cv=skfold,\n",
    "#                          class_weight='balanced', scoring='recall',\n",
    "#                          random_state=0, n_jobs=(-1), verbose=1)\n",
    "\n",
    "# logRegCV.fit(X_train, y_train)\n",
    "\n",
    "# # dump(logRegCV, './data/logRegCV.pkl')\n",
    "\n",
    "logRegCV = load('./data/Iteration_1/logRegCV.pkl')\n",
    "model_results(logRegCV)"
   ]
  },
  {
   "cell_type": "code",
   "execution_count": 9,
   "metadata": {},
   "outputs": [
    {
     "name": "stdout",
     "output_type": "stream",
     "text": [
      "LogisticRegression(C=68.66488450042998, class_weight='balanced', n_jobs=-1,\n",
      "                   penalty='l1', random_state=0, solver='liblinear', verbose=1)\n",
      "0.9152542372881356\n",
      "0.8289473684210527\n"
     ]
    },
    {
     "name": "stderr",
     "output_type": "stream",
     "text": [
      "C:\\Users\\sitat\\anaconda3\\lib\\site-packages\\sklearn\\base.py:334: UserWarning: Trying to unpickle estimator LogisticRegression from version 0.22.1 when using version 0.23.2. This might lead to breaking code or invalid results. Use at your own risk.\n",
      "  UserWarning)\n"
     ]
    }
   ],
   "source": [
    "# # grid search with accuracy scoring metric\n",
    "\n",
    "# logRegGSAccuracy = ms.GridSearchCV(logRegModel, param_grid=params,\n",
    "#                                    cv=skfold, n_jobs=(-1), verbose=1)\n",
    "\n",
    "# logRegAccuracy = logRegGSAccuracy.fit(X_train, y_train)\n",
    "# bestLogRegAccuracy = logRegAccuracy.best_estimator_\n",
    "\n",
    "# # dump(bestLogRegAccuracy, './data/bestLogRegAccuracy.pkl')\n",
    "\n",
    "bestLogRegAccuracy = load('./data/Iteration_1/bestLogRegAccuracy.pkl')\n",
    "model_results(bestLogRegAccuracy)"
   ]
  },
  {
   "cell_type": "code",
   "execution_count": 10,
   "metadata": {
    "scrolled": false
   },
   "outputs": [
    {
     "name": "stdout",
     "output_type": "stream",
     "text": [
      "LogisticRegression(C=0.0655128556859551, class_weight='balanced', n_jobs=-1,\n",
      "                   penalty='l1', random_state=0, solver='liblinear', verbose=1)\n",
      "0.9265536723163842\n",
      "0.9210526315789473\n"
     ]
    },
    {
     "name": "stderr",
     "output_type": "stream",
     "text": [
      "C:\\Users\\sitat\\anaconda3\\lib\\site-packages\\sklearn\\base.py:334: UserWarning: Trying to unpickle estimator LogisticRegression from version 0.22.1 when using version 0.23.2. This might lead to breaking code or invalid results. Use at your own risk.\n",
      "  UserWarning)\n"
     ]
    }
   ],
   "source": [
    "# # grid search with recall scoring metric\n",
    "\n",
    "# # can't use scoring param, need to use recall_score()\n",
    "# logRegModel = \\\n",
    "#     LogisticRegression(penalty='l1', solver='liblinear',\n",
    "#                        class_weight='balanced', random_state=0,\n",
    "#                        n_jobs=(-1), verbose=1)\n",
    "\n",
    "# params = {'C': np.logspace(-2, 2, 50),\n",
    "#           'max_iter': [100, 500, 1000]}\n",
    "\n",
    "# logRegGS = ms.GridSearchCV(logRegModel, param_grid=params,\n",
    "#                            scoring='recall', cv=skfold, verbose=1)\n",
    "\n",
    "# logReg = logRegGS.fit(X_train, y_train)\n",
    "# bestLogReg = logReg.best_estimator_\n",
    "\n",
    "# # dump(bestLogReg, './data/bestLogReg.pkl')\n",
    "\n",
    "bestLogReg = load('./data/Iteration_1/bestLogReg.pkl')\n",
    "model_results(bestLogReg)"
   ]
  },
  {
   "cell_type": "markdown",
   "metadata": {},
   "source": [
    "### Results"
   ]
  },
  {
   "cell_type": "code",
   "execution_count": 11,
   "metadata": {
    "scrolled": true
   },
   "outputs": [
    {
     "data": {
      "text/html": [
       "<div>\n",
       "<style scoped>\n",
       "    .dataframe tbody tr th:only-of-type {\n",
       "        vertical-align: middle;\n",
       "    }\n",
       "\n",
       "    .dataframe tbody tr th {\n",
       "        vertical-align: top;\n",
       "    }\n",
       "\n",
       "    .dataframe thead th {\n",
       "        text-align: right;\n",
       "    }\n",
       "</style>\n",
       "<table border=\"1\" class=\"dataframe\">\n",
       "  <thead>\n",
       "    <tr style=\"text-align: right;\">\n",
       "      <th></th>\n",
       "      <th>Coefficient</th>\n",
       "    </tr>\n",
       "  </thead>\n",
       "  <tbody>\n",
       "    <tr>\n",
       "      <th>PatientsPerOthPhys</th>\n",
       "      <td>7.691565</td>\n",
       "    </tr>\n",
       "    <tr>\n",
       "      <th>Ratio_ClaimsPerPatient</th>\n",
       "      <td>3.215364</td>\n",
       "    </tr>\n",
       "    <tr>\n",
       "      <th>IP_Count_UniquePatients</th>\n",
       "      <td>3.138851</td>\n",
       "    </tr>\n",
       "    <tr>\n",
       "      <th>Perc_Outpatient</th>\n",
       "      <td>1.847467</td>\n",
       "    </tr>\n",
       "    <tr>\n",
       "      <th>DualPatientProvider</th>\n",
       "      <td>1.636980</td>\n",
       "    </tr>\n",
       "    <tr>\n",
       "      <th>OP_Perc_MultHosp</th>\n",
       "      <td>0.674412</td>\n",
       "    </tr>\n",
       "    <tr>\n",
       "      <th>IP_Mean_InsReimbursementRatio</th>\n",
       "      <td>0.379315</td>\n",
       "    </tr>\n",
       "    <tr>\n",
       "      <th>OP_Count_UniqueState</th>\n",
       "      <td>0.228130</td>\n",
       "    </tr>\n",
       "    <tr>\n",
       "      <th>IP_Perc_HeartFailure_Chronic</th>\n",
       "      <td>0.143150</td>\n",
       "    </tr>\n",
       "    <tr>\n",
       "      <th>Perc_MultHospAttPhys</th>\n",
       "      <td>0.057042</td>\n",
       "    </tr>\n",
       "    <tr>\n",
       "      <th>IP_Perc_Depression_Chronic</th>\n",
       "      <td>0.005872</td>\n",
       "    </tr>\n",
       "  </tbody>\n",
       "</table>\n",
       "</div>"
      ],
      "text/plain": [
       "                               Coefficient\n",
       "PatientsPerOthPhys                7.691565\n",
       "Ratio_ClaimsPerPatient            3.215364\n",
       "IP_Count_UniquePatients           3.138851\n",
       "Perc_Outpatient                   1.847467\n",
       "DualPatientProvider               1.636980\n",
       "OP_Perc_MultHosp                  0.674412\n",
       "IP_Mean_InsReimbursementRatio     0.379315\n",
       "OP_Count_UniqueState              0.228130\n",
       "IP_Perc_HeartFailure_Chronic      0.143150\n",
       "Perc_MultHospAttPhys              0.057042\n",
       "IP_Perc_Depression_Chronic        0.005872"
      ]
     },
     "execution_count": 11,
     "metadata": {},
     "output_type": "execute_result"
    }
   ],
   "source": [
    "coefficients = pd.DataFrame(bestLogReg.coef_.T, index=X.columns\n",
    "                           ).rename(columns = {0:'Coefficient'}\n",
    "                           ).abs().sort_values(by='Coefficient',\n",
    "                                               ascending=False)\n",
    "coefficients[coefficients.Coefficient > 0]"
   ]
  },
  {
   "cell_type": "markdown",
   "metadata": {},
   "source": [
    "## Tree Models"
   ]
  },
  {
   "cell_type": "markdown",
   "metadata": {},
   "source": [
    "### Random Forest"
   ]
  },
  {
   "cell_type": "code",
   "execution_count": 31,
   "metadata": {
    "scrolled": false
   },
   "outputs": [
    {
     "name": "stdout",
     "output_type": "stream",
     "text": [
      "RandomForestClassifier(class_weight='balanced', random_state=0)\n",
      "1.0\n",
      "0.4144736842105263\n"
     ]
    },
    {
     "name": "stderr",
     "output_type": "stream",
     "text": [
      "C:\\Users\\sitat\\anaconda3\\lib\\site-packages\\sklearn\\base.py:334: UserWarning: Trying to unpickle estimator DecisionTreeClassifier from version 0.22.1 when using version 0.23.2. This might lead to breaking code or invalid results. Use at your own risk.\n",
      "  UserWarning)\n",
      "C:\\Users\\sitat\\anaconda3\\lib\\site-packages\\sklearn\\base.py:334: UserWarning: Trying to unpickle estimator RandomForestClassifier from version 0.22.1 when using version 0.23.2. This might lead to breaking code or invalid results. Use at your own risk.\n",
      "  UserWarning)\n"
     ]
    }
   ],
   "source": [
    "# max_features default is 'auto' (sqrt(n_features))\n",
    "# class_weight='balanced_subsample' performs better than 'balanced'\n",
    "# randForestModel = \\\n",
    "#     RandomForestClassifier(class_weight='balanced_subsample', random_state=0)\n",
    "\n",
    "# randForestModel.fit(X_train, y_train)\n",
    "\n",
    "# dump(randForestModel, './data/randForestModel.pkl')\n",
    "\n",
    "randForestModel = load('./data/Iteration_1/randForestModel.pkl')\n",
    "model_results(randForestModel)"
   ]
  },
  {
   "cell_type": "code",
   "execution_count": 55,
   "metadata": {
    "scrolled": false
   },
   "outputs": [
    {
     "name": "stdout",
     "output_type": "stream",
     "text": [
      "RandomForestClassifier(class_weight='balanced', max_depth=5.0, max_features=3,\n",
      "                       random_state=0)\n",
      "0.9293785310734464\n",
      "0.9276315789473685\n"
     ]
    },
    {
     "name": "stderr",
     "output_type": "stream",
     "text": [
      "C:\\Users\\sitat\\anaconda3\\lib\\site-packages\\sklearn\\base.py:334: UserWarning: Trying to unpickle estimator DecisionTreeClassifier from version 0.22.1 when using version 0.23.2. This might lead to breaking code or invalid results. Use at your own risk.\n",
      "  UserWarning)\n",
      "C:\\Users\\sitat\\anaconda3\\lib\\site-packages\\sklearn\\base.py:334: UserWarning: Trying to unpickle estimator RandomForestClassifier from version 0.22.1 when using version 0.23.2. This might lead to breaking code or invalid results. Use at your own risk.\n",
      "  UserWarning)\n"
     ]
    }
   ],
   "source": [
    "best_randForest = load('./data/Iteration_1/best_randForest.pkl')\n",
    "model_results(best_randForest)"
   ]
  },
  {
   "cell_type": "code",
   "execution_count": 27,
   "metadata": {},
   "outputs": [
    {
     "name": "stdout",
     "output_type": "stream",
     "text": [
      "RandomForestClassifier(class_weight='balanced_subsample', max_depth=5,\n",
      "                       max_features=3, random_state=0)\n",
      "0.9350282485875706\n",
      "0.881578947368421\n"
     ]
    }
   ],
   "source": [
    "# max_features default is 'auto' (sqrt(n_features))\n",
    "# class_weight='balanced_subsample' performs better than 'balanced'\n",
    "bestRF_bal_sub = \\\n",
    "    RandomForestClassifier(class_weight='balanced_subsample',\n",
    "                           max_depth=5, max_features=3,\n",
    "                           random_state=0)\n",
    "\n",
    "bestRF_bal_sub.fit(X_train, y_train)\n",
    "model_results(bestRF_bal_sub)"
   ]
  },
  {
   "cell_type": "markdown",
   "metadata": {},
   "source": [
    "#### Feature Importances"
   ]
  },
  {
   "cell_type": "code",
   "execution_count": 57,
   "metadata": {
    "scrolled": true
   },
   "outputs": [
    {
     "name": "stdout",
     "output_type": "stream",
     "text": [
      "Top 10: ['IP_Mean_InscClaimAmtReimbursed', 'IP_Mean_ClaimCost', 'IP_Count_UniquePatients', 'PatientsPerAttPhys', 'IP_Mean_AdmitDuration', 'IP_Mean_ClaimDuration', 'PatientsPerOthPhys', 'DualPatientProvider', 'PatientsPerOperPhys', 'IP_Mean_AgeAtClaim']\n"
     ]
    },
    {
     "data": {
      "application/vnd.plotly.v1+json": {
       "config": {
        "plotlyServerURL": "https://plot.ly"
       },
       "data": [
        {
         "alignmentgroup": "True",
         "hovertemplate": "importance=%{x}<br>feature=%{y}<extra></extra>",
         "legendgroup": "",
         "marker": {
          "color": "#636efa"
         },
         "name": "",
         "offsetgroup": "",
         "orientation": "h",
         "showlegend": false,
         "textposition": "auto",
         "type": "bar",
         "x": [
          0.00038094476102217397,
          0.0003932808026995212,
          0.0006751650857891697,
          0.0007084044318835546,
          0.000710047076475943,
          0.0008177028507118612,
          0.0010795592940204195,
          0.001138316830136267,
          0.0015106946148911895,
          0.001568427250995221,
          0.0016120314159818508,
          0.0016971265080323033,
          0.0017693921393017187,
          0.0019821886551384875,
          0.0020316077415333043,
          0.0020665721706406965,
          0.0022289699457574206,
          0.00243677758265371,
          0.00264879803977988,
          0.0027005612265985305,
          0.0027229759892929708,
          0.0027593008446024623,
          0.002820622676261769,
          0.002829169860225621,
          0.0028918554497149927,
          0.0029124637564471073,
          0.0029444381108070694,
          0.0029606902317632546,
          0.003025749606214837,
          0.003094284657342832,
          0.003214099347632503,
          0.0033612117461935937,
          0.003399156743454679,
          0.0037259997837835877,
          0.0037849638311565114,
          0.003928783097814742,
          0.004556020460573979,
          0.004727285202192277,
          0.004821624086690925,
          0.005167226776699389,
          0.005535698157824738,
          0.005893770211352847,
          0.006111300387829941,
          0.00619686840295747,
          0.008366489053623222,
          0.008436580761318082,
          0.008550899856050983,
          0.008777248463577293,
          0.009567761358003463,
          0.011138841145362859,
          0.012130695572155362,
          0.012420478704026329,
          0.013104323217519157,
          0.013619909154975424,
          0.014014612689413347,
          0.014098552949995688,
          0.015011478255908501,
          0.015727561891040857,
          0.016374499303458454,
          0.01640368569737763,
          0.017541054729414893,
          0.01834112031695784,
          0.018372642229467166,
          0.018601609835647542,
          0.019009554457481852,
          0.01902050601045604,
          0.019224396966967556,
          0.019857217968406924,
          0.019967177810408143,
          0.019968280228268624,
          0.020823167389708023,
          0.022992985988215482,
          0.023139603993710522,
          0.02545050119811096,
          0.0258369542344827,
          0.027177201130494422,
          0.029556369978299146,
          0.0297703804121541,
          0.030190803852554158,
          0.030224554613867683,
          0.0302347607384017,
          0.032449069337457344,
          0.03353731590602832,
          0.038424732586192306,
          0.04138596475758561,
          0.047616327412580935
         ],
         "xaxis": "x",
         "y": [
          "IP_Perc_HasNoPhys",
          "IP_Perc_HasDied",
          "OP_Perc_RaceThree",
          "IP_Perc_RaceTwo",
          "OP_Perc_RaceTwo",
          "OP_Perc_RaceOne",
          "Perc_ClaimsPerTopFraudState",
          "IP_Perc_RaceThree",
          "OP_Perc_ObstrPulmonary_Chronic",
          "OP_Perc_GenderZero",
          "OP_Perc_RheumatoidArthritis_Chronic",
          "OP_Mean_InsReimbursementRatio",
          "OP_Perc_Stroke_Chronic",
          "OP_Perc_Diabetes_Chronic",
          "Perc_MultHospOperPhys",
          "OP_Perc_Osteoporosis_Chronic",
          "OP_Perc_KidneyDisease_Chronic",
          "Perc_MultHospOtherPhys",
          "OP_Mean_AgeAtClaim",
          "OP_Perc_Cancer_Chronic",
          "OP_Mean_ClaimCost",
          "IP_Perc_RaceOne",
          "OP_Perc_Alzheimers_Chronic",
          "OP_Perc_Depression_Chronic",
          "OP_Mean_ClaimDuration",
          "OP_Mean_DailyClaimCost",
          "OP_Mean_AnnualReimbursementAmt",
          "Perc_DualPatientType",
          "OP_Perc_HeartFailure_Chronic",
          "OP_Mean_InscClaimAmtReimbursed",
          "OP_Perc_HasRenalDisease",
          "OP_Mean_NumChronicConds",
          "OP_Perc_HasAllPhys",
          "Perc_MultHospAttPhys",
          "OP_Perc_No_DiagCode",
          "OP_Perc_IschemicHeart_Chronic",
          "IP_Perc_HasAllPhys",
          "OP_Perc_Duplicates",
          "OP_Mean_AnnualDeductibleAmt",
          "IP_Mean_NumChronicConds",
          "OP_Mean_NoOfMonths_PartBCov",
          "OP_Perc_MultHosp",
          "IP_Mean_DeductibleAmtPaid",
          "OP_Mean_DeductibleAmtPaid",
          "IP_Mean_AnnualDeductibleAmt",
          "OP_Perc_HasDied",
          "Perc_HasTop5AdmtCode",
          "OP_Perc_HasNoPhys",
          "IP_Perc_Alzheimers_Chronic",
          "IP_Mean_AnnualReimbursementAmt",
          "OP_Mean_NoOfMonths_PartACov",
          "Ratio_ClaimsPerAttPhys",
          "OP_Count_UniqueState",
          "IP_Perc_No_ProcCode",
          "IP_Mean_NoOfMonths_PartACov",
          "IP_Perc_Depression_Chronic",
          "IP_Perc_GenderZero",
          "IP_Mean_InsReimbursementRatio",
          "IP_Perc_Duplicates",
          "IP_Perc_MultHosp",
          "IP_Mean_DailyClaimCost",
          "IP_Count_UniqueState",
          "Perc_Outpatient",
          "IP_Perc_Osteoporosis_Chronic",
          "IP_Perc_HasRenalDisease",
          "IP_Perc_HeartFailure_Chronic",
          "IP_Perc_Stroke_Chronic",
          "IP_Perc_Diabetes_Chronic",
          "Ratio_ClaimsPerPatient",
          "IP_Perc_KidneyDisease_Chronic",
          "IP_Perc_Cancer_Chronic",
          "IP_Mean_NoOfMonths_PartBCov",
          "OP_Count_UniquePatients",
          "IP_Perc_ObstrPulmonary_Chronic",
          "IP_Perc_RheumatoidArthritis_Chronic",
          "IP_Perc_IschemicHeart_Chronic",
          "IP_Mean_AgeAtClaim",
          "PatientsPerOperPhys",
          "DualPatientProvider",
          "PatientsPerOthPhys",
          "IP_Mean_ClaimDuration",
          "IP_Mean_AdmitDuration",
          "PatientsPerAttPhys",
          "IP_Count_UniquePatients",
          "IP_Mean_ClaimCost",
          "IP_Mean_InscClaimAmtReimbursed"
         ],
         "yaxis": "y"
        }
       ],
       "layout": {
        "barmode": "relative",
        "height": 1000,
        "legend": {
         "tracegroupgap": 0
        },
        "margin": {
         "t": 60
        },
        "template": {
         "data": {
          "bar": [
           {
            "error_x": {
             "color": "#2a3f5f"
            },
            "error_y": {
             "color": "#2a3f5f"
            },
            "marker": {
             "line": {
              "color": "#E5ECF6",
              "width": 0.5
             }
            },
            "type": "bar"
           }
          ],
          "barpolar": [
           {
            "marker": {
             "line": {
              "color": "#E5ECF6",
              "width": 0.5
             }
            },
            "type": "barpolar"
           }
          ],
          "carpet": [
           {
            "aaxis": {
             "endlinecolor": "#2a3f5f",
             "gridcolor": "white",
             "linecolor": "white",
             "minorgridcolor": "white",
             "startlinecolor": "#2a3f5f"
            },
            "baxis": {
             "endlinecolor": "#2a3f5f",
             "gridcolor": "white",
             "linecolor": "white",
             "minorgridcolor": "white",
             "startlinecolor": "#2a3f5f"
            },
            "type": "carpet"
           }
          ],
          "choropleth": [
           {
            "colorbar": {
             "outlinewidth": 0,
             "ticks": ""
            },
            "type": "choropleth"
           }
          ],
          "contour": [
           {
            "colorbar": {
             "outlinewidth": 0,
             "ticks": ""
            },
            "colorscale": [
             [
              0,
              "#0d0887"
             ],
             [
              0.1111111111111111,
              "#46039f"
             ],
             [
              0.2222222222222222,
              "#7201a8"
             ],
             [
              0.3333333333333333,
              "#9c179e"
             ],
             [
              0.4444444444444444,
              "#bd3786"
             ],
             [
              0.5555555555555556,
              "#d8576b"
             ],
             [
              0.6666666666666666,
              "#ed7953"
             ],
             [
              0.7777777777777778,
              "#fb9f3a"
             ],
             [
              0.8888888888888888,
              "#fdca26"
             ],
             [
              1,
              "#f0f921"
             ]
            ],
            "type": "contour"
           }
          ],
          "contourcarpet": [
           {
            "colorbar": {
             "outlinewidth": 0,
             "ticks": ""
            },
            "type": "contourcarpet"
           }
          ],
          "heatmap": [
           {
            "colorbar": {
             "outlinewidth": 0,
             "ticks": ""
            },
            "colorscale": [
             [
              0,
              "#0d0887"
             ],
             [
              0.1111111111111111,
              "#46039f"
             ],
             [
              0.2222222222222222,
              "#7201a8"
             ],
             [
              0.3333333333333333,
              "#9c179e"
             ],
             [
              0.4444444444444444,
              "#bd3786"
             ],
             [
              0.5555555555555556,
              "#d8576b"
             ],
             [
              0.6666666666666666,
              "#ed7953"
             ],
             [
              0.7777777777777778,
              "#fb9f3a"
             ],
             [
              0.8888888888888888,
              "#fdca26"
             ],
             [
              1,
              "#f0f921"
             ]
            ],
            "type": "heatmap"
           }
          ],
          "heatmapgl": [
           {
            "colorbar": {
             "outlinewidth": 0,
             "ticks": ""
            },
            "colorscale": [
             [
              0,
              "#0d0887"
             ],
             [
              0.1111111111111111,
              "#46039f"
             ],
             [
              0.2222222222222222,
              "#7201a8"
             ],
             [
              0.3333333333333333,
              "#9c179e"
             ],
             [
              0.4444444444444444,
              "#bd3786"
             ],
             [
              0.5555555555555556,
              "#d8576b"
             ],
             [
              0.6666666666666666,
              "#ed7953"
             ],
             [
              0.7777777777777778,
              "#fb9f3a"
             ],
             [
              0.8888888888888888,
              "#fdca26"
             ],
             [
              1,
              "#f0f921"
             ]
            ],
            "type": "heatmapgl"
           }
          ],
          "histogram": [
           {
            "marker": {
             "colorbar": {
              "outlinewidth": 0,
              "ticks": ""
             }
            },
            "type": "histogram"
           }
          ],
          "histogram2d": [
           {
            "colorbar": {
             "outlinewidth": 0,
             "ticks": ""
            },
            "colorscale": [
             [
              0,
              "#0d0887"
             ],
             [
              0.1111111111111111,
              "#46039f"
             ],
             [
              0.2222222222222222,
              "#7201a8"
             ],
             [
              0.3333333333333333,
              "#9c179e"
             ],
             [
              0.4444444444444444,
              "#bd3786"
             ],
             [
              0.5555555555555556,
              "#d8576b"
             ],
             [
              0.6666666666666666,
              "#ed7953"
             ],
             [
              0.7777777777777778,
              "#fb9f3a"
             ],
             [
              0.8888888888888888,
              "#fdca26"
             ],
             [
              1,
              "#f0f921"
             ]
            ],
            "type": "histogram2d"
           }
          ],
          "histogram2dcontour": [
           {
            "colorbar": {
             "outlinewidth": 0,
             "ticks": ""
            },
            "colorscale": [
             [
              0,
              "#0d0887"
             ],
             [
              0.1111111111111111,
              "#46039f"
             ],
             [
              0.2222222222222222,
              "#7201a8"
             ],
             [
              0.3333333333333333,
              "#9c179e"
             ],
             [
              0.4444444444444444,
              "#bd3786"
             ],
             [
              0.5555555555555556,
              "#d8576b"
             ],
             [
              0.6666666666666666,
              "#ed7953"
             ],
             [
              0.7777777777777778,
              "#fb9f3a"
             ],
             [
              0.8888888888888888,
              "#fdca26"
             ],
             [
              1,
              "#f0f921"
             ]
            ],
            "type": "histogram2dcontour"
           }
          ],
          "mesh3d": [
           {
            "colorbar": {
             "outlinewidth": 0,
             "ticks": ""
            },
            "type": "mesh3d"
           }
          ],
          "parcoords": [
           {
            "line": {
             "colorbar": {
              "outlinewidth": 0,
              "ticks": ""
             }
            },
            "type": "parcoords"
           }
          ],
          "pie": [
           {
            "automargin": true,
            "type": "pie"
           }
          ],
          "scatter": [
           {
            "marker": {
             "colorbar": {
              "outlinewidth": 0,
              "ticks": ""
             }
            },
            "type": "scatter"
           }
          ],
          "scatter3d": [
           {
            "line": {
             "colorbar": {
              "outlinewidth": 0,
              "ticks": ""
             }
            },
            "marker": {
             "colorbar": {
              "outlinewidth": 0,
              "ticks": ""
             }
            },
            "type": "scatter3d"
           }
          ],
          "scattercarpet": [
           {
            "marker": {
             "colorbar": {
              "outlinewidth": 0,
              "ticks": ""
             }
            },
            "type": "scattercarpet"
           }
          ],
          "scattergeo": [
           {
            "marker": {
             "colorbar": {
              "outlinewidth": 0,
              "ticks": ""
             }
            },
            "type": "scattergeo"
           }
          ],
          "scattergl": [
           {
            "marker": {
             "colorbar": {
              "outlinewidth": 0,
              "ticks": ""
             }
            },
            "type": "scattergl"
           }
          ],
          "scattermapbox": [
           {
            "marker": {
             "colorbar": {
              "outlinewidth": 0,
              "ticks": ""
             }
            },
            "type": "scattermapbox"
           }
          ],
          "scatterpolar": [
           {
            "marker": {
             "colorbar": {
              "outlinewidth": 0,
              "ticks": ""
             }
            },
            "type": "scatterpolar"
           }
          ],
          "scatterpolargl": [
           {
            "marker": {
             "colorbar": {
              "outlinewidth": 0,
              "ticks": ""
             }
            },
            "type": "scatterpolargl"
           }
          ],
          "scatterternary": [
           {
            "marker": {
             "colorbar": {
              "outlinewidth": 0,
              "ticks": ""
             }
            },
            "type": "scatterternary"
           }
          ],
          "surface": [
           {
            "colorbar": {
             "outlinewidth": 0,
             "ticks": ""
            },
            "colorscale": [
             [
              0,
              "#0d0887"
             ],
             [
              0.1111111111111111,
              "#46039f"
             ],
             [
              0.2222222222222222,
              "#7201a8"
             ],
             [
              0.3333333333333333,
              "#9c179e"
             ],
             [
              0.4444444444444444,
              "#bd3786"
             ],
             [
              0.5555555555555556,
              "#d8576b"
             ],
             [
              0.6666666666666666,
              "#ed7953"
             ],
             [
              0.7777777777777778,
              "#fb9f3a"
             ],
             [
              0.8888888888888888,
              "#fdca26"
             ],
             [
              1,
              "#f0f921"
             ]
            ],
            "type": "surface"
           }
          ],
          "table": [
           {
            "cells": {
             "fill": {
              "color": "#EBF0F8"
             },
             "line": {
              "color": "white"
             }
            },
            "header": {
             "fill": {
              "color": "#C8D4E3"
             },
             "line": {
              "color": "white"
             }
            },
            "type": "table"
           }
          ]
         },
         "layout": {
          "annotationdefaults": {
           "arrowcolor": "#2a3f5f",
           "arrowhead": 0,
           "arrowwidth": 1
          },
          "coloraxis": {
           "colorbar": {
            "outlinewidth": 0,
            "ticks": ""
           }
          },
          "colorscale": {
           "diverging": [
            [
             0,
             "#8e0152"
            ],
            [
             0.1,
             "#c51b7d"
            ],
            [
             0.2,
             "#de77ae"
            ],
            [
             0.3,
             "#f1b6da"
            ],
            [
             0.4,
             "#fde0ef"
            ],
            [
             0.5,
             "#f7f7f7"
            ],
            [
             0.6,
             "#e6f5d0"
            ],
            [
             0.7,
             "#b8e186"
            ],
            [
             0.8,
             "#7fbc41"
            ],
            [
             0.9,
             "#4d9221"
            ],
            [
             1,
             "#276419"
            ]
           ],
           "sequential": [
            [
             0,
             "#0d0887"
            ],
            [
             0.1111111111111111,
             "#46039f"
            ],
            [
             0.2222222222222222,
             "#7201a8"
            ],
            [
             0.3333333333333333,
             "#9c179e"
            ],
            [
             0.4444444444444444,
             "#bd3786"
            ],
            [
             0.5555555555555556,
             "#d8576b"
            ],
            [
             0.6666666666666666,
             "#ed7953"
            ],
            [
             0.7777777777777778,
             "#fb9f3a"
            ],
            [
             0.8888888888888888,
             "#fdca26"
            ],
            [
             1,
             "#f0f921"
            ]
           ],
           "sequentialminus": [
            [
             0,
             "#0d0887"
            ],
            [
             0.1111111111111111,
             "#46039f"
            ],
            [
             0.2222222222222222,
             "#7201a8"
            ],
            [
             0.3333333333333333,
             "#9c179e"
            ],
            [
             0.4444444444444444,
             "#bd3786"
            ],
            [
             0.5555555555555556,
             "#d8576b"
            ],
            [
             0.6666666666666666,
             "#ed7953"
            ],
            [
             0.7777777777777778,
             "#fb9f3a"
            ],
            [
             0.8888888888888888,
             "#fdca26"
            ],
            [
             1,
             "#f0f921"
            ]
           ]
          },
          "colorway": [
           "#636efa",
           "#EF553B",
           "#00cc96",
           "#ab63fa",
           "#FFA15A",
           "#19d3f3",
           "#FF6692",
           "#B6E880",
           "#FF97FF",
           "#FECB52"
          ],
          "font": {
           "color": "#2a3f5f"
          },
          "geo": {
           "bgcolor": "white",
           "lakecolor": "white",
           "landcolor": "#E5ECF6",
           "showlakes": true,
           "showland": true,
           "subunitcolor": "white"
          },
          "hoverlabel": {
           "align": "left"
          },
          "hovermode": "closest",
          "mapbox": {
           "style": "light"
          },
          "paper_bgcolor": "white",
          "plot_bgcolor": "#E5ECF6",
          "polar": {
           "angularaxis": {
            "gridcolor": "white",
            "linecolor": "white",
            "ticks": ""
           },
           "bgcolor": "#E5ECF6",
           "radialaxis": {
            "gridcolor": "white",
            "linecolor": "white",
            "ticks": ""
           }
          },
          "scene": {
           "xaxis": {
            "backgroundcolor": "#E5ECF6",
            "gridcolor": "white",
            "gridwidth": 2,
            "linecolor": "white",
            "showbackground": true,
            "ticks": "",
            "zerolinecolor": "white"
           },
           "yaxis": {
            "backgroundcolor": "#E5ECF6",
            "gridcolor": "white",
            "gridwidth": 2,
            "linecolor": "white",
            "showbackground": true,
            "ticks": "",
            "zerolinecolor": "white"
           },
           "zaxis": {
            "backgroundcolor": "#E5ECF6",
            "gridcolor": "white",
            "gridwidth": 2,
            "linecolor": "white",
            "showbackground": true,
            "ticks": "",
            "zerolinecolor": "white"
           }
          },
          "shapedefaults": {
           "line": {
            "color": "#2a3f5f"
           }
          },
          "ternary": {
           "aaxis": {
            "gridcolor": "white",
            "linecolor": "white",
            "ticks": ""
           },
           "baxis": {
            "gridcolor": "white",
            "linecolor": "white",
            "ticks": ""
           },
           "bgcolor": "#E5ECF6",
           "caxis": {
            "gridcolor": "white",
            "linecolor": "white",
            "ticks": ""
           }
          },
          "title": {
           "x": 0.05
          },
          "xaxis": {
           "automargin": true,
           "gridcolor": "white",
           "linecolor": "white",
           "ticks": "",
           "title": {
            "standoff": 15
           },
           "zerolinecolor": "white",
           "zerolinewidth": 2
          },
          "yaxis": {
           "automargin": true,
           "gridcolor": "white",
           "linecolor": "white",
           "ticks": "",
           "title": {
            "standoff": 15
           },
           "zerolinecolor": "white",
           "zerolinewidth": 2
          }
         }
        },
        "xaxis": {
         "anchor": "y",
         "domain": [
          0,
          1
         ],
         "title": {
          "text": "importance"
         }
        },
        "yaxis": {
         "anchor": "x",
         "domain": [
          0,
          1
         ],
         "title": {
          "text": "feature"
         }
        }
       }
      },
      "text/html": [
       "<div>\n",
       "        \n",
       "        \n",
       "            <div id=\"a1792334-5dc9-409a-9a1d-1fb2099b3eb2\" class=\"plotly-graph-div\" style=\"height:1000px; width:100%;\"></div>\n",
       "            <script type=\"text/javascript\">\n",
       "                require([\"plotly\"], function(Plotly) {\n",
       "                    window.PLOTLYENV=window.PLOTLYENV || {};\n",
       "                    \n",
       "                if (document.getElementById(\"a1792334-5dc9-409a-9a1d-1fb2099b3eb2\")) {\n",
       "                    Plotly.newPlot(\n",
       "                        'a1792334-5dc9-409a-9a1d-1fb2099b3eb2',\n",
       "                        [{\"alignmentgroup\": \"True\", \"hovertemplate\": \"importance=%{x}<br>feature=%{y}<extra></extra>\", \"legendgroup\": \"\", \"marker\": {\"color\": \"#636efa\"}, \"name\": \"\", \"offsetgroup\": \"\", \"orientation\": \"h\", \"showlegend\": false, \"textposition\": \"auto\", \"type\": \"bar\", \"x\": [0.00038094476102217397, 0.0003932808026995212, 0.0006751650857891697, 0.0007084044318835546, 0.000710047076475943, 0.0008177028507118612, 0.0010795592940204195, 0.001138316830136267, 0.0015106946148911895, 0.001568427250995221, 0.0016120314159818508, 0.0016971265080323033, 0.0017693921393017187, 0.0019821886551384875, 0.0020316077415333043, 0.0020665721706406965, 0.0022289699457574206, 0.00243677758265371, 0.00264879803977988, 0.0027005612265985305, 0.0027229759892929708, 0.0027593008446024623, 0.002820622676261769, 0.002829169860225621, 0.0028918554497149927, 0.0029124637564471073, 0.0029444381108070694, 0.0029606902317632546, 0.003025749606214837, 0.003094284657342832, 0.003214099347632503, 0.0033612117461935937, 0.003399156743454679, 0.0037259997837835877, 0.0037849638311565114, 0.003928783097814742, 0.004556020460573979, 0.004727285202192277, 0.004821624086690925, 0.005167226776699389, 0.005535698157824738, 0.005893770211352847, 0.006111300387829941, 0.00619686840295747, 0.008366489053623222, 0.008436580761318082, 0.008550899856050983, 0.008777248463577293, 0.009567761358003463, 0.011138841145362859, 0.012130695572155362, 0.012420478704026329, 0.013104323217519157, 0.013619909154975424, 0.014014612689413347, 0.014098552949995688, 0.015011478255908501, 0.015727561891040857, 0.016374499303458454, 0.01640368569737763, 0.017541054729414893, 0.01834112031695784, 0.018372642229467166, 0.018601609835647542, 0.019009554457481852, 0.01902050601045604, 0.019224396966967556, 0.019857217968406924, 0.019967177810408143, 0.019968280228268624, 0.020823167389708023, 0.022992985988215482, 0.023139603993710522, 0.02545050119811096, 0.0258369542344827, 0.027177201130494422, 0.029556369978299146, 0.0297703804121541, 0.030190803852554158, 0.030224554613867683, 0.0302347607384017, 0.032449069337457344, 0.03353731590602832, 0.038424732586192306, 0.04138596475758561, 0.047616327412580935], \"xaxis\": \"x\", \"y\": [\"IP_Perc_HasNoPhys\", \"IP_Perc_HasDied\", \"OP_Perc_RaceThree\", \"IP_Perc_RaceTwo\", \"OP_Perc_RaceTwo\", \"OP_Perc_RaceOne\", \"Perc_ClaimsPerTopFraudState\", \"IP_Perc_RaceThree\", \"OP_Perc_ObstrPulmonary_Chronic\", \"OP_Perc_GenderZero\", \"OP_Perc_RheumatoidArthritis_Chronic\", \"OP_Mean_InsReimbursementRatio\", \"OP_Perc_Stroke_Chronic\", \"OP_Perc_Diabetes_Chronic\", \"Perc_MultHospOperPhys\", \"OP_Perc_Osteoporosis_Chronic\", \"OP_Perc_KidneyDisease_Chronic\", \"Perc_MultHospOtherPhys\", \"OP_Mean_AgeAtClaim\", \"OP_Perc_Cancer_Chronic\", \"OP_Mean_ClaimCost\", \"IP_Perc_RaceOne\", \"OP_Perc_Alzheimers_Chronic\", \"OP_Perc_Depression_Chronic\", \"OP_Mean_ClaimDuration\", \"OP_Mean_DailyClaimCost\", \"OP_Mean_AnnualReimbursementAmt\", \"Perc_DualPatientType\", \"OP_Perc_HeartFailure_Chronic\", \"OP_Mean_InscClaimAmtReimbursed\", \"OP_Perc_HasRenalDisease\", \"OP_Mean_NumChronicConds\", \"OP_Perc_HasAllPhys\", \"Perc_MultHospAttPhys\", \"OP_Perc_No_DiagCode\", \"OP_Perc_IschemicHeart_Chronic\", \"IP_Perc_HasAllPhys\", \"OP_Perc_Duplicates\", \"OP_Mean_AnnualDeductibleAmt\", \"IP_Mean_NumChronicConds\", \"OP_Mean_NoOfMonths_PartBCov\", \"OP_Perc_MultHosp\", \"IP_Mean_DeductibleAmtPaid\", \"OP_Mean_DeductibleAmtPaid\", \"IP_Mean_AnnualDeductibleAmt\", \"OP_Perc_HasDied\", \"Perc_HasTop5AdmtCode\", \"OP_Perc_HasNoPhys\", \"IP_Perc_Alzheimers_Chronic\", \"IP_Mean_AnnualReimbursementAmt\", \"OP_Mean_NoOfMonths_PartACov\", \"Ratio_ClaimsPerAttPhys\", \"OP_Count_UniqueState\", \"IP_Perc_No_ProcCode\", \"IP_Mean_NoOfMonths_PartACov\", \"IP_Perc_Depression_Chronic\", \"IP_Perc_GenderZero\", \"IP_Mean_InsReimbursementRatio\", \"IP_Perc_Duplicates\", \"IP_Perc_MultHosp\", \"IP_Mean_DailyClaimCost\", \"IP_Count_UniqueState\", \"Perc_Outpatient\", \"IP_Perc_Osteoporosis_Chronic\", \"IP_Perc_HasRenalDisease\", \"IP_Perc_HeartFailure_Chronic\", \"IP_Perc_Stroke_Chronic\", \"IP_Perc_Diabetes_Chronic\", \"Ratio_ClaimsPerPatient\", \"IP_Perc_KidneyDisease_Chronic\", \"IP_Perc_Cancer_Chronic\", \"IP_Mean_NoOfMonths_PartBCov\", \"OP_Count_UniquePatients\", \"IP_Perc_ObstrPulmonary_Chronic\", \"IP_Perc_RheumatoidArthritis_Chronic\", \"IP_Perc_IschemicHeart_Chronic\", \"IP_Mean_AgeAtClaim\", \"PatientsPerOperPhys\", \"DualPatientProvider\", \"PatientsPerOthPhys\", \"IP_Mean_ClaimDuration\", \"IP_Mean_AdmitDuration\", \"PatientsPerAttPhys\", \"IP_Count_UniquePatients\", \"IP_Mean_ClaimCost\", \"IP_Mean_InscClaimAmtReimbursed\"], \"yaxis\": \"y\"}],\n",
       "                        {\"barmode\": \"relative\", \"height\": 1000, \"legend\": {\"tracegroupgap\": 0}, \"margin\": {\"t\": 60}, \"template\": {\"data\": {\"bar\": [{\"error_x\": {\"color\": \"#2a3f5f\"}, \"error_y\": {\"color\": \"#2a3f5f\"}, \"marker\": {\"line\": {\"color\": \"#E5ECF6\", \"width\": 0.5}}, \"type\": \"bar\"}], \"barpolar\": [{\"marker\": {\"line\": {\"color\": \"#E5ECF6\", \"width\": 0.5}}, \"type\": \"barpolar\"}], \"carpet\": [{\"aaxis\": {\"endlinecolor\": \"#2a3f5f\", \"gridcolor\": \"white\", \"linecolor\": \"white\", \"minorgridcolor\": \"white\", \"startlinecolor\": \"#2a3f5f\"}, \"baxis\": {\"endlinecolor\": \"#2a3f5f\", \"gridcolor\": \"white\", \"linecolor\": \"white\", \"minorgridcolor\": \"white\", \"startlinecolor\": \"#2a3f5f\"}, \"type\": \"carpet\"}], \"choropleth\": [{\"colorbar\": {\"outlinewidth\": 0, \"ticks\": \"\"}, \"type\": \"choropleth\"}], \"contour\": [{\"colorbar\": {\"outlinewidth\": 0, \"ticks\": \"\"}, \"colorscale\": [[0.0, \"#0d0887\"], [0.1111111111111111, \"#46039f\"], [0.2222222222222222, \"#7201a8\"], [0.3333333333333333, \"#9c179e\"], [0.4444444444444444, \"#bd3786\"], [0.5555555555555556, \"#d8576b\"], [0.6666666666666666, \"#ed7953\"], [0.7777777777777778, \"#fb9f3a\"], [0.8888888888888888, \"#fdca26\"], [1.0, \"#f0f921\"]], \"type\": \"contour\"}], \"contourcarpet\": [{\"colorbar\": {\"outlinewidth\": 0, \"ticks\": \"\"}, \"type\": \"contourcarpet\"}], \"heatmap\": [{\"colorbar\": {\"outlinewidth\": 0, \"ticks\": \"\"}, \"colorscale\": [[0.0, \"#0d0887\"], [0.1111111111111111, \"#46039f\"], [0.2222222222222222, \"#7201a8\"], [0.3333333333333333, \"#9c179e\"], [0.4444444444444444, \"#bd3786\"], [0.5555555555555556, \"#d8576b\"], [0.6666666666666666, \"#ed7953\"], [0.7777777777777778, \"#fb9f3a\"], [0.8888888888888888, \"#fdca26\"], [1.0, \"#f0f921\"]], \"type\": \"heatmap\"}], \"heatmapgl\": [{\"colorbar\": {\"outlinewidth\": 0, \"ticks\": \"\"}, \"colorscale\": [[0.0, \"#0d0887\"], [0.1111111111111111, \"#46039f\"], [0.2222222222222222, \"#7201a8\"], [0.3333333333333333, \"#9c179e\"], [0.4444444444444444, \"#bd3786\"], [0.5555555555555556, \"#d8576b\"], [0.6666666666666666, \"#ed7953\"], [0.7777777777777778, \"#fb9f3a\"], [0.8888888888888888, \"#fdca26\"], [1.0, \"#f0f921\"]], \"type\": \"heatmapgl\"}], \"histogram\": [{\"marker\": {\"colorbar\": {\"outlinewidth\": 0, \"ticks\": \"\"}}, \"type\": \"histogram\"}], \"histogram2d\": [{\"colorbar\": {\"outlinewidth\": 0, \"ticks\": \"\"}, \"colorscale\": [[0.0, \"#0d0887\"], [0.1111111111111111, \"#46039f\"], [0.2222222222222222, \"#7201a8\"], [0.3333333333333333, \"#9c179e\"], [0.4444444444444444, \"#bd3786\"], [0.5555555555555556, \"#d8576b\"], [0.6666666666666666, \"#ed7953\"], [0.7777777777777778, \"#fb9f3a\"], [0.8888888888888888, \"#fdca26\"], [1.0, \"#f0f921\"]], \"type\": \"histogram2d\"}], \"histogram2dcontour\": [{\"colorbar\": {\"outlinewidth\": 0, \"ticks\": \"\"}, \"colorscale\": [[0.0, \"#0d0887\"], [0.1111111111111111, \"#46039f\"], [0.2222222222222222, \"#7201a8\"], [0.3333333333333333, \"#9c179e\"], [0.4444444444444444, \"#bd3786\"], [0.5555555555555556, \"#d8576b\"], [0.6666666666666666, \"#ed7953\"], [0.7777777777777778, \"#fb9f3a\"], [0.8888888888888888, \"#fdca26\"], [1.0, \"#f0f921\"]], \"type\": \"histogram2dcontour\"}], \"mesh3d\": [{\"colorbar\": {\"outlinewidth\": 0, \"ticks\": \"\"}, \"type\": \"mesh3d\"}], \"parcoords\": [{\"line\": {\"colorbar\": {\"outlinewidth\": 0, \"ticks\": \"\"}}, \"type\": \"parcoords\"}], \"pie\": [{\"automargin\": true, \"type\": \"pie\"}], \"scatter\": [{\"marker\": {\"colorbar\": {\"outlinewidth\": 0, \"ticks\": \"\"}}, \"type\": \"scatter\"}], \"scatter3d\": [{\"line\": {\"colorbar\": {\"outlinewidth\": 0, \"ticks\": \"\"}}, \"marker\": {\"colorbar\": {\"outlinewidth\": 0, \"ticks\": \"\"}}, \"type\": \"scatter3d\"}], \"scattercarpet\": [{\"marker\": {\"colorbar\": {\"outlinewidth\": 0, \"ticks\": \"\"}}, \"type\": \"scattercarpet\"}], \"scattergeo\": [{\"marker\": {\"colorbar\": {\"outlinewidth\": 0, \"ticks\": \"\"}}, \"type\": \"scattergeo\"}], \"scattergl\": [{\"marker\": {\"colorbar\": {\"outlinewidth\": 0, \"ticks\": \"\"}}, \"type\": \"scattergl\"}], \"scattermapbox\": [{\"marker\": {\"colorbar\": {\"outlinewidth\": 0, \"ticks\": \"\"}}, \"type\": \"scattermapbox\"}], \"scatterpolar\": [{\"marker\": {\"colorbar\": {\"outlinewidth\": 0, \"ticks\": \"\"}}, \"type\": \"scatterpolar\"}], \"scatterpolargl\": [{\"marker\": {\"colorbar\": {\"outlinewidth\": 0, \"ticks\": \"\"}}, \"type\": \"scatterpolargl\"}], \"scatterternary\": [{\"marker\": {\"colorbar\": {\"outlinewidth\": 0, \"ticks\": \"\"}}, \"type\": \"scatterternary\"}], \"surface\": [{\"colorbar\": {\"outlinewidth\": 0, \"ticks\": \"\"}, \"colorscale\": [[0.0, \"#0d0887\"], [0.1111111111111111, \"#46039f\"], [0.2222222222222222, \"#7201a8\"], [0.3333333333333333, \"#9c179e\"], [0.4444444444444444, \"#bd3786\"], [0.5555555555555556, \"#d8576b\"], [0.6666666666666666, \"#ed7953\"], [0.7777777777777778, \"#fb9f3a\"], [0.8888888888888888, \"#fdca26\"], [1.0, \"#f0f921\"]], \"type\": \"surface\"}], \"table\": [{\"cells\": {\"fill\": {\"color\": \"#EBF0F8\"}, \"line\": {\"color\": \"white\"}}, \"header\": {\"fill\": {\"color\": \"#C8D4E3\"}, \"line\": {\"color\": \"white\"}}, \"type\": \"table\"}]}, \"layout\": {\"annotationdefaults\": {\"arrowcolor\": \"#2a3f5f\", \"arrowhead\": 0, \"arrowwidth\": 1}, \"coloraxis\": {\"colorbar\": {\"outlinewidth\": 0, \"ticks\": \"\"}}, \"colorscale\": {\"diverging\": [[0, \"#8e0152\"], [0.1, \"#c51b7d\"], [0.2, \"#de77ae\"], [0.3, \"#f1b6da\"], [0.4, \"#fde0ef\"], [0.5, \"#f7f7f7\"], [0.6, \"#e6f5d0\"], [0.7, \"#b8e186\"], [0.8, \"#7fbc41\"], [0.9, \"#4d9221\"], [1, \"#276419\"]], \"sequential\": [[0.0, \"#0d0887\"], [0.1111111111111111, \"#46039f\"], [0.2222222222222222, \"#7201a8\"], [0.3333333333333333, \"#9c179e\"], [0.4444444444444444, \"#bd3786\"], [0.5555555555555556, \"#d8576b\"], [0.6666666666666666, \"#ed7953\"], [0.7777777777777778, \"#fb9f3a\"], [0.8888888888888888, \"#fdca26\"], [1.0, \"#f0f921\"]], \"sequentialminus\": [[0.0, \"#0d0887\"], [0.1111111111111111, \"#46039f\"], [0.2222222222222222, \"#7201a8\"], [0.3333333333333333, \"#9c179e\"], [0.4444444444444444, \"#bd3786\"], [0.5555555555555556, \"#d8576b\"], [0.6666666666666666, \"#ed7953\"], [0.7777777777777778, \"#fb9f3a\"], [0.8888888888888888, \"#fdca26\"], [1.0, \"#f0f921\"]]}, \"colorway\": [\"#636efa\", \"#EF553B\", \"#00cc96\", \"#ab63fa\", \"#FFA15A\", \"#19d3f3\", \"#FF6692\", \"#B6E880\", \"#FF97FF\", \"#FECB52\"], \"font\": {\"color\": \"#2a3f5f\"}, \"geo\": {\"bgcolor\": \"white\", \"lakecolor\": \"white\", \"landcolor\": \"#E5ECF6\", \"showlakes\": true, \"showland\": true, \"subunitcolor\": \"white\"}, \"hoverlabel\": {\"align\": \"left\"}, \"hovermode\": \"closest\", \"mapbox\": {\"style\": \"light\"}, \"paper_bgcolor\": \"white\", \"plot_bgcolor\": \"#E5ECF6\", \"polar\": {\"angularaxis\": {\"gridcolor\": \"white\", \"linecolor\": \"white\", \"ticks\": \"\"}, \"bgcolor\": \"#E5ECF6\", \"radialaxis\": {\"gridcolor\": \"white\", \"linecolor\": \"white\", \"ticks\": \"\"}}, \"scene\": {\"xaxis\": {\"backgroundcolor\": \"#E5ECF6\", \"gridcolor\": \"white\", \"gridwidth\": 2, \"linecolor\": \"white\", \"showbackground\": true, \"ticks\": \"\", \"zerolinecolor\": \"white\"}, \"yaxis\": {\"backgroundcolor\": \"#E5ECF6\", \"gridcolor\": \"white\", \"gridwidth\": 2, \"linecolor\": \"white\", \"showbackground\": true, \"ticks\": \"\", \"zerolinecolor\": \"white\"}, \"zaxis\": {\"backgroundcolor\": \"#E5ECF6\", \"gridcolor\": \"white\", \"gridwidth\": 2, \"linecolor\": \"white\", \"showbackground\": true, \"ticks\": \"\", \"zerolinecolor\": \"white\"}}, \"shapedefaults\": {\"line\": {\"color\": \"#2a3f5f\"}}, \"ternary\": {\"aaxis\": {\"gridcolor\": \"white\", \"linecolor\": \"white\", \"ticks\": \"\"}, \"baxis\": {\"gridcolor\": \"white\", \"linecolor\": \"white\", \"ticks\": \"\"}, \"bgcolor\": \"#E5ECF6\", \"caxis\": {\"gridcolor\": \"white\", \"linecolor\": \"white\", \"ticks\": \"\"}}, \"title\": {\"x\": 0.05}, \"xaxis\": {\"automargin\": true, \"gridcolor\": \"white\", \"linecolor\": \"white\", \"ticks\": \"\", \"title\": {\"standoff\": 15}, \"zerolinecolor\": \"white\", \"zerolinewidth\": 2}, \"yaxis\": {\"automargin\": true, \"gridcolor\": \"white\", \"linecolor\": \"white\", \"ticks\": \"\", \"title\": {\"standoff\": 15}, \"zerolinecolor\": \"white\", \"zerolinewidth\": 2}}}, \"xaxis\": {\"anchor\": \"y\", \"domain\": [0.0, 1.0], \"title\": {\"text\": \"importance\"}}, \"yaxis\": {\"anchor\": \"x\", \"domain\": [0.0, 1.0], \"title\": {\"text\": \"feature\"}}},\n",
       "                        {\"responsive\": true}\n",
       "                    ).then(function(){\n",
       "                            \n",
       "var gd = document.getElementById('a1792334-5dc9-409a-9a1d-1fb2099b3eb2');\n",
       "var x = new MutationObserver(function (mutations, observer) {{\n",
       "        var display = window.getComputedStyle(gd).display;\n",
       "        if (!display || display === 'none') {{\n",
       "            console.log([gd, 'removed!']);\n",
       "            Plotly.purge(gd);\n",
       "            observer.disconnect();\n",
       "        }}\n",
       "}});\n",
       "\n",
       "// Listen for the removal of the full notebook cells\n",
       "var notebookContainer = gd.closest('#notebook-container');\n",
       "if (notebookContainer) {{\n",
       "    x.observe(notebookContainer, {childList: true});\n",
       "}}\n",
       "\n",
       "// Listen for the clearing of the current output cell\n",
       "var outputEl = gd.closest('.output');\n",
       "if (outputEl) {{\n",
       "    x.observe(outputEl, {childList: true});\n",
       "}}\n",
       "\n",
       "                        })\n",
       "                };\n",
       "                });\n",
       "            </script>\n",
       "        </div>"
      ]
     },
     "metadata": {},
     "output_type": "display_data"
    }
   ],
   "source": [
    "def feature_importances(model):\n",
    "    df = pd.DataFrame({'feature': np.array(X.columns),\n",
    "                       'importance': model.feature_importances_}\n",
    "                     ).sort_values('importance')\n",
    "    print('Top 10:', df.sort_values('importance', ascending=False\n",
    "                                   ).feature.head(10).to_list())\n",
    "    return px.bar(df, 'importance', 'feature', height=1000)\n",
    "feature_importances(best_randForest)"
   ]
  },
  {
   "cell_type": "markdown",
   "metadata": {},
   "source": [
    "#### Grid Searches"
   ]
  },
  {
   "cell_type": "code",
   "execution_count": 35,
   "metadata": {
    "scrolled": false
   },
   "outputs": [],
   "source": [
    "# params = {'n_estimators': [100, 500, 750],\n",
    "#           'max_depth': [2, 5, 8],\n",
    "#           'max_features': [2, 3, 5]}\n",
    "\n",
    "# randForestGS = ms.GridSearchCV(randForestModel, param_grid=params,\n",
    "#                                     scoring='recall', cv=skfold,\n",
    "#                                     n_jobs=(-1), verbose=1)\n",
    "\n",
    "# randForest = randForestGS.fit(X_train, y_train)\n",
    "\n",
    "# bestRandForest = randForest.best_estimator_\n",
    "# dump(bestRandForest, './data/Iteration_1/bestRandForest.pkl')"
   ]
  },
  {
   "cell_type": "code",
   "execution_count": 16,
   "metadata": {},
   "outputs": [],
   "source": [
    "# 70/30 train/test split, MinMaxScaler(), skf=10\n",
    "\n",
    "# params = {'n_estimators': [100, 500, 1500],\n",
    "#           'max_depth': [2, 5, 8]}\n",
    "# RandomForestClassifier(class_weight='balanced', max_depth=2, n_estimators=500,\n",
    "#                        random_state=0)\n",
    "# 0.8870056497175142\n",
    "# 0.875\n",
    "# RandomForestClassifier(class_weight='balanced_subsample', max_depth=2,\n",
    "#                        n_estimators=500, random_state=0)\n",
    "# 0.884180790960452\n",
    "# 0.875\n",
    "\n",
    "# params = {'n_estimators': [100, 500, 750],\n",
    "#           'max_depth': [2, 5, 8],\n",
    "#           'min_samples_split': [2, 3, 5]}\n",
    "# RandomForestClassifier(class_weight='balanced', max_depth=2, n_estimators=500,\n",
    "#                        random_state=0)\n",
    "# 0.8870056497175142\n",
    "# 0.875\n",
    "# RandomForestClassifier(class_weight='balanced_subsample', max_depth=2,\n",
    "#                        n_estimators=500, random_state=0)\n",
    "# 0.884180790960452\n",
    "# 0.875\n",
    "\n",
    "# params = {'n_estimators': [100, 500, 750],\n",
    "#           'max_depth': [2, 5, 8],\n",
    "#           'max_features': [2, 3, 5]}\n",
    "# RandomForestClassifier(class_weight='balanced', max_depth=2, max_features=3,\n",
    "#                        random_state=0)\n",
    "# 0.8615819209039548\n",
    "# 0.8618421052631579\n",
    "# RandomForestClassifier(class_weight='balanced_subsample', max_depth=2,\n",
    "#                        max_features=3, random_state=0)\n",
    "# 0.8615819209039548\n",
    "# 0.8618421052631579\n",
    "\n",
    "\n",
    "\n",
    "# 90/10 train/test split, MinMaxScaler, skfold=10\n",
    "# params = {'n_estimators': [100, 500, 750],\n",
    "#           'max_depth': [2, 5, 8],\n",
    "#           'max_features': [2, 3, 5]}\n",
    "# RandomForestClassifier(class_weight='balanced', max_depth=2, max_features=2,\n",
    "#                        n_estimators=750, random_state=0)\n",
    "# 0.8637362637362638\n",
    "# 0.8235294117647058\n",
    "# RandomForestClassifier(class_weight='balanced_subsample', max_depth=2,\n",
    "#                        max_features=2, n_estimators=750, random_state=0)\n",
    "# 0.8637362637362638\n",
    "# 0.8235294117647058"
   ]
  },
  {
   "cell_type": "markdown",
   "metadata": {},
   "source": [
    "### Gradient Boosting"
   ]
  },
  {
   "cell_type": "markdown",
   "metadata": {},
   "source": [
    "#### Upsampling"
   ]
  },
  {
   "cell_type": "code",
   "execution_count": 18,
   "metadata": {},
   "outputs": [],
   "source": [
    "oversample = imblearn.over_sampling.SMOTE(random_state=0)\n",
    "X_train_SMOTE, y_train_SMOTE = oversample.fit_resample(X_train, y_train)"
   ]
  },
  {
   "cell_type": "markdown",
   "metadata": {},
   "source": [
    "#### Models"
   ]
  },
  {
   "cell_type": "code",
   "execution_count": 79,
   "metadata": {
    "scrolled": true
   },
   "outputs": [
    {
     "name": "stdout",
     "output_type": "stream",
     "text": [
      "GradientBoostingClassifier(max_features='auto', random_state=0)\n",
      "0.847457627118644\n",
      "0.743421052631579\n"
     ]
    }
   ],
   "source": [
    "gradBoostModel = \\\n",
    "    GradientBoostingClassifier(max_features='auto', random_state=0)\n",
    "\n",
    "gradBoostModel.fit(X_train_SMOTE, y_train_SMOTE)\n",
    "# dump(gradBoostModel, './data/gradBoostModel.pkl')\n",
    "\n",
    "# gradBoostModel = load('./data/Iteration_1/gradBoostModel.pkl')\n",
    "model_results(gradBoostModel)"
   ]
  },
  {
   "cell_type": "code",
   "execution_count": 20,
   "metadata": {
    "scrolled": false
   },
   "outputs": [
    {
     "name": "stdout",
     "output_type": "stream",
     "text": [
      "GradientBoostingClassifier(max_depth=9, max_features=1, min_samples_leaf=3,\n",
      "                           n_estimators=1000, random_state=0)\n",
      "1.0\n",
      "0.5986842105263158\n"
     ]
    }
   ],
   "source": [
    "# params = {'n_estimators': [100, 1000, 5000],\n",
    "#           'learning_rate':[0.05, 0.1, 0.5],\n",
    "#           'min_samples_leaf': [1, 3, 5],\n",
    "#           'max_depth': np.arange(1, 20, 8),\n",
    "#           'max_features' : np.arange(1, 20, 8)}\n",
    "\n",
    "# gradBoostGS = ms.GridSearchCV(gradBoostModel, param_grid=params,\n",
    "#                                     scoring='recall', cv=skfold,\n",
    "#                                     n_jobs=-1, verbose=1)\n",
    "\n",
    "# gradBoost = gradBoostGS.fit(X_train_SMOTE, y_train_SMOTE)\n",
    "\n",
    "# bestGradBoost = gradBoost.best_estimator_\n",
    "# dump(bestGradBoost, './data/bestGradBoost.pkl')\n",
    "\n",
    "bestGradBoost = load('./data/Iteration_1/bestGradBoost.pkl')\n",
    "model_results(bestGradBoost)"
   ]
  },
  {
   "cell_type": "code",
   "execution_count": 21,
   "metadata": {
    "scrolled": false
   },
   "outputs": [
    {
     "name": "stdout",
     "output_type": "stream",
     "text": [
      "GradientBoostingClassifier(learning_rate=0.01, max_depth=11,\n",
      "                           max_features='auto', min_samples_leaf=2,\n",
      "                           min_samples_split=6, n_estimators=2500,\n",
      "                           random_state=0)\n",
      "1.0\n",
      "0.625\n"
     ]
    }
   ],
   "source": [
    "# params = {'n_estimators': [100,500,1000,2500,5000,6000],\n",
    "#                 'learning_rate':[0.01,0.05,0.08,0.1, 0.25],\n",
    "#                 'max_depth': np.arange(2, 21, 3),\n",
    "#                 'min_samples_split': np.arange(2, 13, 2),\n",
    "#                 'min_samples_leaf' : np.arange(2, 13, 2)}\n",
    "\n",
    "# gradBoostRS = ms.RandomizedSearchCV(gradBoostModel,\n",
    "#                                     param_distributions=params,\n",
    "#                                     cv=skfold, scoring = 'recall',\n",
    "#                                     return_train_score = True,\n",
    "#                                     verbose=1, n_jobs=(-1))\n",
    "# gradBoostRSfit = gradBoostRS.fit(X_train_SMOTE, y_train_SMOTE)\n",
    "\n",
    "# bestGradBoostRS = gradBoostRSfit.best_estimator_\n",
    "# dump(bestGradBoostRS, './data/bestGradBoostRS.pkl')\n",
    "\n",
    "bestGradBoostRS = load('./data/Iteration_1/bestGradBoostRS.pkl')\n",
    "model_results(bestGradBoostRS)"
   ]
  },
  {
   "cell_type": "markdown",
   "metadata": {},
   "source": [
    "## Support Vector Machine"
   ]
  },
  {
   "cell_type": "code",
   "execution_count": 179,
   "metadata": {},
   "outputs": [
    {
     "name": "stdout",
     "output_type": "stream",
     "text": [
      "SVC(class_weight='balanced', random_state=0)\n",
      "0.9378531073446328\n",
      "0.9210526315789473\n"
     ]
    }
   ],
   "source": [
    "svmModel = SVC(random_state = 0, class_weight = 'balanced')\n",
    "\n",
    "svmFit = svmModel.fit(X_train, y_train)\n",
    "model_results(svmModel)"
   ]
  },
  {
   "cell_type": "code",
   "execution_count": 178,
   "metadata": {
    "scrolled": true
   },
   "outputs": [
    {
     "name": "stdout",
     "output_type": "stream",
     "text": [
      "Fitting 10 folds for each of 50 candidates, totalling 500 fits\n"
     ]
    },
    {
     "name": "stderr",
     "output_type": "stream",
     "text": [
      "[Parallel(n_jobs=-1)]: Using backend LokyBackend with 8 concurrent workers.\n",
      "[Parallel(n_jobs=-1)]: Done  34 tasks      | elapsed:   16.9s\n",
      "[Parallel(n_jobs=-1)]: Done 184 tasks      | elapsed:   55.5s\n",
      "[Parallel(n_jobs=-1)]: Done 434 tasks      | elapsed:  1.6min\n",
      "[Parallel(n_jobs=-1)]: Done 500 out of 500 | elapsed:  1.7min finished\n"
     ]
    },
    {
     "name": "stdout",
     "output_type": "stream",
     "text": [
      "SVC(C=0.22229964825261955, class_weight='balanced', random_state=0)\n",
      "0.9293785310734464\n",
      "0.9210526315789473\n"
     ]
    }
   ],
   "source": [
    "# params = {'C': np.logspace(-3, 2, 50)}\n",
    "\n",
    "# svmGS = ms.GridSearchCV(svmModel, param_grid=params, scoring='recall',\n",
    "#                         cv=skfold, n_jobs=(-1), verbose=1).fit(X_train, y_train)\n",
    "\n",
    "# bestSVM = svmGS.best_estimator_\n",
    "# dump(bestSVM, './data/Iteration_1/bestSVM.pkl')\n",
    "\n",
    "bestSVM = load('./data/Iteration_1/bestSVM.pkl')\n",
    "model_results(bestSVM)"
   ]
  },
  {
   "cell_type": "markdown",
   "metadata": {},
   "source": [
    "Gaussian Naive Bayes"
   ]
  },
  {
   "cell_type": "code",
   "execution_count": 175,
   "metadata": {},
   "outputs": [
    {
     "name": "stdout",
     "output_type": "stream",
     "text": [
      "GaussianNB()\n",
      "0.8559322033898306\n",
      "0.8289473684210527\n"
     ]
    }
   ],
   "source": [
    "# # baseline model\n",
    "nbModel = GaussianNB()\n",
    "\n",
    "gnbFit = gnbModel.fit(X_train, y_train)\n",
    "model_results(gnbFit)"
   ]
  },
  {
   "cell_type": "code",
   "execution_count": 177,
   "metadata": {},
   "outputs": [
    {
     "name": "stdout",
     "output_type": "stream",
     "text": [
      "Fitting 10 folds for each of 3 candidates, totalling 30 fits\n"
     ]
    },
    {
     "name": "stderr",
     "output_type": "stream",
     "text": [
      "[Parallel(n_jobs=-1)]: Using backend LokyBackend with 8 concurrent workers.\n",
      "[Parallel(n_jobs=-1)]: Done  30 out of  30 | elapsed:    0.1s finished\n"
     ]
    },
    {
     "name": "stdout",
     "output_type": "stream",
     "text": [
      "GaussianNB(var_smoothing=0.01)\n",
      "0.9096045197740112\n",
      "0.9013157894736842\n"
     ]
    }
   ],
   "source": [
    "# # grid search\n",
    "# params = {'var_smoothing': [0.001, 0.01, 0.1]}\n",
    "\n",
    "# gnbModelGS = ms.GridSearchCV(gnbModel, param_grid=params,\n",
    "#                              scoring='recall', cv=skfold,\n",
    "#                              n_jobs=(-1), verbose=1\n",
    "#                             ).fit(X_train, y_train)\n",
    "\n",
    "# bestGNB = gnbModelGS.best_estimator_\n",
    "# dump(bestGNB, './data/Iteration_1/bestGNB.pkl')\n",
    "\n",
    "bestGNB = load('./data/Iteration_1/bestGNB.pkl')\n",
    "model_results(bestGNB)"
   ]
  }
 ],
 "metadata": {
  "kernelspec": {
   "display_name": "Python 3",
   "language": "python",
   "name": "python3"
  },
  "language_info": {
   "codemirror_mode": {
    "name": "ipython",
    "version": 3
   },
   "file_extension": ".py",
   "mimetype": "text/x-python",
   "name": "python",
   "nbconvert_exporter": "python",
   "pygments_lexer": "ipython3",
   "version": "3.7.6"
  },
  "toc": {
   "base_numbering": 1,
   "nav_menu": {},
   "number_sections": true,
   "sideBar": true,
   "skip_h1_title": true,
   "title_cell": "Table of Contents",
   "title_sidebar": "Contents",
   "toc_cell": false,
   "toc_position": {
    "height": "calc(100% - 180px)",
    "left": "10px",
    "top": "150px",
    "width": "165px"
   },
   "toc_section_display": true,
   "toc_window_display": true
  }
 },
 "nbformat": 4,
 "nbformat_minor": 4
}
