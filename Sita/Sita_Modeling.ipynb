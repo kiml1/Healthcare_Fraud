{
 "cells": [
  {
   "cell_type": "markdown",
   "metadata": {},
   "source": [
    "## Setup and Data Import"
   ]
  },
  {
   "cell_type": "code",
   "execution_count": 1,
   "metadata": {},
   "outputs": [],
   "source": [
    "import sys\n",
    "sys.path.insert(0, '..')\n",
    "\n",
    "from joblib import dump, load\n",
    "\n",
    "import numpy as np\n",
    "\n",
    "import pandas as pd\n",
    "pd.set_option('display.max_columns', None)\n",
    "\n",
    "import sklearn.model_selection as ms\n",
    "from sklearn import preprocessing as pp\n",
    "from sklearn.linear_model import \\\n",
    "    LogisticRegressionCV, LogisticRegression\n",
    "from sklearn.ensemble import \\\n",
    "    RandomForestClassifier, GradientBoostingClassifier\n",
    "from sklearn.metrics import recall_score"
   ]
  },
  {
   "cell_type": "code",
   "execution_count": 2,
   "metadata": {},
   "outputs": [],
   "source": [
    "providers = load('./data/Providers_Final.pkl')\n",
    "providers.set_index('Provider', inplace=True)"
   ]
  },
  {
   "cell_type": "code",
   "execution_count": 3,
   "metadata": {},
   "outputs": [],
   "source": [
    "X = providers.drop('PotentialFraud', axis=1)\n",
    "y = providers.PotentialFraud"
   ]
  },
  {
   "cell_type": "markdown",
   "metadata": {},
   "source": [
    "## Pre-processing"
   ]
  },
  {
   "cell_type": "code",
   "execution_count": 4,
   "metadata": {},
   "outputs": [],
   "source": [
    "X_train, X_test, y_train, y_test = ms.train_test_split(\n",
    "    X, y, test_size = 0.3, random_state = 0, stratify=y)\n",
    "\n",
    "# # 70/30 split gives roughly the same baseline model results\n",
    "# # but saves grid_search time"
   ]
  },
  {
   "cell_type": "code",
   "execution_count": 5,
   "metadata": {},
   "outputs": [],
   "source": [
    "# # Scale only the training data to avoid data leakage\n",
    "scaler = pp.MinMaxScaler()\n",
    "\n",
    "X_train = pd.DataFrame(scaler.fit_transform(X_train), columns=X.columns)\n",
    "X_test = pd.DataFrame(scaler.transform(X_test), columns=X.columns)"
   ]
  },
  {
   "cell_type": "markdown",
   "metadata": {},
   "source": [
    "## Modeling"
   ]
  },
  {
   "cell_type": "code",
   "execution_count": 6,
   "metadata": {},
   "outputs": [],
   "source": [
    "# # Stratify folds so that classes always have the same sample ratio\n",
    "skfold = ms.StratifiedKFold(n_splits=10, random_state=0, shuffle=True);"
   ]
  },
  {
   "cell_type": "markdown",
   "metadata": {},
   "source": [
    "### Logistic Regression"
   ]
  },
  {
   "cell_type": "code",
   "execution_count": 12,
   "metadata": {},
   "outputs": [
    {
     "name": "stdout",
     "output_type": "stream",
     "text": [
      "0.9180790960451978\n",
      "0.9144736842105263\n"
     ]
    }
   ],
   "source": [
    "# # baseline model\n",
    "\n",
    "# # L1 penalty for feature selection, liblinear solver faster than saga\n",
    "# logRegCV = \\\n",
    "#     LogisticRegressionCV(penalty='l1', solver='liblinear', cv=skfold,\n",
    "#                          class_weight='balanced', scoring='recall',\n",
    "#                          random_state=0, n_jobs=(-1), verbose=1)\n",
    "\n",
    "# logRegCV.fit(X_train, y_train)\n",
    "\n",
    "# # dump(logRegCV, './data/logRegCV.pkl')\n",
    "logRegCV = load('./data/logRegCV.pkl')\n",
    "\n",
    "print(logRegCV.score(X_train, y_train))\n",
    "print(logRegCV.score(X_test, y_test))\n",
    "# recall_score() gives the same results"
   ]
  },
  {
   "cell_type": "code",
   "execution_count": 10,
   "metadata": {},
   "outputs": [
    {
     "name": "stdout",
     "output_type": "stream",
     "text": [
      "LogisticRegression(C=68.66488450042998, class_weight='balanced', dual=False,\n",
      "                   fit_intercept=True, intercept_scaling=1, l1_ratio=None,\n",
      "                   max_iter=100, multi_class='auto', n_jobs=-1, penalty='l1',\n",
      "                   random_state=0, solver='liblinear', tol=0.0001, verbose=1,\n",
      "                   warm_start=False)\n",
      "0.8698177977290732\n",
      "0.8644485520640789\n",
      "0.9152542372881356\n",
      "0.8289473684210527\n"
     ]
    }
   ],
   "source": [
    "# # grid search with accuracy scoring metric\n",
    "\n",
    "# logRegGSAccuracy = ms.GridSearchCV(logRegModel, param_grid=params,\n",
    "#                                    cv=skfold, n_jobs=(-1), verbose=1)\n",
    "\n",
    "# logRegAccuracy = logRegGSAccuracy.fit(X_train, y_train)\n",
    "# bestLogRegAccuracy = logRegAccuracy.best_estimator_\n",
    "\n",
    "# # dump(bestLogRegAccuracy, './data/bestLogRegAccuracy.pkl')\n",
    "bestLogRegAccuracy = load('./data/bestLogRegAccuracy.pkl')\n",
    "\n",
    "print(bestLogRegAccuracy)\n",
    "print(bestLogRegAccuracy.score(X_train, y_train))\n",
    "print(bestLogRegAccuracy.score(X_test, y_test))\n",
    "print(recall_score(y_train, bestLogRegAccuracy.predict(X_train)))\n",
    "print(recall_score(y_test, bestLogRegAccuracy.predict(X_test)))\n",
    "\n",
    "# 0.8698177977290732\n",
    "# 0.8644485520640789\n",
    "# 0.9152542372881356\n",
    "# 0.8289473684210527"
   ]
  },
  {
   "cell_type": "code",
   "execution_count": 11,
   "metadata": {
    "scrolled": true
   },
   "outputs": [
    {
     "name": "stdout",
     "output_type": "stream",
     "text": [
      "LogisticRegression(C=0.0655128556859551, class_weight='balanced', dual=False,\n",
      "                   fit_intercept=True, intercept_scaling=1, l1_ratio=None,\n",
      "                   max_iter=100, multi_class='auto', n_jobs=-1, penalty='l1',\n",
      "                   random_state=0, solver='liblinear', tol=0.0001, verbose=1,\n",
      "                   warm_start=False)\n",
      "0.9265536723163842\n",
      "0.9210526315789473\n"
     ]
    }
   ],
   "source": [
    "# # grid search with recall scoring metric\n",
    "\n",
    "# # can't use scoring param, need to use recall_score()\n",
    "# logRegModel = \\\n",
    "#     LogisticRegression(penalty='l1', solver='liblinear',\n",
    "#                        class_weight='balanced', random_state=0,\n",
    "#                        n_jobs=(-1), verbose=1)\n",
    "\n",
    "# params = {'C': np.logspace(-2, 2, 50),\n",
    "#           'max_iter': [100, 500, 1000]}\n",
    "\n",
    "# logRegGS = ms.GridSearchCV(logRegModel, param_grid=params,\n",
    "#                            scoring='recall', cv=skfold, verbose=1)\n",
    "\n",
    "# logReg = logRegGS.fit(X_train, y_train)\n",
    "# bestLogReg = logReg.best_estimator_\n",
    "\n",
    "# # dump(bestLogReg, './data/bestLogReg.pkl')\n",
    "bestLogReg = load('./data/bestLogReg.pkl')\n",
    "\n",
    "print(bestLogReg)\n",
    "print(logReg.score(X_train, y_train))\n",
    "print(logReg.score(X_test, y_test))\n",
    "# recall_score() gives the same results"
   ]
  },
  {
   "cell_type": "code",
   "execution_count": null,
   "metadata": {},
   "outputs": [],
   "source": []
  },
  {
   "cell_type": "markdown",
   "metadata": {},
   "source": [
    "### Tree Models"
   ]
  },
  {
   "cell_type": "code",
   "execution_count": null,
   "metadata": {},
   "outputs": [],
   "source": [
    "# max_features default is 'auto' (sqrt(n_features))\n",
    "randForestModel = RandomForestClassifier(class_weight='balanced', random_state=0,\n",
    "                                         n_jobs=(-1))\n",
    "randForestModel.fit(X_train, y_train)\n",
    "\n",
    "print(recall_score(y_train, randForestModel.predict(X_train)))\n",
    "print(recall_score(y_test, randForestModel.predict(X_test)))"
   ]
  },
  {
   "cell_type": "code",
   "execution_count": null,
   "metadata": {},
   "outputs": [],
   "source": [
    "# dump(randForestModel, './data/randForestModel.pkl')"
   ]
  },
  {
   "cell_type": "markdown",
   "metadata": {},
   "source": [
    "#### Random Forest"
   ]
  },
  {
   "cell_type": "code",
   "execution_count": null,
   "metadata": {},
   "outputs": [],
   "source": [
    "# params = {'n_estimators': [100,1000,5000],\n",
    "#           'max_depth': np.linspace(5,50,5),\n",
    "#           'max_features' : np.arange(1,11)}\n",
    "\n",
    "# randForestGS = ms.GridSearchCV(randForestModel, param_grid=params,\n",
    "#                                     scoring='recall', cv=skfold,\n",
    "#                                     n_jobs=-1, verbose=1)\n",
    "\n",
    "# randForest = randForestGS.fit(X_train, y_train)\n",
    "\n",
    "# bestRandForest = randForest.best_estimator_\n",
    "# print(bestRandForest)\n",
    "\n",
    "best_randForest = load('./data/best_randForest.pkl')"
   ]
  },
  {
   "cell_type": "code",
   "execution_count": null,
   "metadata": {},
   "outputs": [],
   "source": [
    "# print(best_randForest)\n",
    "# print(best_randForest.score(X_train, y_train))\n",
    "# print(best_randForest.score(X_test, y_test))\n",
    "\n",
    "print(recall_score(y_train, best_randForest.predict(X_train)))\n",
    "print(recall_score(y_test, best_randForest.predict(X_test)))"
   ]
  },
  {
   "cell_type": "markdown",
   "metadata": {},
   "source": [
    "#### Gradient Boosting"
   ]
  },
  {
   "cell_type": "code",
   "execution_count": null,
   "metadata": {
    "scrolled": true
   },
   "outputs": [],
   "source": [
    "gradBoostModel = GradientBoostingClassifier(max_features='auto', random_state=0)\n",
    "gradBoostModel.fit(X_train, y_train)\n",
    "\n",
    "print(recall_score(y_train, gradBoostModel.predict(X_train)))\n",
    "print(recall_score(y_test, gradBoostModel.predict(X_test)))"
   ]
  },
  {
   "cell_type": "code",
   "execution_count": null,
   "metadata": {},
   "outputs": [],
   "source": [
    "dump(gradBoostModel, './data/gradBoostModel.pkl')"
   ]
  },
  {
   "cell_type": "code",
   "execution_count": null,
   "metadata": {},
   "outputs": [],
   "source": [
    "params = {'n_estimators': [100,1000,5000],\n",
    "          'max_depth': np.linspace(1,30,5),\n",
    "          'learning_rate':[0.01,0.05,0.1, 0.5],\n",
    "          'max_features' : np.arange(1,11)}\n",
    "\n",
    "gradBoostGS = ms.GridSearchCV(gradBoostModel, param_grid=params,\n",
    "                                    scoring='recall', cv=skfold,\n",
    "                                    n_jobs=-1, verbose=1)\n",
    "\n",
    "gradBoost = gradBoostGS.fit(X_train, y_train)\n",
    "\n",
    "bestGradBoost = gradBoost.best_estimator_\n",
    "print(bestGradBoost)"
   ]
  },
  {
   "cell_type": "code",
   "execution_count": null,
   "metadata": {},
   "outputs": [],
   "source": [
    "dump(bestGradBoost, './data/bestGradBoost.pkl')"
   ]
  },
  {
   "cell_type": "code",
   "execution_count": null,
   "metadata": {},
   "outputs": [],
   "source": [
    "def feature_importances(model):\n",
    "    df = pd.DataFrame({'feature': np.array(X.columns),\n",
    "                       'importance': model.feature_importances_}\n",
    "                     ).sort_values('importance')\n",
    "    return px.bar(df, 'importance', 'feature', height=1000)\n",
    "# feature_importances(gradBoost)"
   ]
  },
  {
   "cell_type": "code",
   "execution_count": null,
   "metadata": {},
   "outputs": [],
   "source": [
    "# X_train_reduced = pd.DataFrame(X_train, columns=X.columns)\n",
    "# X_train_reduced = X_train_reduced.iloc[:,:len(gradBoost.feature_importances_\n",
    "#                           [gradBoost.feature_importances_ > 0.005])];\n",
    "\n",
    "# X_test_reduced = pd.DataFrame(X_test, columns=X.columns)\n",
    "# X_test_reduced = X_test_reduced.iloc[:,:len(gradBoost.feature_importances_\n",
    "#                           [gradBoost.feature_importances_ > 0.005])];"
   ]
  },
  {
   "cell_type": "code",
   "execution_count": null,
   "metadata": {},
   "outputs": [],
   "source": [
    "# gradBoost_reduced = gradBoost.fit(X_train_reduced, y_train)\n",
    "\n",
    "# print(np.mean(ms.cross_val_score(gradBoost_reduced, X_train_reduced, y_train, cv=10)))\n",
    "# print(gradBoost_reduced.score(X_test_reduced, y_test))\n",
    "\n",
    "# FI at all FI: 0.9406473665086488/0.9426987060998152\n",
    "# FI at 0.001: 0.9429039808688451/0.9408502772643254\n",
    "# FI at 0.005: 0.9279121352701092/0.9297597042513863"
   ]
  }
 ],
 "metadata": {
  "kernelspec": {
   "display_name": "Python 3",
   "language": "python",
   "name": "python3"
  },
  "language_info": {
   "codemirror_mode": {
    "name": "ipython",
    "version": 3
   },
   "file_extension": ".py",
   "mimetype": "text/x-python",
   "name": "python",
   "nbconvert_exporter": "python",
   "pygments_lexer": "ipython3",
   "version": "3.7.6"
  },
  "toc": {
   "base_numbering": 1,
   "nav_menu": {},
   "number_sections": true,
   "sideBar": true,
   "skip_h1_title": true,
   "title_cell": "Table of Contents",
   "title_sidebar": "Contents",
   "toc_cell": false,
   "toc_position": {
    "height": "calc(100% - 180px)",
    "left": "10px",
    "top": "150px",
    "width": "165px"
   },
   "toc_section_display": true,
   "toc_window_display": true
  }
 },
 "nbformat": 4,
 "nbformat_minor": 4
}
