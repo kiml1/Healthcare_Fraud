{
 "cells": [
  {
   "cell_type": "code",
   "execution_count": 1,
   "metadata": {},
   "outputs": [],
   "source": [
    "import pandas as pd\n",
    "pd.set_option('display.max_colwidth', None)"
   ]
  },
  {
   "cell_type": "code",
   "execution_count": 2,
   "metadata": {},
   "outputs": [],
   "source": [
    "descriptions = {\n",
    "    'PotentialFraud': 'Potential fraud boolean',\n",
    "    'Provider': 'Provider ID',\n",
    "    'IsOutpatient': 'Inpatient and outpatient boolean',\n",
    "    'DeductibleAmtPaid_Perc': 'Average deductible paid',\n",
    "    'MISSING3': 'Whether the provider serves both in/out patients',\n",
    "    'Alzheimers_Chronic_Perc': 'Percentage of patients with this chronic disease',\n",
    "    'HeartFailure_Chronic_Perc': 'Percentage of patients with this chronic disease',\n",
    "    'KidneyDisease_Chronic_Perc': 'Percentage of patients with this chronic disease',\n",
    "    'Cancer_Chronic_Perc': 'Percentage of patients with this chronic disease',\n",
    "    'ObstrPulmonary_Chronic_Perc': 'Percentage of patients with this chronic disease',\n",
    "    'Depression_Chronic_Perc': 'Percentage of patients with this chronic disease',\n",
    "    'Diabetes_Chronic_Perc': 'Percentage of patients with this chronic disease',\n",
    "    'IschemicHeart_Chronic_Perc': 'Percentage of patients with this chronic disease',\n",
    "    'Osteoporosis_Chronic_Perc': 'Percentage of patients with this chronic disease',\n",
    "    'RheumatoidArthritis_Chronic_Perc': 'Percentage of patients with this chronic disease',\n",
    "    'Stroke_Chronic_Perc': 'Percentage of inpatients with this chronic disease',\n",
    "    'MISSING4': 'Average number of claims per patients',\n",
    "    'MISSING5': 'Average number of claims per physicians',\n",
    "    'Att_Phy_Mult': 'Percentage of attending physicians serving for different hospitals (75% threshold)',\n",
    "    'Oper_Phy_Mult': 'Percentage of operating physicians serving for different hospitals (75% threshold)',\n",
    "    'Other_Phy_Mult': 'Percentage of other physicians serving for different hospitals (75% threshold)',\n",
    "    'MISSING6': 'Percentage of inpatients going to different hospitals (75% threshold)',\n",
    "    'MISSING7': 'Percentage of outpatients going to different hospitals (75% threshold)',\n",
    "    'DualPatientType_Perc': 'Percentage of patients that receive both in/out patient service',\n",
    "    'HasTop5AdmtCode': 'Percentage of inpatient claims with top 5 admtcode (from PotentialFraud)',\n",
    "    'IP_UniqueBenes_Count': 'Number of unique inpatient beneficiaries',\n",
    "    'OP_UniqueBenes_Count': 'Number of unique outpatient beneficiaries',\n",
    "    'IP_UniqueSt_Count': 'Number of unique states for inpatients',\n",
    "    'OP_UniqueSt_Count': 'Number of unique states for outpatients',\n",
    "    'BenesPerAttPhys': 'Patient/Attending Physician Ratio',\n",
    "    'BenesPerOperPhys': 'Patient/Operating Physician Ratio',\n",
    "    'BenesPerOthPhys': 'Patient/Other Physician Ratio',\n",
    "    'HasAllPhysicians_Perc': 'Percentage of claims that had all physicians involved',\n",
    "    'HasAnyPhysicians_Perc': 'Percentage of claims that had any physicians involved',\n",
    "    'HasNoPhysicians_Perc': 'Percentage of claims that had no physicians involved',\n",
    "    'HasRenalDisease_Perc': 'Percentage of patients with this disease',\n",
    "    'HasDied_Perc': 'Percentage of claims where the patient has a date of death',\n",
    "    'ClaimDuration_Perc': 'Average claim duration',\n",
    "    'IPDuration_Perc': 'Average admission duration for inpatients',\n",
    "    'InscClaimAmtReimbursed_Perc': 'Average amount of reimbursed claims',\n",
    "    'AgeAtService_Mean': 'Average age of patients',\n",
    "    'NumCondsPerBene_Mean': 'Average number of chronic conditions',\n",
    "    'PercInsCovered_Perc': 'Average percentage Insurance covered',\n",
    "    'ClaimCost_Perc': 'Average claim cost',\n",
    "    'DailyClaimCost_Perc': 'Average daily claim cost',\n",
    "    'IP_Dup_Perc': 'Percentage of Inpatient duplicate',\n",
    "    'OP_Dup_Perc': 'Percentage of Outpatient duplicate',\n",
    "    'MISSING20': 'Average inpatient claim duration of duplicate',\n",
    "    'MISSING21': 'Average outpatient claim duration of duplicate',\n",
    "    'OP_No_Diag_Perc': 'Percentage of outpatient with no diagnosis codes',\n",
    "    'IP_No_Proc_Perc': 'Percentage of inpatient with no procedure codes',\n",
    "    'In_Top5_St_Perc': 'Percentage of claims from top 5 fraudulent states per provider',\n",
    "    'GenderZero_Perc': 'Percentage of gender zero per provider',\n",
    "    'NoOfMonths_PartACov_Perc': 'Average number of months covered by Part A Medicare',\n",
    "    'NoOfMonths_PartBCov_Perc': 'Average number of months covered by Part B Medicare',\n",
    "    'IPAnnualReimbursementAmt_Perc': 'Average amount of IP annual reimbursement limit',\n",
    "    'IPAnnualDeductibleAmt_Perc': 'Average amount of IP annual deductible limit',\n",
    "    'OPAnnualReimbursementAmt_Perc': 'Average amount of OP annual reimbursement limit',\n",
    "    'OPAnnualDeductibleAmt_Perc': 'Average amount of OP annual deductible limit'}\n",
    "\n",
    "descriptions = pd.DataFrame.from_dict(descriptions, orient='index')"
   ]
  },
  {
   "cell_type": "code",
   "execution_count": 3,
   "metadata": {},
   "outputs": [
    {
     "data": {
      "text/html": [
       "<div>\n",
       "<style scoped>\n",
       "    .dataframe tbody tr th:only-of-type {\n",
       "        vertical-align: middle;\n",
       "    }\n",
       "\n",
       "    .dataframe tbody tr th {\n",
       "        vertical-align: top;\n",
       "    }\n",
       "\n",
       "    .dataframe thead th {\n",
       "        text-align: right;\n",
       "    }\n",
       "</style>\n",
       "<table border=\"1\" class=\"dataframe\">\n",
       "  <thead>\n",
       "    <tr style=\"text-align: right;\">\n",
       "      <th></th>\n",
       "      <th>0</th>\n",
       "    </tr>\n",
       "  </thead>\n",
       "  <tbody>\n",
       "    <tr>\n",
       "      <th>MISSING3</th>\n",
       "      <td>Whether the provider serves both in/out patients</td>\n",
       "    </tr>\n",
       "    <tr>\n",
       "      <th>MISSING4</th>\n",
       "      <td>Average number of claims per patients</td>\n",
       "    </tr>\n",
       "    <tr>\n",
       "      <th>MISSING5</th>\n",
       "      <td>Average number of claims per physicians</td>\n",
       "    </tr>\n",
       "    <tr>\n",
       "      <th>MISSING6</th>\n",
       "      <td>Percentage of inpatients going to different hospitals (75% threshold)</td>\n",
       "    </tr>\n",
       "    <tr>\n",
       "      <th>MISSING7</th>\n",
       "      <td>Percentage of outpatients going to different hospitals (75% threshold)</td>\n",
       "    </tr>\n",
       "    <tr>\n",
       "      <th>MISSING20</th>\n",
       "      <td>Average inpatient claim duration of duplicate</td>\n",
       "    </tr>\n",
       "    <tr>\n",
       "      <th>MISSING21</th>\n",
       "      <td>Average outpatient claim duration of duplicate</td>\n",
       "    </tr>\n",
       "  </tbody>\n",
       "</table>\n",
       "</div>"
      ],
      "text/plain": [
       "                                                                                0\n",
       "MISSING3                         Whether the provider serves both in/out patients\n",
       "MISSING4                                    Average number of claims per patients\n",
       "MISSING5                                  Average number of claims per physicians\n",
       "MISSING6    Percentage of inpatients going to different hospitals (75% threshold)\n",
       "MISSING7   Percentage of outpatients going to different hospitals (75% threshold)\n",
       "MISSING20                           Average inpatient claim duration of duplicate\n",
       "MISSING21                          Average outpatient claim duration of duplicate"
      ]
     },
     "execution_count": 3,
     "metadata": {},
     "output_type": "execute_result"
    }
   ],
   "source": [
    "missing = descriptions.index[descriptions.index.str.contains('MISSING')].to_list()\n",
    "descriptions.loc[missing]"
   ]
  },
  {
   "cell_type": "code",
   "execution_count": 4,
   "metadata": {},
   "outputs": [
    {
     "data": {
      "text/plain": [
       "59"
      ]
     },
     "execution_count": 4,
     "metadata": {},
     "output_type": "execute_result"
    }
   ],
   "source": [
    "len(descriptions)"
   ]
  },
  {
   "cell_type": "code",
   "execution_count": 5,
   "metadata": {},
   "outputs": [
    {
     "data": {
      "text/plain": [
       "Index(['PotentialFraud', 'Provider', 'IsOutpatient', 'DeductibleAmtPaid_Perc',\n",
       "       'MISSING3', 'Alzheimers_Chronic_Perc', 'HeartFailure_Chronic_Perc',\n",
       "       'KidneyDisease_Chronic_Perc', 'Cancer_Chronic_Perc',\n",
       "       'ObstrPulmonary_Chronic_Perc', 'Depression_Chronic_Perc',\n",
       "       'Diabetes_Chronic_Perc', 'IschemicHeart_Chronic_Perc',\n",
       "       'Osteoporosis_Chronic_Perc', 'RheumatoidArthritis_Chronic_Perc',\n",
       "       'Stroke_Chronic_Perc', 'MISSING4', 'MISSING5', 'Att_Phy_Mult',\n",
       "       'Oper_Phy_Mult', 'Other_Phy_Mult', 'MISSING6', 'MISSING7',\n",
       "       'DualPatientType_Perc', 'HasTop5AdmtCode', 'IP_UniqueBenes_Count',\n",
       "       'OP_UniqueBenes_Count', 'IP_UniqueSt_Count', 'OP_UniqueSt_Count',\n",
       "       'BenesPerAttPhys', 'BenesPerOperPhys', 'BenesPerOthPhys',\n",
       "       'HasAllPhysicians_Perc', 'HasAnyPhysicians_Perc',\n",
       "       'HasNoPhysicians_Perc', 'HasRenalDisease_Perc', 'HasDied_Perc',\n",
       "       'ClaimDuration_Perc', 'IPDuration_Perc', 'InscClaimAmtReimbursed_Perc',\n",
       "       'AgeAtService_Mean', 'NumCondsPerBene_Mean', 'PercInsCovered_Perc',\n",
       "       'ClaimCost_Perc', 'DailyClaimCost_Perc', 'IP_Dup_Perc', 'OP_Dup_Perc',\n",
       "       'MISSING20', 'MISSING21', 'OP_No_Diag_Perc', 'IP_No_Proc_Perc',\n",
       "       'In_Top5_St_Perc', 'GenderZero_Perc', 'NoOfMonths_PartACov_Perc',\n",
       "       'NoOfMonths_PartBCov_Perc', 'IPAnnualReimbursementAmt_Perc',\n",
       "       'IPAnnualDeductibleAmt_Perc', 'OPAnnualReimbursementAmt_Perc',\n",
       "       'OPAnnualDeductibleAmt_Perc'],\n",
       "      dtype='object')"
      ]
     },
     "execution_count": 5,
     "metadata": {},
     "output_type": "execute_result"
    }
   ],
   "source": [
    "descriptions.index"
   ]
  }
 ],
 "metadata": {
  "kernelspec": {
   "display_name": "Python 3",
   "language": "python",
   "name": "python3"
  },
  "language_info": {
   "codemirror_mode": {
    "name": "ipython",
    "version": 3
   },
   "file_extension": ".py",
   "mimetype": "text/x-python",
   "name": "python",
   "nbconvert_exporter": "python",
   "pygments_lexer": "ipython3",
   "version": "3.7.6"
  },
  "toc": {
   "base_numbering": 1,
   "nav_menu": {},
   "number_sections": true,
   "sideBar": true,
   "skip_h1_title": true,
   "title_cell": "Table of Contents",
   "title_sidebar": "Contents",
   "toc_cell": false,
   "toc_position": {
    "height": "calc(100% - 180px)",
    "left": "10px",
    "top": "150px",
    "width": "165px"
   },
   "toc_section_display": true,
   "toc_window_display": true
  }
 },
 "nbformat": 4,
 "nbformat_minor": 4
}
