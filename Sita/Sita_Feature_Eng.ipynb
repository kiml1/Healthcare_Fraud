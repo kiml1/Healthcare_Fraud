{
 "cells": [
  {
   "cell_type": "markdown",
   "metadata": {},
   "source": [
    "## Setup and Data Import"
   ]
  },
  {
   "cell_type": "code",
   "execution_count": 1,
   "metadata": {},
   "outputs": [],
   "source": [
    "import sys\n",
    "sys.path.insert(0, '..')\n",
    "\n",
    "from joblib import load\n",
    "\n",
    "import Functions as fxns\n",
    "from Functions import np, pd\n",
    "\n",
    "pd.set_option('display.max_columns', None)\n",
    "pd.set_option('display.max_rows', None)\n",
    "\n",
    "from datetime import timedelta\n",
    "\n",
    "from sklearn.impute import SimpleImputer"
   ]
  },
  {
   "cell_type": "code",
   "execution_count": 2,
   "metadata": {},
   "outputs": [],
   "source": [
    "# !python ../Preprocessing.py"
   ]
  },
  {
   "cell_type": "code",
   "execution_count": 3,
   "metadata": {},
   "outputs": [],
   "source": [
    "claims = load('../claims.pkl')"
   ]
  },
  {
   "cell_type": "markdown",
   "metadata": {},
   "source": [
    "## Claims DF"
   ]
  },
  {
   "cell_type": "markdown",
   "metadata": {},
   "source": [
    "### New Columns"
   ]
  },
  {
   "cell_type": "code",
   "execution_count": 4,
   "metadata": {},
   "outputs": [],
   "source": [
    "claims['AgeAtService'] = ((claims.ClaimStartDt - claims.DOB)\n",
    "                              / timedelta(days=365)).astype(int)\n",
    "\n",
    "claims['HasDied'] = claims.DOD.notna()\n",
    "# claims.loc[claims.HasDied == True, 'HasDied'] = 1\n",
    "# claims.loc[claims.HasDied == False, 'HasDied'] = 0\n",
    "# claims.HasDied = claims.HasDied.astype(str).astype(int)\n",
    "fxns.re_encode_bool(claims, ['HasDied'])"
   ]
  },
  {
   "cell_type": "code",
   "execution_count": 5,
   "metadata": {},
   "outputs": [],
   "source": [
    "physician_cols = \\\n",
    "    claims.columns[claims.columns.str.contains('Physician')].to_list()\n",
    "\n",
    "claims['HasAllPhysicians'] = claims[physician_cols].notna().all(axis=1)\n",
    "# claims.loc[claims.HasAllPhysicians == True, 'HasAllPhysicians'] = 1\n",
    "# claims.loc[claims.HasAllPhysicians == False, 'HasAllPhysicians'] = 0\n",
    "# claims.HasAllPhysicians = claims.HasAllPhysicians.astype(str).astype(int)\n",
    "\n",
    "claims['HasAllPhysicians'] = claims[physician_cols].notna().any(axis=1)\n",
    "# claims.loc[claims.HasAnyPhysicians == True, 'HasAnyPhysicians'] = 1\n",
    "# claims.loc[claims.HasAnyPhysicians == False, 'HasAnyPhysicians'] = 0\n",
    "# claims.HasAnyPhysicians = claims.HasAnyPhysicians.astype(str).astype(int)\n",
    "\n",
    "claims['HasNoPhysicians'] = claims[physician_cols].isna().all(axis=1)\n",
    "# claims.loc[claims.HasNoPhysicians == True, 'HasNoPhysicians'] = 1\n",
    "# claims.loc[claims.HasNoPhysicians == False, 'HasNoPhysicians'] = 0\n",
    "# claims.HasNoPhysicians = claims.HasNoPhysicians.astype(str).astype(int)\n",
    "\n",
    "fxns.re_encode_bool(claims, ['HasAllPhysicians', 'HasAllPhysicians', 'HasNoPhysicians'])"
   ]
  },
  {
   "cell_type": "code",
   "execution_count": 6,
   "metadata": {},
   "outputs": [],
   "source": [
    "claims['ClaimDuration'] = \\\n",
    "    (claims.ClaimEndDt  - claims.ClaimStartDt).dt.days + 1\n",
    "claims['IPDuration'] = \\\n",
    "    (claims.DischargeDt - claims.AdmissionDt).dt.days + 1"
   ]
  },
  {
   "cell_type": "code",
   "execution_count": 7,
   "metadata": {},
   "outputs": [],
   "source": [
    "outpatient_claims = claims.loc[claims.IsOutpatient == 1]\n",
    "inpatient_claims  = claims.loc[claims.IsOutpatient == 0]\n",
    "claims['IPClaimDuration'] = \\\n",
    "    (inpatient_claims.ClaimEndDt\n",
    "     - inpatient_claims.ClaimStartDt).dt.days + 1\n",
    "claims['OPClaimDuration'] = \\\n",
    "    (outpatient_claims.ClaimEndDt\n",
    "     - outpatient_claims.ClaimStartDt).dt.days + 1"
   ]
  },
  {
   "cell_type": "code",
   "execution_count": 8,
   "metadata": {},
   "outputs": [],
   "source": [
    "claims['ClaimCost'] = \\\n",
    "    claims.InscClaimAmtReimbursed + claims.DeductibleAmtPaid\n",
    "claims['PercInsCovered'] = \\\n",
    "    round((claims.InscClaimAmtReimbursed / claims.ClaimCost) * 100)\n",
    "claims['DailyClaimCost'] = \\\n",
    "    round(claims.ClaimCost / claims.ClaimDuration)"
   ]
  },
  {
   "cell_type": "code",
   "execution_count": 9,
   "metadata": {},
   "outputs": [],
   "source": [
    "claim_cols = claims.columns.to_list()\n",
    "claim_cols.remove('Provider')"
   ]
  },
  {
   "cell_type": "markdown",
   "metadata": {},
   "source": [
    "### Variables"
   ]
  },
  {
   "cell_type": "code",
   "execution_count": 10,
   "metadata": {},
   "outputs": [],
   "source": [
    "# lists:\n",
    "numeric_cols     = fxns.cols_by_dtype(claims)[0]\n",
    "categorical_cols = fxns.cols_by_dtype(claims)[1]\n",
    "date_cols        = fxns.cols_by_dtype(claims)[2]\n",
    "physician_cols   = \\\n",
    "    claims.columns[claims.columns.str.contains('Physician')].to_list()\n",
    "chronic_cols     = \\\n",
    "    claims.columns[claims.columns.str.contains('Chronic')].to_list()\n",
    "diagnosis_cols   = \\\n",
    "    claims.columns[claims.columns.str.contains('Diagnosis')].to_list()\n",
    "procedure_cols   = \\\n",
    "    claims.columns[claims.columns.str.contains('Procedure')].to_list()\n",
    "\n",
    "# dataframes:\n",
    "outpatient_claims = claims.loc[claims.IsOutpatient == 1]\n",
    "inpatient_claims  = claims.loc[claims.IsOutpatient == 0]"
   ]
  },
  {
   "cell_type": "markdown",
   "metadata": {},
   "source": [
    "## Providers DF"
   ]
  },
  {
   "cell_type": "markdown",
   "metadata": {},
   "source": [
    "### Data Import"
   ]
  },
  {
   "cell_type": "code",
   "execution_count": 11,
   "metadata": {},
   "outputs": [],
   "source": [
    "providers = claims.groupby(['PotentialFraud', 'Provider']).size().reset_index().drop(0, axis=1)"
   ]
  },
  {
   "cell_type": "code",
   "execution_count": 29,
   "metadata": {},
   "outputs": [
    {
     "name": "stdout",
     "output_type": "stream",
     "text": [
      "Index(['Provider', 'percentage_InOutpatients', 'percentage_noPhysician',\n",
      "       'isTop5admtcode'],\n",
      "      dtype='object')\n"
     ]
    }
   ],
   "source": [
    "lucas = pd.read_csv('./data/providers.csv')\n",
    "lucas.columns = ['Provider', 'DualPatientType_Perc', 'HasNoPhys_Perc', 'HasTop5AdmtCode']"
   ]
  },
  {
   "cell_type": "code",
   "execution_count": 13,
   "metadata": {},
   "outputs": [],
   "source": [
    "ryan = pd.read_csv('./data/Ryan_providers.csv')\n",
    "ryan.drop('Unnamed: 0', axis=1, inplace=True)\n",
    "ryan.rename(columns = {'Patient_Attphy_Ratio': 'BenesPerAttPhys',\n",
    "                'Patient_Operphy_Ratio': 'BenesPerOperPhys',\n",
    "                'Patient_Otherphy_Ratio': 'BenesPerOthPhys',\n",
    "                'BeneID_Nunique_IP': 'IP_UniqueBenes_Count',\n",
    "                'BeneID_Nunique_OP': 'OP_UniqueBenes_Count',\n",
    "                'State_Nunique_IP': 'IP_UniqueSt_Count',\n",
    "                'State_Nunique_OP': 'OP_UniqueSt_Count'}, inplace=True)"
   ]
  },
  {
   "cell_type": "code",
   "execution_count": 14,
   "metadata": {},
   "outputs": [],
   "source": [
    "providers = providers.merge(lucas).merge(ryan)"
   ]
  },
  {
   "cell_type": "markdown",
   "metadata": {},
   "source": [
    "### Beneficiaries"
   ]
  },
  {
   "cell_type": "code",
   "execution_count": null,
   "metadata": {},
   "outputs": [],
   "source": []
  },
  {
   "cell_type": "code",
   "execution_count": 15,
   "metadata": {
    "scrolled": true
   },
   "outputs": [],
   "source": [
    "providers['GenderZero_Perc'] = claims.groupby('Provider').Gender.mean().values\n",
    "providers['HasRenalDisease_Perc'] = claims.groupby('Provider').RenalDisease.mean().values\n",
    "providers['HasDied_Perc'] = claims.groupby('Provider').HasDied.mean().values\n",
    "providers['Outpatient_Perc'] = claims.groupby('Provider').IsOutpatient.mean().values"
   ]
  },
  {
   "cell_type": "code",
   "execution_count": 16,
   "metadata": {},
   "outputs": [],
   "source": [
    "# THIS IS DOING WEIRD THINGS\n",
    "\n",
    "# cond_by_ip = \\\n",
    "#     inpatient_claims.groupby('Provider')[chronic_cols].sum().reset_index()\n",
    "# cond_by_op = \\\n",
    "#     outpatient_claims.groupby('Provider')[chronic_cols].sum().reset_index()\n",
    "\n",
    "# def mult_cols_mean_by_perc(df, cols, pat_type):\n",
    "#     percs = pd.DataFrame(providers.Provider)\n",
    "#     for col in cols:\n",
    "#         percs[f'{col}_{pat_type}_Perc'] = df[col].mean()\n",
    "#     return pd.merge(providers, percs)\n",
    "\n",
    "# providers = mult_cols_mean_by_perc(cond_by_ip, chronic_cols, 'IP')\n",
    "# providers = mult_cols_mean_by_perc(cond_by_op, chronic_cols, 'OP')"
   ]
  },
  {
   "cell_type": "markdown",
   "metadata": {},
   "source": [
    "### Doctors"
   ]
  },
  {
   "cell_type": "code",
   "execution_count": 17,
   "metadata": {},
   "outputs": [],
   "source": [
    "# THIS IS DOING WEIRD THINGS\n",
    "\n",
    "# new_phys_cols = ['HasAllPhysicians', 'HasAnyPhysicians', 'HasNoPhysicians']\n",
    "\n",
    "# phys_counts_by_ip = \\\n",
    "#     inpatient_claims.groupby('Provider')[new_phys_cols].mean().reset_index()\n",
    "# phys_counts_by_op = \\\n",
    "#     outpatient_claims.groupby('Provider')[new_phys_cols].mean().reset_index()\n",
    "\n",
    "# def single_cols_mean_by_perc(df, cols, pat_type):\n",
    "#     percs = pd.DataFrame(providers.Provider)\n",
    "#     for col in cols:\n",
    "#         percs[f'{col}_{pat_type}_Perc'] = df[col]\n",
    "#     return pd.merge(providers, percs)\n",
    "\n",
    "\n",
    "# providers = single_cols_mean_by_perc(phys_counts_by_ip, new_phys_cols, 'IP')\n",
    "# providers = single_cols_mean_by_perc(phys_counts_by_ip, new_phys_cols, 'OP')"
   ]
  },
  {
   "cell_type": "markdown",
   "metadata": {},
   "source": [
    "### Money"
   ]
  },
  {
   "cell_type": "markdown",
   "metadata": {},
   "source": [
    "## MISC"
   ]
  },
  {
   "cell_type": "code",
   "execution_count": 18,
   "metadata": {},
   "outputs": [],
   "source": [
    "# means = claims.groupby('BeneID').mean()\n",
    "# means.columns\n",
    "\n",
    "\n",
    "# ['IPAnnualReimbursementAmt', 'IPAnnualDeductibleAmt',\n",
    "#  'OPAnnualReimbursementAmt', 'OPAnnualDeductibleAmt',\n",
    "#  'IPDuration', 'IPClaimDuration', 'OPClaimDuration']"
   ]
  },
  {
   "cell_type": "code",
   "execution_count": 19,
   "metadata": {},
   "outputs": [],
   "source": [
    "# outpatient_claims = claims.loc[claims.IsOutpatient == 1]\n",
    "# inpatient_claims  = claims.loc[claims.IsOutpatient == 0]\n",
    "\n",
    "# avg_ip_cols = inpatient_claims.groupby('BeneID')[[\n",
    "#     'InscClaimAmtReimbursed', 'DeductibleAmtPaid', 'NoOfMonths_PartACov',\n",
    "#     'NoOfMonths_PartBCov', 'AgeAtService', 'HasDied', 'PercInsCovered',\n",
    "#     'HasAllPhysicians', 'HasAnyPhysicians', 'HasNoPhysicians',\n",
    "#     'ClaimDuration', 'ClaimCost', 'DailyClaimCost'\n",
    "#     ]].mean().add_suffix('_IP_Mean').reset_index()\n",
    "# avg_op_cols = outpatient_claims.groupby('BeneID')[[\n",
    "#     'InscClaimAmtReimbursed', 'DeductibleAmtPaid', 'NoOfMonths_PartACov',\n",
    "#     'NoOfMonths_PartBCov', 'AgeAtService', 'HasDied', 'PercInsCovered',\n",
    "#     'HasAllPhysicians', 'HasAnyPhysicians', 'HasNoPhysicians',\n",
    "#     'ClaimDuration', 'ClaimCost', 'DailyClaimCost'\n",
    "#     ]].mean().add_suffix('_OP_Mean').reset_index()\n",
    "# avg_cols = avg_ip_cols.merge(avg_op_cols, on='BeneID')"
   ]
  },
  {
   "cell_type": "code",
   "execution_count": null,
   "metadata": {},
   "outputs": [],
   "source": []
  },
  {
   "cell_type": "code",
   "execution_count": null,
   "metadata": {},
   "outputs": [],
   "source": []
  },
  {
   "cell_type": "code",
   "execution_count": null,
   "metadata": {},
   "outputs": [],
   "source": []
  },
  {
   "cell_type": "code",
   "execution_count": null,
   "metadata": {},
   "outputs": [],
   "source": []
  },
  {
   "cell_type": "code",
   "execution_count": 20,
   "metadata": {},
   "outputs": [
    {
     "data": {
      "text/plain": [
       "Index(['Att_Phy_Mult', 'BenesPerAttPhys', 'BenesPerOperPhys',\n",
       "       'BenesPerOthPhys', 'DualPatients_Perc', 'GenderZero_Perc',\n",
       "       'HasDied_Perc', 'HasNoPhys_Perc', 'HasRenalDisease_Perc',\n",
       "       'HasTop5AdmtCode', 'IP_Dup_Perc', 'IP_No_Proc_Perc',\n",
       "       'IP_UniqueBenes_Count', 'IP_UniqueSt_Count', 'In_Top5_St_Perc',\n",
       "       'OP_Dup_Perc', 'OP_No_Diag_Perc', 'OP_UniqueBenes_Count',\n",
       "       'OP_UniqueSt_Count', 'Oper_Phy_Mult', 'Other_Phy_Mult',\n",
       "       'Outpatient_Perc', 'PotentialFraud', 'Provider'],\n",
       "      dtype='object')"
      ]
     },
     "execution_count": 20,
     "metadata": {},
     "output_type": "execute_result"
    }
   ],
   "source": [
    "providers.columns.sort_values()"
   ]
  },
  {
   "cell_type": "code",
   "execution_count": 21,
   "metadata": {},
   "outputs": [
    {
     "data": {
      "text/html": [
       "<div>\n",
       "<style scoped>\n",
       "    .dataframe tbody tr th:only-of-type {\n",
       "        vertical-align: middle;\n",
       "    }\n",
       "\n",
       "    .dataframe tbody tr th {\n",
       "        vertical-align: top;\n",
       "    }\n",
       "\n",
       "    .dataframe thead th {\n",
       "        text-align: right;\n",
       "    }\n",
       "</style>\n",
       "<table border=\"1\" class=\"dataframe\">\n",
       "  <thead>\n",
       "    <tr style=\"text-align: right;\">\n",
       "      <th></th>\n",
       "      <th>PotentialFraud</th>\n",
       "      <th>Provider</th>\n",
       "      <th>DualPatients_Perc</th>\n",
       "      <th>HasNoPhys_Perc</th>\n",
       "      <th>HasTop5AdmtCode</th>\n",
       "      <th>BenesPerAttPhys</th>\n",
       "      <th>BenesPerOperPhys</th>\n",
       "      <th>BenesPerOthPhys</th>\n",
       "      <th>Att_Phy_Mult</th>\n",
       "      <th>Oper_Phy_Mult</th>\n",
       "      <th>Other_Phy_Mult</th>\n",
       "      <th>IP_Dup_Perc</th>\n",
       "      <th>OP_Dup_Perc</th>\n",
       "      <th>OP_No_Diag_Perc</th>\n",
       "      <th>IP_No_Proc_Perc</th>\n",
       "      <th>In_Top5_St_Perc</th>\n",
       "      <th>IP_UniqueBenes_Count</th>\n",
       "      <th>IP_UniqueSt_Count</th>\n",
       "      <th>OP_UniqueBenes_Count</th>\n",
       "      <th>OP_UniqueSt_Count</th>\n",
       "      <th>GenderZero_Perc</th>\n",
       "      <th>HasRenalDisease_Perc</th>\n",
       "      <th>HasDied_Perc</th>\n",
       "      <th>Outpatient_Perc</th>\n",
       "    </tr>\n",
       "  </thead>\n",
       "  <tbody>\n",
       "    <tr>\n",
       "      <th>2495</th>\n",
       "      <td>0</td>\n",
       "      <td>PRV54422</td>\n",
       "      <td>0.000000</td>\n",
       "      <td>NaN</td>\n",
       "      <td>0.000000</td>\n",
       "      <td>7</td>\n",
       "      <td>10</td>\n",
       "      <td>9</td>\n",
       "      <td>0.266667</td>\n",
       "      <td>0.000000</td>\n",
       "      <td>0.000000</td>\n",
       "      <td>NaN</td>\n",
       "      <td>0.600000</td>\n",
       "      <td>0.000000</td>\n",
       "      <td>NaN</td>\n",
       "      <td>0.000000</td>\n",
       "      <td>NaN</td>\n",
       "      <td>NaN</td>\n",
       "      <td>12.0</td>\n",
       "      <td>2.0</td>\n",
       "      <td>0.429719</td>\n",
       "      <td>0.132530</td>\n",
       "      <td>0.004016</td>\n",
       "      <td>0.783133</td>\n",
       "    </tr>\n",
       "    <tr>\n",
       "      <th>1082</th>\n",
       "      <td>0</td>\n",
       "      <td>PRV52507</td>\n",
       "      <td>0.000000</td>\n",
       "      <td>NaN</td>\n",
       "      <td>0.000000</td>\n",
       "      <td>9</td>\n",
       "      <td>20</td>\n",
       "      <td>14</td>\n",
       "      <td>0.172414</td>\n",
       "      <td>0.000000</td>\n",
       "      <td>0.034483</td>\n",
       "      <td>NaN</td>\n",
       "      <td>0.448276</td>\n",
       "      <td>0.000000</td>\n",
       "      <td>NaN</td>\n",
       "      <td>0.000000</td>\n",
       "      <td>NaN</td>\n",
       "      <td>NaN</td>\n",
       "      <td>24.0</td>\n",
       "      <td>2.0</td>\n",
       "      <td>0.406250</td>\n",
       "      <td>0.125000</td>\n",
       "      <td>0.031250</td>\n",
       "      <td>1.000000</td>\n",
       "    </tr>\n",
       "    <tr>\n",
       "      <th>2308</th>\n",
       "      <td>0</td>\n",
       "      <td>PRV54167</td>\n",
       "      <td>0.000000</td>\n",
       "      <td>NaN</td>\n",
       "      <td>0.000000</td>\n",
       "      <td>1</td>\n",
       "      <td>5</td>\n",
       "      <td>6</td>\n",
       "      <td>0.444444</td>\n",
       "      <td>0.000000</td>\n",
       "      <td>0.000000</td>\n",
       "      <td>NaN</td>\n",
       "      <td>0.333333</td>\n",
       "      <td>0.000000</td>\n",
       "      <td>NaN</td>\n",
       "      <td>0.000000</td>\n",
       "      <td>NaN</td>\n",
       "      <td>NaN</td>\n",
       "      <td>8.0</td>\n",
       "      <td>1.0</td>\n",
       "      <td>0.533333</td>\n",
       "      <td>0.000000</td>\n",
       "      <td>0.000000</td>\n",
       "      <td>1.000000</td>\n",
       "    </tr>\n",
       "    <tr>\n",
       "      <th>1339</th>\n",
       "      <td>0</td>\n",
       "      <td>PRV52838</td>\n",
       "      <td>0.024096</td>\n",
       "      <td>NaN</td>\n",
       "      <td>0.024096</td>\n",
       "      <td>53</td>\n",
       "      <td>54</td>\n",
       "      <td>54</td>\n",
       "      <td>0.240964</td>\n",
       "      <td>0.012048</td>\n",
       "      <td>0.048193</td>\n",
       "      <td>NaN</td>\n",
       "      <td>0.287500</td>\n",
       "      <td>0.036145</td>\n",
       "      <td>NaN</td>\n",
       "      <td>0.000000</td>\n",
       "      <td>NaN</td>\n",
       "      <td>NaN</td>\n",
       "      <td>61.0</td>\n",
       "      <td>2.0</td>\n",
       "      <td>0.282051</td>\n",
       "      <td>0.128205</td>\n",
       "      <td>0.000000</td>\n",
       "      <td>1.000000</td>\n",
       "    </tr>\n",
       "    <tr>\n",
       "      <th>4615</th>\n",
       "      <td>0</td>\n",
       "      <td>PRV57390</td>\n",
       "      <td>0.000000</td>\n",
       "      <td>NaN</td>\n",
       "      <td>0.000000</td>\n",
       "      <td>41</td>\n",
       "      <td>41</td>\n",
       "      <td>41</td>\n",
       "      <td>0.000000</td>\n",
       "      <td>0.000000</td>\n",
       "      <td>0.000000</td>\n",
       "      <td>NaN</td>\n",
       "      <td>0.407407</td>\n",
       "      <td>0.018182</td>\n",
       "      <td>NaN</td>\n",
       "      <td>0.000000</td>\n",
       "      <td>NaN</td>\n",
       "      <td>NaN</td>\n",
       "      <td>42.0</td>\n",
       "      <td>2.0</td>\n",
       "      <td>0.500000</td>\n",
       "      <td>0.500000</td>\n",
       "      <td>0.000000</td>\n",
       "      <td>1.000000</td>\n",
       "    </tr>\n",
       "    <tr>\n",
       "      <th>2354</th>\n",
       "      <td>0</td>\n",
       "      <td>PRV54224</td>\n",
       "      <td>0.000000</td>\n",
       "      <td>NaN</td>\n",
       "      <td>0.000000</td>\n",
       "      <td>18</td>\n",
       "      <td>20</td>\n",
       "      <td>18</td>\n",
       "      <td>0.069767</td>\n",
       "      <td>0.000000</td>\n",
       "      <td>0.069767</td>\n",
       "      <td>NaN</td>\n",
       "      <td>0.380952</td>\n",
       "      <td>0.023256</td>\n",
       "      <td>NaN</td>\n",
       "      <td>0.000000</td>\n",
       "      <td>NaN</td>\n",
       "      <td>NaN</td>\n",
       "      <td>23.0</td>\n",
       "      <td>1.0</td>\n",
       "      <td>0.453608</td>\n",
       "      <td>0.185567</td>\n",
       "      <td>0.000000</td>\n",
       "      <td>1.000000</td>\n",
       "    </tr>\n",
       "    <tr>\n",
       "      <th>4829</th>\n",
       "      <td>0</td>\n",
       "      <td>PRV57676</td>\n",
       "      <td>0.000000</td>\n",
       "      <td>NaN</td>\n",
       "      <td>0.000000</td>\n",
       "      <td>10</td>\n",
       "      <td>14</td>\n",
       "      <td>14</td>\n",
       "      <td>0.066667</td>\n",
       "      <td>0.000000</td>\n",
       "      <td>0.000000</td>\n",
       "      <td>NaN</td>\n",
       "      <td>0.285714</td>\n",
       "      <td>0.066667</td>\n",
       "      <td>NaN</td>\n",
       "      <td>1.000000</td>\n",
       "      <td>NaN</td>\n",
       "      <td>NaN</td>\n",
       "      <td>15.0</td>\n",
       "      <td>1.0</td>\n",
       "      <td>1.000000</td>\n",
       "      <td>1.000000</td>\n",
       "      <td>0.000000</td>\n",
       "      <td>1.000000</td>\n",
       "    </tr>\n",
       "    <tr>\n",
       "      <th>3597</th>\n",
       "      <td>0</td>\n",
       "      <td>PRV55978</td>\n",
       "      <td>0.034913</td>\n",
       "      <td>0.007481</td>\n",
       "      <td>0.034913</td>\n",
       "      <td>176</td>\n",
       "      <td>263</td>\n",
       "      <td>253</td>\n",
       "      <td>0.004988</td>\n",
       "      <td>0.007481</td>\n",
       "      <td>0.000000</td>\n",
       "      <td>0.086957</td>\n",
       "      <td>0.508251</td>\n",
       "      <td>0.019417</td>\n",
       "      <td>0.423913</td>\n",
       "      <td>0.147132</td>\n",
       "      <td>87.0</td>\n",
       "      <td>7.0</td>\n",
       "      <td>257.0</td>\n",
       "      <td>13.0</td>\n",
       "      <td>0.450639</td>\n",
       "      <td>0.207898</td>\n",
       "      <td>0.004646</td>\n",
       "      <td>1.000000</td>\n",
       "    </tr>\n",
       "    <tr>\n",
       "      <th>1822</th>\n",
       "      <td>0</td>\n",
       "      <td>PRV53504</td>\n",
       "      <td>0.000000</td>\n",
       "      <td>NaN</td>\n",
       "      <td>0.000000</td>\n",
       "      <td>0</td>\n",
       "      <td>3</td>\n",
       "      <td>2</td>\n",
       "      <td>0.500000</td>\n",
       "      <td>0.000000</td>\n",
       "      <td>0.250000</td>\n",
       "      <td>NaN</td>\n",
       "      <td>0.750000</td>\n",
       "      <td>0.000000</td>\n",
       "      <td>NaN</td>\n",
       "      <td>0.000000</td>\n",
       "      <td>NaN</td>\n",
       "      <td>NaN</td>\n",
       "      <td>4.0</td>\n",
       "      <td>1.0</td>\n",
       "      <td>0.333333</td>\n",
       "      <td>0.458333</td>\n",
       "      <td>0.000000</td>\n",
       "      <td>0.833333</td>\n",
       "    </tr>\n",
       "    <tr>\n",
       "      <th>2503</th>\n",
       "      <td>0</td>\n",
       "      <td>PRV54431</td>\n",
       "      <td>0.000000</td>\n",
       "      <td>NaN</td>\n",
       "      <td>0.000000</td>\n",
       "      <td>2</td>\n",
       "      <td>8</td>\n",
       "      <td>7</td>\n",
       "      <td>0.777778</td>\n",
       "      <td>0.000000</td>\n",
       "      <td>0.000000</td>\n",
       "      <td>NaN</td>\n",
       "      <td>0.375000</td>\n",
       "      <td>0.111111</td>\n",
       "      <td>NaN</td>\n",
       "      <td>0.000000</td>\n",
       "      <td>NaN</td>\n",
       "      <td>NaN</td>\n",
       "      <td>9.0</td>\n",
       "      <td>1.0</td>\n",
       "      <td>0.428571</td>\n",
       "      <td>0.071429</td>\n",
       "      <td>0.000000</td>\n",
       "      <td>1.000000</td>\n",
       "    </tr>\n",
       "  </tbody>\n",
       "</table>\n",
       "</div>"
      ],
      "text/plain": [
       "      PotentialFraud  Provider  DualPatients_Perc  HasNoPhys_Perc  \\\n",
       "2495               0  PRV54422           0.000000             NaN   \n",
       "1082               0  PRV52507           0.000000             NaN   \n",
       "2308               0  PRV54167           0.000000             NaN   \n",
       "1339               0  PRV52838           0.024096             NaN   \n",
       "4615               0  PRV57390           0.000000             NaN   \n",
       "2354               0  PRV54224           0.000000             NaN   \n",
       "4829               0  PRV57676           0.000000             NaN   \n",
       "3597               0  PRV55978           0.034913        0.007481   \n",
       "1822               0  PRV53504           0.000000             NaN   \n",
       "2503               0  PRV54431           0.000000             NaN   \n",
       "\n",
       "      HasTop5AdmtCode  BenesPerAttPhys  BenesPerOperPhys  BenesPerOthPhys  \\\n",
       "2495         0.000000                7                10                9   \n",
       "1082         0.000000                9                20               14   \n",
       "2308         0.000000                1                 5                6   \n",
       "1339         0.024096               53                54               54   \n",
       "4615         0.000000               41                41               41   \n",
       "2354         0.000000               18                20               18   \n",
       "4829         0.000000               10                14               14   \n",
       "3597         0.034913              176               263              253   \n",
       "1822         0.000000                0                 3                2   \n",
       "2503         0.000000                2                 8                7   \n",
       "\n",
       "      Att_Phy_Mult  Oper_Phy_Mult  Other_Phy_Mult  IP_Dup_Perc  OP_Dup_Perc  \\\n",
       "2495      0.266667       0.000000        0.000000          NaN     0.600000   \n",
       "1082      0.172414       0.000000        0.034483          NaN     0.448276   \n",
       "2308      0.444444       0.000000        0.000000          NaN     0.333333   \n",
       "1339      0.240964       0.012048        0.048193          NaN     0.287500   \n",
       "4615      0.000000       0.000000        0.000000          NaN     0.407407   \n",
       "2354      0.069767       0.000000        0.069767          NaN     0.380952   \n",
       "4829      0.066667       0.000000        0.000000          NaN     0.285714   \n",
       "3597      0.004988       0.007481        0.000000     0.086957     0.508251   \n",
       "1822      0.500000       0.000000        0.250000          NaN     0.750000   \n",
       "2503      0.777778       0.000000        0.000000          NaN     0.375000   \n",
       "\n",
       "      OP_No_Diag_Perc  IP_No_Proc_Perc  In_Top5_St_Perc  IP_UniqueBenes_Count  \\\n",
       "2495         0.000000              NaN         0.000000                   NaN   \n",
       "1082         0.000000              NaN         0.000000                   NaN   \n",
       "2308         0.000000              NaN         0.000000                   NaN   \n",
       "1339         0.036145              NaN         0.000000                   NaN   \n",
       "4615         0.018182              NaN         0.000000                   NaN   \n",
       "2354         0.023256              NaN         0.000000                   NaN   \n",
       "4829         0.066667              NaN         1.000000                   NaN   \n",
       "3597         0.019417         0.423913         0.147132                  87.0   \n",
       "1822         0.000000              NaN         0.000000                   NaN   \n",
       "2503         0.111111              NaN         0.000000                   NaN   \n",
       "\n",
       "      IP_UniqueSt_Count  OP_UniqueBenes_Count  OP_UniqueSt_Count  \\\n",
       "2495                NaN                  12.0                2.0   \n",
       "1082                NaN                  24.0                2.0   \n",
       "2308                NaN                   8.0                1.0   \n",
       "1339                NaN                  61.0                2.0   \n",
       "4615                NaN                  42.0                2.0   \n",
       "2354                NaN                  23.0                1.0   \n",
       "4829                NaN                  15.0                1.0   \n",
       "3597                7.0                 257.0               13.0   \n",
       "1822                NaN                   4.0                1.0   \n",
       "2503                NaN                   9.0                1.0   \n",
       "\n",
       "      GenderZero_Perc  HasRenalDisease_Perc  HasDied_Perc  Outpatient_Perc  \n",
       "2495         0.429719              0.132530      0.004016         0.783133  \n",
       "1082         0.406250              0.125000      0.031250         1.000000  \n",
       "2308         0.533333              0.000000      0.000000         1.000000  \n",
       "1339         0.282051              0.128205      0.000000         1.000000  \n",
       "4615         0.500000              0.500000      0.000000         1.000000  \n",
       "2354         0.453608              0.185567      0.000000         1.000000  \n",
       "4829         1.000000              1.000000      0.000000         1.000000  \n",
       "3597         0.450639              0.207898      0.004646         1.000000  \n",
       "1822         0.333333              0.458333      0.000000         0.833333  \n",
       "2503         0.428571              0.071429      0.000000         1.000000  "
      ]
     },
     "execution_count": 21,
     "metadata": {},
     "output_type": "execute_result"
    }
   ],
   "source": [
    "providers.sample(10)"
   ]
  },
  {
   "cell_type": "code",
   "execution_count": 22,
   "metadata": {},
   "outputs": [],
   "source": [
    "# NEEDS TO BE PER INPATIENT/OUTPATIENT:\n",
    "# HasRenalDisease_Perc\n",
    "# HasDied_Perc\n",
    "# Has...Physicians (3 cols)"
   ]
  },
  {
   "cell_type": "code",
   "execution_count": null,
   "metadata": {},
   "outputs": [],
   "source": []
  },
  {
   "cell_type": "code",
   "execution_count": null,
   "metadata": {},
   "outputs": [],
   "source": []
  },
  {
   "cell_type": "code",
   "execution_count": null,
   "metadata": {},
   "outputs": [],
   "source": []
  },
  {
   "cell_type": "code",
   "execution_count": null,
   "metadata": {},
   "outputs": [],
   "source": []
  },
  {
   "cell_type": "code",
   "execution_count": null,
   "metadata": {},
   "outputs": [],
   "source": []
  },
  {
   "cell_type": "code",
   "execution_count": 23,
   "metadata": {},
   "outputs": [],
   "source": [
    "# def add_mean_summary_col(groupby_col, mean_col, newcol1, newcol2):\n",
    "#     outpatient_claims = claims.loc[claims.IsOutpatient == 1]\n",
    "#     inpatient_claims  = claims.loc[claims.IsOutpatient == 0]\n",
    "    \n",
    "#     ip = fxns.add_mean_per_col(\n",
    "#         inpatient_claims, groupby_col, mean_col, newcol1)\n",
    "#     op = fxns.add_mean_per_col(\n",
    "#         outpatient_claims, groupby_col, mean_col, newcol2)\n",
    "    \n",
    "#     expanded_claims = pd.concat([ip, op])\n",
    "#     return expanded_claims"
   ]
  },
  {
   "cell_type": "code",
   "execution_count": 24,
   "metadata": {
    "scrolled": true
   },
   "outputs": [],
   "source": [
    "# sum_stats = fxns.add_count_per_col(claims, 'BeneID', 'ClaimID', 'ClaimsPerBene')\n",
    "\n",
    "# sum_stats = fxns.add_count_per_col(\n",
    "#     claims, 'AttendingPhysician', 'ClaimID', 'ClaimsPerAttPhy')\n",
    "# sum_stats = fxns.add_count_per_col(\n",
    "#     claims, 'OperatingPhysician', 'ClaimID', 'ClaimsPerOperPhys')\n",
    "# sum_stats = fxns.add_count_per_col(\n",
    "#     claims, 'OtherPhysician', 'ClaimID', 'ClaimsPerOtherPhys')"
   ]
  },
  {
   "cell_type": "code",
   "execution_count": 25,
   "metadata": {},
   "outputs": [],
   "source": [
    "# sum_stats = add_mean_summary_col('BeneID', 'InscClaimAmtReimbursed',\n",
    "#                          'Reimb_perIP', 'Reimb_perOP')\n",
    "# sum_stats = add_mean_summary_col('BeneID', 'DeductibleAmtPaid',\n",
    "#                          'Deductible_perIP', 'Deductible_perOP')\n",
    "# sum_stats = add_mean_summary_col('BeneID', 'PercInsCovered',\n",
    "#                          'PercInsCovered_perIP', 'PercInsCovered_perOP')\n",
    "# sum_stats = add_mean_summary_col('BeneID', 'DailyClaimCost',\n",
    "#                          'DailyClaimCost_perIP', 'DailyClaimCost_perOP')"
   ]
  },
  {
   "cell_type": "code",
   "execution_count": 26,
   "metadata": {},
   "outputs": [],
   "source": [
    "# temp_cols = claims.groupby('Provider').mean().columns.to_list()\n",
    "# temp_cols\n",
    "# temp = sum_stats.groupby('Provider').mean()\n",
    "# temp.drop(temp_cols, axis=1, inplace=True)\n",
    "# print(len(temp))\n",
    "# temp.sample(10)"
   ]
  }
 ],
 "metadata": {
  "kernelspec": {
   "display_name": "Python 3",
   "language": "python",
   "name": "python3"
  },
  "language_info": {
   "codemirror_mode": {
    "name": "ipython",
    "version": 3
   },
   "file_extension": ".py",
   "mimetype": "text/x-python",
   "name": "python",
   "nbconvert_exporter": "python",
   "pygments_lexer": "ipython3",
   "version": "3.7.6"
  },
  "toc": {
   "base_numbering": 1,
   "nav_menu": {},
   "number_sections": true,
   "sideBar": true,
   "skip_h1_title": true,
   "title_cell": "Table of Contents",
   "title_sidebar": "Contents",
   "toc_cell": false,
   "toc_position": {
    "height": "calc(100% - 180px)",
    "left": "10px",
    "top": "150px",
    "width": "165px"
   },
   "toc_section_display": true,
   "toc_window_display": true
  }
 },
 "nbformat": 4,
 "nbformat_minor": 4
}
