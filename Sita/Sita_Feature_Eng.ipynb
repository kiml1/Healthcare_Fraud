{
 "cells": [
  {
   "cell_type": "markdown",
   "metadata": {},
   "source": [
    "## Setup and Data Import"
   ]
  },
  {
   "cell_type": "code",
   "execution_count": 7,
   "metadata": {},
   "outputs": [],
   "source": [
    "import sys\n",
    "sys.path.insert(0, '..')\n",
    "\n",
    "from joblib import load\n",
    "\n",
    "import Sita_Functions as fxns\n",
    "from Sita_Functions import np, pd\n",
    "\n",
    "pd.set_option('display.max_columns', None)\n",
    "pd.set_option('display.max_rows', None)\n",
    "\n",
    "from datetime import timedelta"
   ]
  },
  {
   "cell_type": "markdown",
   "metadata": {},
   "source": [
    "## Claims DF"
   ]
  },
  {
   "cell_type": "code",
   "execution_count": null,
   "metadata": {},
   "outputs": [],
   "source": [
    "!python ../Preprocessing.py"
   ]
  },
  {
   "cell_type": "code",
   "execution_count": 3,
   "metadata": {},
   "outputs": [],
   "source": [
    "claims = load('claims.pkl')"
   ]
  },
  {
   "cell_type": "markdown",
   "metadata": {},
   "source": [
    "### New Columns"
   ]
  },
  {
   "cell_type": "code",
   "execution_count": null,
   "metadata": {},
   "outputs": [],
   "source": [
    "claims['AgeAtService'] = ((claims.ClaimStartDt - claims.DOB)\n",
    "                              / timedelta(days=365)).astype(int)\n",
    "claims['HasDied'] = claims.DOD.notna()\n",
    "\n",
    "physician_cols = \\\n",
    "    claims.columns[claims.columns.str.contains('Physician')].to_list()\n",
    "claims['HasAnyPhysician'] = claims[physician_cols].notna().any(axis=1)\n",
    "claims['HasAllPhysicians'] = claims[physician_cols].notna().all(axis=1)\n",
    "\n",
    "claims['ClaimDuration'] = \\\n",
    "    (claims.ClaimEndDt  - claims.ClaimStartDt).dt.days + 1\n",
    "claims['IPDuration'] = \\\n",
    "    (claims.DischargeDt - claims.AdmissionDt).dt.days + 1\n",
    "\n",
    "claims['ClaimCost'] = \\\n",
    "    claims.InscClaimAmtReimbursed + claims.DeductibleAmtPaid\n",
    "claims['PercInsCovered'] = \\\n",
    "    round((claims.InscClaimAmtReimbursed / claims.ClaimCost) * 100)\n",
    "claims['DailyClaimCost'] = \\\n",
    "    round(claims.ClaimCost / claims.ClaimDuration)\n",
    "\n",
    "# add date cols containing only day, week, year\n",
    "fxns.split_date(claims, ['ClaimStartDt', 'ClaimEndDt', 'AdmissionDt', 'DischargeDt'])\n",
    "\n",
    "# claims per patient\n",
    "# ratio inpatient claims"
   ]
  },
  {
   "cell_type": "markdown",
   "metadata": {},
   "source": [
    "### Pre-processing"
   ]
  },
  {
   "cell_type": "code",
   "execution_count": null,
   "metadata": {},
   "outputs": [],
   "source": [
    "# encode bool colums to 0/1\n",
    "fxns.re_encode_bool(claims, ['HasDied', 'HasAnyPhysician', 'HasAllPhysicians'])"
   ]
  },
  {
   "cell_type": "code",
   "execution_count": null,
   "metadata": {},
   "outputs": [],
   "source": [
    "# drop ChronicCond_ prefix from applicable cols\n",
    "fxns.drop_chronic_prefix(claims)"
   ]
  },
  {
   "cell_type": "code",
   "execution_count": null,
   "metadata": {},
   "outputs": [],
   "source": [
    "# change object cols to dtype category\n",
    "fxns.to_category_dtype(claims)"
   ]
  },
  {
   "cell_type": "markdown",
   "metadata": {},
   "source": [
    "### Variables"
   ]
  },
  {
   "cell_type": "code",
   "execution_count": null,
   "metadata": {},
   "outputs": [],
   "source": [
    "numeric_cols     = fxns.cols_by_dtype(claims)[0]\n",
    "categorical_cols = fxns.cols_by_dtype(claims)[1]\n",
    "date_cols        = fxns.cols_by_dtype(claims)[2]\n",
    "\n",
    "physician_cols = \\\n",
    "    claims.columns[claims.columns.str.contains('Physician')].to_list()\n",
    "chronic_cols   = \\\n",
    "    claims.columns[claims.columns.str.contains('Chronic')].to_list()\n",
    "diagnosis_cols = \\\n",
    "    claims.columns[claims.columns.str.contains('Diagnosis')].to_list()\n",
    "procedure_cols = \\\n",
    "    claims.columns[claims.columns.str.contains('Procedure')].to_list()"
   ]
  },
  {
   "cell_type": "markdown",
   "metadata": {},
   "source": [
    "### Summary Data"
   ]
  },
  {
   "cell_type": "code",
   "execution_count": null,
   "metadata": {},
   "outputs": [],
   "source": [
    "outpatient_claims = claims.loc[claims.IsOutpatient == 1]\n",
    "inpatient_claims  = claims.loc[claims.IsOutpatient == 0]"
   ]
  },
  {
   "cell_type": "code",
   "execution_count": null,
   "metadata": {},
   "outputs": [],
   "source": [
    "groupby_providers   = claims.groupby('Provider')"
   ]
  },
  {
   "cell_type": "code",
   "execution_count": null,
   "metadata": {},
   "outputs": [],
   "source": [
    "mean_by_provider    = \\\n",
    "    groupby_providers.mean().add_suffix('_mean').reset_index()"
   ]
  },
  {
   "cell_type": "code",
   "execution_count": null,
   "metadata": {},
   "outputs": [],
   "source": [
    "sum_by_provider     = \\\n",
    "    groupby_providers.sum().add_suffix('_sum').reset_index()"
   ]
  },
  {
   "cell_type": "code",
   "execution_count": null,
   "metadata": {},
   "outputs": [],
   "source": [
    "chronic_by_provider = claims[['Provider'] + chronic_cols\n",
    "                            ].groupby('Provider').sum().reset_index()"
   ]
  },
  {
   "cell_type": "code",
   "execution_count": null,
   "metadata": {},
   "outputs": [],
   "source": [
    "# need to get unique counts\n",
    "count_by_provider = groupby_providers[\n",
    "    ['BeneID', 'ClaimID', 'County', 'State', 'IPDuration']\n",
    "    + physician_cols + diagnosis_cols + procedure_cols\n",
    "    ].count().add_suffix('_count').reset_index()\n",
    "\n",
    "# ADD PHYSICIAN COLS (NONE/MULT), RATIOS, SUMS OF EACH\n",
    "# CLAIM ADMIT CODE, DIAGNOSIS GROUP CODE?\n",
    "# ADD RANGE OF AGE"
   ]
  },
  {
   "cell_type": "code",
   "execution_count": null,
   "metadata": {},
   "outputs": [],
   "source": [
    "providers = pd.merge(mean_by_provider, sum_by_provider, on='Provider')\n",
    "providers = pd.merge(providers, count_by_provider, on='Provider')\n",
    "providers = pd.merge(providers, chronic_by_provider, on='Provider')\n",
    "providers.sort_index(axis=1, inplace=True)"
   ]
  },
  {
   "cell_type": "code",
   "execution_count": null,
   "metadata": {},
   "outputs": [],
   "source": [
    "# print(claims.columns, '\\n')\n",
    "\n",
    "# Can't use, but have IPDuration count/mean/sum:\n",
    "#     'AdmissionDt', 'AdmissionDt_Week',\n",
    "#     'DischargeDt', 'DischargeDt_Week'\n",
    "\n",
    "# Can't use, but have ClaimDuration count/mean/sum:\n",
    "#     'ClaimEndDt', 'ClaimEndDt_Week', 'ClaimID'\n",
    "#     'ClaimStartDt', 'ClaimStartDt_Week',\n",
    "\n",
    "\n",
    "# Can't use, but have AgeAtService mean/sum and HasDied sum/ratio:\n",
    "#     'DOB', 'DOD'"
   ]
  },
  {
   "cell_type": "code",
   "execution_count": null,
   "metadata": {},
   "outputs": [],
   "source": [
    "print(providers.shape, '\\n')\n",
    "print(providers.columns)"
   ]
  },
  {
   "cell_type": "markdown",
   "metadata": {},
   "source": [
    "## New Columns"
   ]
  },
  {
   "cell_type": "markdown",
   "metadata": {},
   "source": [
    "### Beneficiaries"
   ]
  },
  {
   "cell_type": "code",
   "execution_count": null,
   "metadata": {},
   "outputs": [],
   "source": [
    "def binary_ratios(df, col, group1, group2):\n",
    "    by_provider = df.groupby(['Provider', col]).ClaimID.count().reset_index()\n",
    "\n",
    "    colname = pd.DataFrame()\n",
    "    colname[group1] = by_provider[by_provider[col] == 1].ClaimID.to_list()\n",
    "    colname[group2] = by_provider[by_provider[col] == 0].ClaimID.to_list()\n",
    "    \n",
    "    newcolname1 = f'{group1}_ratio'\n",
    "    \n",
    "    providers[newcolname1] = round((colname[group1] / (colname[group1] + colname[group2])) * 100, 2)\n",
    "\n",
    "binary_ratios(claims, 'Gender', 'GenderZero', 'GenderOne')\n",
    "binary_ratios(claims, 'IsOutpatient', 'IsOutpatient', 'Inpatient')\n",
    "binary_ratios(claims, 'RenalDisease', 'HasRenalDisease', 'NotRenalDisease')\n",
    "binary_ratios(claims, 'HasDied', 'HasDied', 'NotDead')"
   ]
  },
  {
   "cell_type": "code",
   "execution_count": null,
   "metadata": {},
   "outputs": [],
   "source": [
    "race_by_provider = claims.groupby(['Provider', 'Race']).ClaimID.count().reset_index()\n",
    "\n",
    "race = pd.DataFrame()\n",
    "race['race1'] = race_by_provider[race_by_provider.Race == 1].ClaimID.to_list()\n",
    "race['race0'] = race_by_provider[race_by_provider.Race == 0].ClaimID.to_list()\n",
    "race['race3'] = race_by_provider[race_by_provider.Race == 3].ClaimID.to_list()\n",
    "race['race5'] = race_by_provider[race_by_provider.Race == 5].ClaimID.to_list()\n",
    "\n",
    "providers['RaceZero_ratio']   = round((race.race0 / np.sum(race, axis=1) * 100), 2)\n",
    "providers['RaceThree_ratio'] = round((race.race3 / np.sum(race, axis=1) * 100), 2)\n",
    "providers['RaceFive_ratio']  = round((race.race5 / np.sum(race, axis=1) * 100), 2)"
   ]
  },
  {
   "cell_type": "code",
   "execution_count": null,
   "metadata": {},
   "outputs": [],
   "source": [
    "# DO WE WANT CHRONIC CONDITION RATIOS? WHY/WHY NOT?"
   ]
  },
  {
   "cell_type": "code",
   "execution_count": null,
   "metadata": {},
   "outputs": [],
   "source": [
    "ratio_cols = providers.columns[providers.columns.str.contains('_ratio')].to_list()\n",
    "providers[['Provider'] + ratio_cols].sample(5)"
   ]
  },
  {
   "cell_type": "markdown",
   "metadata": {},
   "source": [
    "### Doctors"
   ]
  },
  {
   "cell_type": "code",
   "execution_count": null,
   "metadata": {},
   "outputs": [],
   "source": []
  },
  {
   "cell_type": "markdown",
   "metadata": {},
   "source": [
    "### Codes"
   ]
  },
  {
   "cell_type": "code",
   "execution_count": null,
   "metadata": {},
   "outputs": [],
   "source": []
  },
  {
   "cell_type": "markdown",
   "metadata": {},
   "source": [
    "### Money"
   ]
  },
  {
   "cell_type": "code",
   "execution_count": null,
   "metadata": {},
   "outputs": [],
   "source": []
  },
  {
   "cell_type": "markdown",
   "metadata": {},
   "source": [
    "### Time"
   ]
  },
  {
   "cell_type": "code",
   "execution_count": null,
   "metadata": {},
   "outputs": [],
   "source": []
  },
  {
   "cell_type": "markdown",
   "metadata": {},
   "source": [
    "### Location"
   ]
  },
  {
   "cell_type": "code",
   "execution_count": null,
   "metadata": {},
   "outputs": [],
   "source": []
  },
  {
   "cell_type": "markdown",
   "metadata": {},
   "source": [
    "### Size"
   ]
  },
  {
   "cell_type": "code",
   "execution_count": null,
   "metadata": {},
   "outputs": [],
   "source": []
  }
 ],
 "metadata": {
  "kernelspec": {
   "display_name": "Python 3",
   "language": "python",
   "name": "python3"
  },
  "language_info": {
   "codemirror_mode": {
    "name": "ipython",
    "version": 3
   },
   "file_extension": ".py",
   "mimetype": "text/x-python",
   "name": "python",
   "nbconvert_exporter": "python",
   "pygments_lexer": "ipython3",
   "version": "3.7.6"
  },
  "toc": {
   "base_numbering": 1,
   "nav_menu": {},
   "number_sections": true,
   "sideBar": true,
   "skip_h1_title": true,
   "title_cell": "Table of Contents",
   "title_sidebar": "Contents",
   "toc_cell": false,
   "toc_position": {
    "height": "calc(100% - 180px)",
    "left": "10px",
    "top": "150px",
    "width": "165px"
   },
   "toc_section_display": true,
   "toc_window_display": true
  }
 },
 "nbformat": 4,
 "nbformat_minor": 4
}
