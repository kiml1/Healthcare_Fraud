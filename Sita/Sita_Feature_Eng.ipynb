{
 "cells": [
  {
   "cell_type": "markdown",
   "metadata": {},
   "source": [
    "## Setup and Data Import"
   ]
  },
  {
   "cell_type": "code",
   "execution_count": 1,
   "metadata": {},
   "outputs": [],
   "source": [
    "import sys\n",
    "sys.path.insert(0, '..')\n",
    "\n",
    "from joblib import load\n",
    "\n",
    "import Sita_Functions as fxns\n",
    "from Sita_Functions import np, pd\n",
    "\n",
    "pd.set_option('display.max_columns', None)\n",
    "pd.set_option('display.max_rows', None)\n",
    "\n",
    "from datetime import timedelta"
   ]
  },
  {
   "cell_type": "markdown",
   "metadata": {},
   "source": [
    "## Claims DF"
   ]
  },
  {
   "cell_type": "code",
   "execution_count": 2,
   "metadata": {},
   "outputs": [],
   "source": [
    "# !python Sita_Preprocessing.py"
   ]
  },
  {
   "cell_type": "code",
   "execution_count": 3,
   "metadata": {},
   "outputs": [],
   "source": [
    "claims = load('claims.pkl')"
   ]
  },
  {
   "cell_type": "markdown",
   "metadata": {},
   "source": [
    "### New Columns"
   ]
  },
  {
   "cell_type": "code",
   "execution_count": 4,
   "metadata": {},
   "outputs": [],
   "source": [
    "physician_cols = \\\n",
    "    claims.columns[claims.columns.str.contains('Physician')].to_list()\n",
    "\n",
    "# add columns\n",
    "claims['AgeAtService']     = ((claims.ClaimStartDt - claims.DOB)\n",
    "                              / timedelta(days=365)).astype(int)\n",
    "claims['HasDied']          = claims.DOD.notna()\n",
    "claims['HasAnyPhysician']  = claims[physician_cols].notna().any(axis=1)\n",
    "claims['HasAllPhysicians'] = claims[physician_cols].notna().all(axis=1)\n",
    "claims['ClaimCost']        = \\\n",
    "    claims.InscClaimAmtReimbursed + claims.DeductibleAmtPaid\n",
    "claims['ClaimDuration']    = \\\n",
    "    (claims.ClaimEndDt  - claims.ClaimStartDt).dt.days + 1\n",
    "claims['IPDuration']       = \\\n",
    "    (claims.DischargeDt - claims.AdmissionDt).dt.days + 1"
   ]
  },
  {
   "cell_type": "markdown",
   "metadata": {},
   "source": [
    "### Pre-processing"
   ]
  },
  {
   "cell_type": "code",
   "execution_count": 5,
   "metadata": {},
   "outputs": [],
   "source": [
    "# encode bool colums to 0/1\n",
    "fxns.re_encode_bool(claims, ['HasDied', 'HasAnyPhysician', 'HasAllPhysicians'])"
   ]
  },
  {
   "cell_type": "code",
   "execution_count": 6,
   "metadata": {},
   "outputs": [],
   "source": [
    "# add date cols containing only day, week, year\n",
    "fxns.split_date(claims, ['ClaimStartDt', 'ClaimEndDt', 'AdmissionDt', 'DischargeDt'])"
   ]
  },
  {
   "cell_type": "code",
   "execution_count": 7,
   "metadata": {},
   "outputs": [],
   "source": [
    "# drop ChronicCond_ prefix from applicable cols\n",
    "fxns.drop_chronic_prefix(claims)"
   ]
  },
  {
   "cell_type": "code",
   "execution_count": 8,
   "metadata": {},
   "outputs": [],
   "source": [
    "# change object cols to dtype category\n",
    "fxns.to_category_dtype(claims)"
   ]
  },
  {
   "cell_type": "markdown",
   "metadata": {},
   "source": [
    "### Variables"
   ]
  },
  {
   "cell_type": "code",
   "execution_count": 9,
   "metadata": {},
   "outputs": [],
   "source": [
    "numeric_cols     = fxns.cols_by_dtype(claims)[0]\n",
    "categorical_cols = fxns.cols_by_dtype(claims)[1]\n",
    "date_cols        = fxns.cols_by_dtype(claims)[2]\n",
    "\n",
    "physician_cols = \\\n",
    "    claims.columns[claims.columns.str.contains('Physician')].to_list()\n",
    "chronic_cols   = \\\n",
    "    claims.columns[claims.columns.str.contains('Chronic')].to_list()\n",
    "diagnosis_cols = \\\n",
    "    claims.columns[claims.columns.str.contains('Diagnosis')].to_list()\n",
    "procedure_cols = \\\n",
    "    claims.columns[claims.columns.str.contains('Procedure')].to_list()"
   ]
  },
  {
   "cell_type": "markdown",
   "metadata": {},
   "source": [
    "### Summary Data"
   ]
  },
  {
   "cell_type": "code",
   "execution_count": 10,
   "metadata": {},
   "outputs": [],
   "source": [
    "outpatient_claims = claims.loc[claims.IsOutpatient == 1]\n",
    "inpatient_claims  = claims.loc[claims.IsOutpatient == 0]"
   ]
  },
  {
   "cell_type": "code",
   "execution_count": 11,
   "metadata": {},
   "outputs": [],
   "source": [
    "groupby_providers   = claims.groupby('Provider')"
   ]
  },
  {
   "cell_type": "code",
   "execution_count": 12,
   "metadata": {},
   "outputs": [],
   "source": [
    "mean_by_provider    = \\\n",
    "    groupby_providers.mean().add_suffix('_mean').reset_index()"
   ]
  },
  {
   "cell_type": "code",
   "execution_count": 13,
   "metadata": {},
   "outputs": [],
   "source": [
    "sum_by_provider     = \\\n",
    "    groupby_providers.sum().add_suffix('_sum').reset_index()"
   ]
  },
  {
   "cell_type": "code",
   "execution_count": 14,
   "metadata": {},
   "outputs": [],
   "source": [
    "chronic_by_provider = claims[['Provider'] + chronic_cols\n",
    "                            ].groupby('Provider').sum().reset_index()"
   ]
  },
  {
   "cell_type": "code",
   "execution_count": 15,
   "metadata": {},
   "outputs": [],
   "source": [
    "# need to get unique counts\n",
    "count_by_provider = groupby_providers[\n",
    "    ['BeneID', 'ClaimID', 'County', 'State', 'IPDuration']\n",
    "    + physician_cols + diagnosis_cols + procedure_cols\n",
    "    ].count().add_suffix('_count').reset_index()\n",
    "\n",
    "# ADD PHYSICIAN COLS (NONE/MULT), RATIOS, SUMS OF EACH\n",
    "# CLAIM ADMIT CODE, DIAGNOSIS GROUP CODE?"
   ]
  },
  {
   "cell_type": "code",
   "execution_count": 16,
   "metadata": {},
   "outputs": [],
   "source": [
    "providers = pd.merge(mean_by_provider, sum_by_provider, on='Provider')\n",
    "providers = pd.merge(providers, count_by_provider, on='Provider')\n",
    "providers = pd.merge(providers, chronic_by_provider, on='Provider')\n",
    "providers.sort_index(axis=1, inplace=True)"
   ]
  },
  {
   "cell_type": "code",
   "execution_count": 17,
   "metadata": {},
   "outputs": [],
   "source": [
    "# print(claims.columns, '\\n')\n",
    "\n",
    "# Can't use, but have IPDuration count/mean/sum:\n",
    "#     'AdmissionDt', 'AdmissionDt_Week',\n",
    "#     'DischargeDt', 'DischargeDt_Week'\n",
    "\n",
    "# Can't use, but have ClaimDuration count/mean/sum:\n",
    "#     'ClaimEndDt', 'ClaimEndDt_Week', 'ClaimID'\n",
    "#     'ClaimStartDt', 'ClaimStartDt_Week',\n",
    "\n",
    "\n",
    "# Can't use, but have AgeAtService mean/sum and HasDied sum/ratio:\n",
    "#     'DOB', 'DOD'"
   ]
  },
  {
   "cell_type": "code",
   "execution_count": 18,
   "metadata": {},
   "outputs": [
    {
     "name": "stdout",
     "output_type": "stream",
     "text": [
      "(5410, 64) \n",
      "\n",
      "Index(['AgeAtService_mean', 'AgeAtService_sum', 'Alzheimers_Chronic',\n",
      "       'AttendingPhysician_count', 'BeneID_count', 'Cancer_Chronic',\n",
      "       'ClaimCost_mean', 'ClaimCost_sum', 'ClaimDuration_mean',\n",
      "       'ClaimDuration_sum', 'ClaimID_count', 'ClmAdmitDiagnosisCode_count',\n",
      "       'ClmDiagnosisCode_10_count', 'ClmDiagnosisCode_1_count',\n",
      "       'ClmDiagnosisCode_2_count', 'ClmDiagnosisCode_3_count',\n",
      "       'ClmDiagnosisCode_4_count', 'ClmDiagnosisCode_5_count',\n",
      "       'ClmDiagnosisCode_6_count', 'ClmDiagnosisCode_7_count',\n",
      "       'ClmDiagnosisCode_8_count', 'ClmDiagnosisCode_9_count',\n",
      "       'ClmProcedureCode_1_count', 'ClmProcedureCode_2_count',\n",
      "       'ClmProcedureCode_3_count', 'ClmProcedureCode_4_count',\n",
      "       'ClmProcedureCode_5_count', 'ClmProcedureCode_6_count', 'County_count',\n",
      "       'DeductibleAmtPaid_mean', 'DeductibleAmtPaid_sum', 'Depression_Chronic',\n",
      "       'Diabetes_Chronic', 'DiagnosisGroupCode_count',\n",
      "       'HasAllPhysicians_count', 'HasAnyPhysician_count',\n",
      "       'HeartFailure_Chronic', 'IPAnnualDeductibleAmt_mean',\n",
      "       'IPAnnualDeductibleAmt_sum', 'IPAnnualReimbursementAmt_mean',\n",
      "       'IPAnnualReimbursementAmt_sum', 'IPDuration_count', 'IPDuration_mean',\n",
      "       'IPDuration_sum', 'InscClaimAmtReimbursed_mean',\n",
      "       'InscClaimAmtReimbursed_sum', 'IschemicHeart_Chronic',\n",
      "       'KidneyDisease_Chronic', 'NoOfMonths_PartACov_mean',\n",
      "       'NoOfMonths_PartACov_sum', 'NoOfMonths_PartBCov_mean',\n",
      "       'NoOfMonths_PartBCov_sum', 'OPAnnualDeductibleAmt_mean',\n",
      "       'OPAnnualDeductibleAmt_sum', 'OPAnnualReimbursementAmt_mean',\n",
      "       'OPAnnualReimbursementAmt_sum', 'ObstrPulmonary_Chronic',\n",
      "       'OperatingPhysician_count', 'Osteoporosis_Chronic',\n",
      "       'OtherPhysician_count', 'Provider', 'RheumatoidArthritis_Chronic',\n",
      "       'State_count', 'Stroke_Chronic'],\n",
      "      dtype='object')\n"
     ]
    }
   ],
   "source": [
    "print(providers.shape, '\\n')\n",
    "print(providers.columns)"
   ]
  },
  {
   "cell_type": "markdown",
   "metadata": {},
   "source": [
    "## New Columns"
   ]
  },
  {
   "cell_type": "markdown",
   "metadata": {},
   "source": [
    "### Beneficiaries"
   ]
  },
  {
   "cell_type": "code",
   "execution_count": 19,
   "metadata": {},
   "outputs": [],
   "source": [
    "def binary_ratios(df, col, group1, group2):\n",
    "    by_provider = df.groupby(['Provider', col]).ClaimID.count().reset_index()\n",
    "\n",
    "    colname = pd.DataFrame()\n",
    "    colname[group1] = by_provider[by_provider[col] == 1].ClaimID.to_list()\n",
    "    colname[group2] = by_provider[by_provider[col] == 0].ClaimID.to_list()\n",
    "    \n",
    "    newcolname1 = f'{group1}_ratio'\n",
    "    \n",
    "    providers[newcolname1] = round((colname[group1] / (colname[group1] + colname[group2])) * 100, 2)\n",
    "\n",
    "binary_ratios(claims, 'Gender', 'GenderZero', 'GenderOne')\n",
    "binary_ratios(claims, 'IsOutpatient', 'IsOutpatient', 'Inpatient')\n",
    "binary_ratios(claims, 'RenalDisease', 'HasRenalDisease', 'NotRenalDisease')\n",
    "binary_ratios(claims, 'HasDied', 'HasDied', 'NotDead')"
   ]
  },
  {
   "cell_type": "code",
   "execution_count": 20,
   "metadata": {},
   "outputs": [],
   "source": [
    "race_by_provider = claims.groupby(['Provider', 'Race']).ClaimID.count().reset_index()\n",
    "\n",
    "race = pd.DataFrame()\n",
    "race['race1'] = race_by_provider[race_by_provider.Race == 1].ClaimID.to_list()\n",
    "race['race0'] = race_by_provider[race_by_provider.Race == 0].ClaimID.to_list()\n",
    "race['race3'] = race_by_provider[race_by_provider.Race == 3].ClaimID.to_list()\n",
    "race['race5'] = race_by_provider[race_by_provider.Race == 5].ClaimID.to_list()\n",
    "\n",
    "providers['RaceZero_ratio']   = round((race.race0 / np.sum(race, axis=1) * 100), 2)\n",
    "providers['RaceThree_ratio'] = round((race.race3 / np.sum(race, axis=1) * 100), 2)\n",
    "providers['RaceFive_ratio']  = round((race.race5 / np.sum(race, axis=1) * 100), 2)"
   ]
  },
  {
   "cell_type": "code",
   "execution_count": 21,
   "metadata": {},
   "outputs": [],
   "source": [
    "# DO WE WANT CHRONIC CONDITION RATIOS? WHY/WHY NOT?\n",
    "# DO WE WANT DIAGNOSIS CODE RATIOS? WHY/WHY NOT?\n",
    "# DO WE WANT PROCEDURE CODE RATIOS? WHY/WHY NOT?"
   ]
  },
  {
   "cell_type": "code",
   "execution_count": 22,
   "metadata": {},
   "outputs": [
    {
     "data": {
      "text/html": [
       "<div>\n",
       "<style scoped>\n",
       "    .dataframe tbody tr th:only-of-type {\n",
       "        vertical-align: middle;\n",
       "    }\n",
       "\n",
       "    .dataframe tbody tr th {\n",
       "        vertical-align: top;\n",
       "    }\n",
       "\n",
       "    .dataframe thead th {\n",
       "        text-align: right;\n",
       "    }\n",
       "</style>\n",
       "<table border=\"1\" class=\"dataframe\">\n",
       "  <thead>\n",
       "    <tr style=\"text-align: right;\">\n",
       "      <th></th>\n",
       "      <th>Provider</th>\n",
       "      <th>GenderZero_ratio</th>\n",
       "      <th>IsOutpatient_ratio</th>\n",
       "      <th>HasRenalDisease_ratio</th>\n",
       "      <th>HasDied_ratio</th>\n",
       "      <th>RaceZero_ratio</th>\n",
       "      <th>RaceThree_ratio</th>\n",
       "      <th>RaceFive_ratio</th>\n",
       "    </tr>\n",
       "  </thead>\n",
       "  <tbody>\n",
       "    <tr>\n",
       "      <th>4771</th>\n",
       "      <td>PRV56978</td>\n",
       "      <td>50.00</td>\n",
       "      <td>100.00</td>\n",
       "      <td>13.33</td>\n",
       "      <td>0.83</td>\n",
       "      <td>7.50</td>\n",
       "      <td>5.83</td>\n",
       "      <td>6.67</td>\n",
       "    </tr>\n",
       "    <tr>\n",
       "      <th>5367</th>\n",
       "      <td>PRV57717</td>\n",
       "      <td>39.47</td>\n",
       "      <td>86.84</td>\n",
       "      <td>19.30</td>\n",
       "      <td>0.00</td>\n",
       "      <td>7.89</td>\n",
       "      <td>0.88</td>\n",
       "      <td>9.65</td>\n",
       "    </tr>\n",
       "    <tr>\n",
       "      <th>1722</th>\n",
       "      <td>PRV53148</td>\n",
       "      <td>33.33</td>\n",
       "      <td>100.00</td>\n",
       "      <td>26.67</td>\n",
       "      <td>0.00</td>\n",
       "      <td>0.00</td>\n",
       "      <td>0.00</td>\n",
       "      <td>0.00</td>\n",
       "    </tr>\n",
       "    <tr>\n",
       "      <th>3518</th>\n",
       "      <td>PRV55416</td>\n",
       "      <td>43.84</td>\n",
       "      <td>97.26</td>\n",
       "      <td>16.44</td>\n",
       "      <td>2.74</td>\n",
       "      <td>0.00</td>\n",
       "      <td>5.48</td>\n",
       "      <td>0.00</td>\n",
       "    </tr>\n",
       "    <tr>\n",
       "      <th>4684</th>\n",
       "      <td>PRV56867</td>\n",
       "      <td>44.44</td>\n",
       "      <td>100.00</td>\n",
       "      <td>22.22</td>\n",
       "      <td>0.00</td>\n",
       "      <td>11.11</td>\n",
       "      <td>0.00</td>\n",
       "      <td>0.00</td>\n",
       "    </tr>\n",
       "  </tbody>\n",
       "</table>\n",
       "</div>"
      ],
      "text/plain": [
       "      Provider  GenderZero_ratio  IsOutpatient_ratio  HasRenalDisease_ratio  \\\n",
       "4771  PRV56978             50.00              100.00                  13.33   \n",
       "5367  PRV57717             39.47               86.84                  19.30   \n",
       "1722  PRV53148             33.33              100.00                  26.67   \n",
       "3518  PRV55416             43.84               97.26                  16.44   \n",
       "4684  PRV56867             44.44              100.00                  22.22   \n",
       "\n",
       "      HasDied_ratio  RaceZero_ratio  RaceThree_ratio  RaceFive_ratio  \n",
       "4771           0.83            7.50             5.83            6.67  \n",
       "5367           0.00            7.89             0.88            9.65  \n",
       "1722           0.00            0.00             0.00            0.00  \n",
       "3518           2.74            0.00             5.48            0.00  \n",
       "4684           0.00           11.11             0.00            0.00  "
      ]
     },
     "execution_count": 22,
     "metadata": {},
     "output_type": "execute_result"
    }
   ],
   "source": [
    "ratio_cols = providers.columns[providers.columns.str.contains('_ratio')].to_list()\n",
    "providers[['Provider'] + ratio_cols].sample(5)"
   ]
  },
  {
   "cell_type": "markdown",
   "metadata": {},
   "source": [
    "### Doctors"
   ]
  },
  {
   "cell_type": "code",
   "execution_count": null,
   "metadata": {},
   "outputs": [],
   "source": []
  },
  {
   "cell_type": "markdown",
   "metadata": {},
   "source": [
    "### Codes"
   ]
  },
  {
   "cell_type": "code",
   "execution_count": null,
   "metadata": {},
   "outputs": [],
   "source": []
  },
  {
   "cell_type": "markdown",
   "metadata": {},
   "source": [
    "### Money"
   ]
  },
  {
   "cell_type": "code",
   "execution_count": null,
   "metadata": {},
   "outputs": [],
   "source": []
  },
  {
   "cell_type": "markdown",
   "metadata": {},
   "source": [
    "### Time"
   ]
  },
  {
   "cell_type": "code",
   "execution_count": null,
   "metadata": {},
   "outputs": [],
   "source": []
  },
  {
   "cell_type": "markdown",
   "metadata": {},
   "source": [
    "### Location"
   ]
  },
  {
   "cell_type": "code",
   "execution_count": null,
   "metadata": {},
   "outputs": [],
   "source": []
  }
 ],
 "metadata": {
  "kernelspec": {
   "display_name": "Python 3",
   "language": "python",
   "name": "python3"
  },
  "language_info": {
   "codemirror_mode": {
    "name": "ipython",
    "version": 3
   },
   "file_extension": ".py",
   "mimetype": "text/x-python",
   "name": "python",
   "nbconvert_exporter": "python",
   "pygments_lexer": "ipython3",
   "version": "3.7.6"
  },
  "toc": {
   "base_numbering": 1,
   "nav_menu": {},
   "number_sections": true,
   "sideBar": true,
   "skip_h1_title": true,
   "title_cell": "Table of Contents",
   "title_sidebar": "Contents",
   "toc_cell": false,
   "toc_position": {
    "height": "calc(100% - 180px)",
    "left": "10px",
    "top": "150px",
    "width": "165px"
   },
   "toc_section_display": true,
   "toc_window_display": true
  }
 },
 "nbformat": 4,
 "nbformat_minor": 4
}
