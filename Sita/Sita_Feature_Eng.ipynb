{
 "cells": [
  {
   "cell_type": "markdown",
   "metadata": {},
   "source": [
    "## Setup and Data Import"
   ]
  },
  {
   "cell_type": "code",
   "execution_count": 1,
   "metadata": {},
   "outputs": [],
   "source": [
    "import sys\n",
    "sys.path.insert(0, '..')\n",
    "\n",
    "from joblib import load\n",
    "\n",
    "import Functions as fxns\n",
    "from Functions import np, pd\n",
    "\n",
    "pd.set_option('display.max_columns', None)\n",
    "pd.set_option('display.max_rows', None)\n",
    "\n",
    "from datetime import timedelta"
   ]
  },
  {
   "cell_type": "markdown",
   "metadata": {},
   "source": [
    "## Claims DF"
   ]
  },
  {
   "cell_type": "code",
   "execution_count": 2,
   "metadata": {},
   "outputs": [],
   "source": [
    "# !python ../Preprocessing.py"
   ]
  },
  {
   "cell_type": "code",
   "execution_count": 3,
   "metadata": {},
   "outputs": [],
   "source": [
    "claims = load('../claims.pkl')"
   ]
  },
  {
   "cell_type": "markdown",
   "metadata": {},
   "source": [
    "### New Columns"
   ]
  },
  {
   "cell_type": "code",
   "execution_count": 4,
   "metadata": {},
   "outputs": [],
   "source": [
    "claims['AgeAtService'] = ((claims.ClaimStartDt - claims.DOB)\n",
    "                              / timedelta(days=365)).astype(int)\n",
    "claims['HasDied'] = claims.DOD.notna()\n",
    "\n",
    "physician_cols = \\\n",
    "    claims.columns[claims.columns.str.contains('Physician')].to_list()\n",
    "claims['HasAnyPhysician'] = claims[physician_cols].notna().any(axis=1)\n",
    "claims['HasAllPhysicians'] = claims[physician_cols].notna().all(axis=1)\n",
    "\n",
    "claims['ClaimDuration'] = \\\n",
    "    (claims.ClaimEndDt  - claims.ClaimStartDt).dt.days + 1\n",
    "claims['IPDuration'] = \\\n",
    "    (claims.DischargeDt - claims.AdmissionDt).dt.days + 1\n",
    "\n",
    "outpatient_claims = claims.loc[claims.IsOutpatient == 1]\n",
    "inpatient_claims  = claims.loc[claims.IsOutpatient == 0]\n",
    "claims['IPClaimDuration'] = \\\n",
    "    (inpatient_claims.ClaimEndDt\n",
    "     - inpatient_claims.ClaimStartDt).dt.days + 1\n",
    "claims['OPClaimDuration'] = \\\n",
    "    (outpatient_claims.ClaimEndDt\n",
    "     - outpatient_claims.ClaimStartDt).dt.days + 1\n",
    "\n",
    "claims['ClaimCost'] = \\\n",
    "    claims.InscClaimAmtReimbursed + claims.DeductibleAmtPaid\n",
    "claims['PercInsCovered'] = \\\n",
    "    round((claims.InscClaimAmtReimbursed / claims.ClaimCost) * 100)\n",
    "claims['DailyClaimCost'] = \\\n",
    "    round(claims.ClaimCost / claims.ClaimDuration)"
   ]
  },
  {
   "cell_type": "code",
   "execution_count": 5,
   "metadata": {},
   "outputs": [],
   "source": [
    "# add date cols containing only day, week, year for each column\n",
    "fxns.split_date(claims, ['ClaimStartDt', 'ClaimEndDt',\n",
    "                         'AdmissionDt', 'DischargeDt'])"
   ]
  },
  {
   "cell_type": "code",
   "execution_count": 6,
   "metadata": {},
   "outputs": [],
   "source": [
    "# number of claims per beneficiary\n",
    "claims = fxns.add_count_per_col(\n",
    "    claims, 'BeneID', 'ClaimID', 'ClaimsPerBene')\n",
    "\n",
    "# number of claims per attending\n",
    "claims = fxns.add_count_per_col(\n",
    "    claims, 'AttendingPhysician', 'ClaimID', 'ClaimsPerAttendingPhysician')\n",
    "\n",
    "# number of claims per operating\n",
    "claims = fxns.add_count_per_col(\n",
    "    claims, 'OperatingPhysician', 'ClaimID', 'ClaimsPerOperatingPhysician')\n",
    "\n",
    "# number of claims per otherphys\n",
    "claims = fxns.add_count_per_col(\n",
    "    claims, 'OtherPhysician', 'ClaimID', 'ClaimsPerOtherPhysician')"
   ]
  },
  {
   "cell_type": "code",
   "execution_count": 7,
   "metadata": {},
   "outputs": [],
   "source": [
    "outpatient_claims = claims.loc[claims.IsOutpatient == 1]\n",
    "inpatient_claims  = claims.loc[claims.IsOutpatient == 0]\n",
    "\n",
    "# Mean amount of reimbursed claims\n",
    "inpatient_claims = fxns.add_mean_per_col(\n",
    "    inpatient_claims, 'BeneID', 'InscClaimAmtReimbursed', 'ReimbPerIP')\n",
    "outpatient_claims = fxns.add_mean_per_col(\n",
    "    outpatient_claims, 'BeneID', 'InscClaimAmtReimbursed', 'ReimbPerOP')\n",
    "claims = pd.concat([inpatient_claims, outpatient_claims])\n",
    "\n",
    "# Mean deductible paid for inpatients/outpatients\n",
    "inpatient_claims = fxns.add_mean_per_col(\n",
    "    inpatient_claims, 'BeneID', 'DeductibleAmtPaid', 'DeductiblePerIP')\n",
    "outpatient_claims = fxns.add_mean_per_col(\n",
    "    outpatient_claims, 'BeneID', 'DeductibleAmtPaid', 'DeductiblePerOP')\n",
    "claims = pd.concat([inpatient_claims, outpatient_claims])\n",
    "\n",
    "# Mean chronic conditions for inpatients/outpatients\n",
    "\n",
    "# avg Insurance covered Ratio for inpatients (PercInsCovered)\n",
    "# avg Insurance covered Ratio for outpatients (PercInsCovered)\n",
    "\n",
    "# Avg revenue per day for inpatients\n",
    "# Avg revenue per day for outpatients\n",
    "\n",
    "# Number of states for inpatient per provider\n",
    "# Number of states for outpatient per provider"
   ]
  },
  {
   "cell_type": "markdown",
   "metadata": {},
   "source": [
    "### Pre-processing"
   ]
  },
  {
   "cell_type": "code",
   "execution_count": 8,
   "metadata": {},
   "outputs": [],
   "source": [
    "# encode bool colums to 0/1\n",
    "fxns.re_encode_bool(claims,\n",
    "    ['HasDied', 'HasAnyPhysician', 'HasAllPhysicians'])"
   ]
  },
  {
   "cell_type": "code",
   "execution_count": 9,
   "metadata": {},
   "outputs": [],
   "source": [
    "# drop ChronicCond_ prefix from applicable cols\n",
    "fxns.drop_chronic_prefix(claims)"
   ]
  },
  {
   "cell_type": "code",
   "execution_count": 10,
   "metadata": {},
   "outputs": [],
   "source": [
    "# change applicable cols to dtype category\n",
    "fxns.to_category_dtype(claims)"
   ]
  },
  {
   "cell_type": "markdown",
   "metadata": {},
   "source": [
    "### Variables"
   ]
  },
  {
   "cell_type": "code",
   "execution_count": 11,
   "metadata": {},
   "outputs": [],
   "source": [
    "numeric_cols     = fxns.cols_by_dtype(claims)[0]\n",
    "categorical_cols = fxns.cols_by_dtype(claims)[1]\n",
    "date_cols        = fxns.cols_by_dtype(claims)[2]\n",
    "\n",
    "physician_cols = \\\n",
    "    claims.columns[claims.columns.str.contains('Physician')].to_list()\n",
    "chronic_cols   = \\\n",
    "    claims.columns[claims.columns.str.contains('Chronic')].to_list()\n",
    "diagnosis_cols = \\\n",
    "    claims.columns[claims.columns.str.contains('Diagnosis')].to_list()\n",
    "procedure_cols = \\\n",
    "    claims.columns[claims.columns.str.contains('Procedure')].to_list()"
   ]
  },
  {
   "cell_type": "code",
   "execution_count": 12,
   "metadata": {},
   "outputs": [],
   "source": [
    "# print(claims.columns, '\\n')\n",
    "\n",
    "# Can't use, but have IPDuration count/mean/sum:\n",
    "#     'AdmissionDt', 'AdmissionDt_Week',\n",
    "#     'DischargeDt', 'DischargeDt_Week'\n",
    "\n",
    "# Can't use, but have ClaimDuration count/mean/sum:\n",
    "#     'ClaimEndDt', 'ClaimEndDt_Week', 'ClaimID'\n",
    "#     'ClaimStartDt', 'ClaimStartDt_Week',\n",
    "\n",
    "\n",
    "# Can't use, but have AgeAtService mean/sum and HasDied sum/ratio:\n",
    "#     'DOB', 'DOD'"
   ]
  },
  {
   "cell_type": "markdown",
   "metadata": {},
   "source": [
    "### Summary Data"
   ]
  },
  {
   "cell_type": "code",
   "execution_count": 13,
   "metadata": {},
   "outputs": [],
   "source": [
    "outpatient_claims = claims.loc[claims.IsOutpatient == 1]\n",
    "inpatient_claims  = claims.loc[claims.IsOutpatient == 0]"
   ]
  },
  {
   "cell_type": "code",
   "execution_count": 14,
   "metadata": {},
   "outputs": [],
   "source": [
    "groupby_providers   = claims.groupby('Provider')"
   ]
  },
  {
   "cell_type": "code",
   "execution_count": 15,
   "metadata": {},
   "outputs": [],
   "source": [
    "mean_by_provider    = \\\n",
    "    groupby_providers.mean().round(2).add_suffix('_mean').reset_index()"
   ]
  },
  {
   "cell_type": "code",
   "execution_count": 16,
   "metadata": {},
   "outputs": [],
   "source": [
    "# need conditions by ratio, not count\n",
    "chronic_by_provider = claims[['Provider'] + chronic_cols\n",
    "    ].groupby('Provider').sum().add_suffix('_count').reset_index()"
   ]
  },
  {
   "cell_type": "code",
   "execution_count": 17,
   "metadata": {},
   "outputs": [],
   "source": [
    "providers = pd.merge(mean_by_provider, chronic_by_provider, on='Provider')\n",
    "providers.sort_index(axis=1, inplace=True)"
   ]
  },
  {
   "cell_type": "code",
   "execution_count": 18,
   "metadata": {},
   "outputs": [
    {
     "name": "stdout",
     "output_type": "stream",
     "text": [
      "(5410, 36) \n",
      "\n",
      "Index(['AgeAtService_mean', 'Alzheimers_Chronic_count', 'Cancer_Chronic_count',\n",
      "       'ClaimCost_mean', 'ClaimDuration_mean',\n",
      "       'ClaimsPerAttendingPhysician_mean', 'ClaimsPerBene_mean',\n",
      "       'ClaimsPerOperatingPhysician_mean', 'ClaimsPerOtherPhysician_mean',\n",
      "       'DailyClaimCost_mean', 'DeductibleAmtPaid_mean', 'DeductiblePerIP_mean',\n",
      "       'DeductiblePerOP_mean', 'Depression_Chronic_count',\n",
      "       'Diabetes_Chronic_count', 'HeartFailure_Chronic_count',\n",
      "       'IPAnnualDeductibleAmt_mean', 'IPAnnualReimbursementAmt_mean',\n",
      "       'IPClaimDuration_mean', 'IPDuration_mean',\n",
      "       'InscClaimAmtReimbursed_mean', 'IschemicHeart_Chronic_count',\n",
      "       'KidneyDisease_Chronic_count', 'NoOfMonths_PartACov_mean',\n",
      "       'NoOfMonths_PartBCov_mean', 'OPAnnualDeductibleAmt_mean',\n",
      "       'OPAnnualReimbursementAmt_mean', 'OPClaimDuration_mean',\n",
      "       'ObstrPulmonary_Chronic_count', 'Osteoporosis_Chronic_count',\n",
      "       'PercInsCovered_mean', 'Provider', 'ReimbPerIP_mean', 'ReimbPerOP_mean',\n",
      "       'RheumatoidArthritis_Chronic_count', 'Stroke_Chronic_count'],\n",
      "      dtype='object')\n"
     ]
    },
    {
     "data": {
      "text/html": [
       "<div>\n",
       "<style scoped>\n",
       "    .dataframe tbody tr th:only-of-type {\n",
       "        vertical-align: middle;\n",
       "    }\n",
       "\n",
       "    .dataframe tbody tr th {\n",
       "        vertical-align: top;\n",
       "    }\n",
       "\n",
       "    .dataframe thead th {\n",
       "        text-align: right;\n",
       "    }\n",
       "</style>\n",
       "<table border=\"1\" class=\"dataframe\">\n",
       "  <thead>\n",
       "    <tr style=\"text-align: right;\">\n",
       "      <th></th>\n",
       "      <th>AgeAtService_mean</th>\n",
       "      <th>Alzheimers_Chronic_count</th>\n",
       "      <th>Cancer_Chronic_count</th>\n",
       "      <th>ClaimCost_mean</th>\n",
       "      <th>ClaimDuration_mean</th>\n",
       "      <th>ClaimsPerAttendingPhysician_mean</th>\n",
       "      <th>ClaimsPerBene_mean</th>\n",
       "      <th>ClaimsPerOperatingPhysician_mean</th>\n",
       "      <th>ClaimsPerOtherPhysician_mean</th>\n",
       "      <th>DailyClaimCost_mean</th>\n",
       "      <th>DeductibleAmtPaid_mean</th>\n",
       "      <th>DeductiblePerIP_mean</th>\n",
       "      <th>DeductiblePerOP_mean</th>\n",
       "      <th>Depression_Chronic_count</th>\n",
       "      <th>Diabetes_Chronic_count</th>\n",
       "      <th>HeartFailure_Chronic_count</th>\n",
       "      <th>IPAnnualDeductibleAmt_mean</th>\n",
       "      <th>IPAnnualReimbursementAmt_mean</th>\n",
       "      <th>IPClaimDuration_mean</th>\n",
       "      <th>IPDuration_mean</th>\n",
       "      <th>InscClaimAmtReimbursed_mean</th>\n",
       "      <th>IschemicHeart_Chronic_count</th>\n",
       "      <th>KidneyDisease_Chronic_count</th>\n",
       "      <th>NoOfMonths_PartACov_mean</th>\n",
       "      <th>NoOfMonths_PartBCov_mean</th>\n",
       "      <th>OPAnnualDeductibleAmt_mean</th>\n",
       "      <th>OPAnnualReimbursementAmt_mean</th>\n",
       "      <th>OPClaimDuration_mean</th>\n",
       "      <th>ObstrPulmonary_Chronic_count</th>\n",
       "      <th>Osteoporosis_Chronic_count</th>\n",
       "      <th>PercInsCovered_mean</th>\n",
       "      <th>Provider</th>\n",
       "      <th>ReimbPerIP_mean</th>\n",
       "      <th>ReimbPerOP_mean</th>\n",
       "      <th>RheumatoidArthritis_Chronic_count</th>\n",
       "      <th>Stroke_Chronic_count</th>\n",
       "    </tr>\n",
       "  </thead>\n",
       "  <tbody>\n",
       "    <tr>\n",
       "      <th>1590</th>\n",
       "      <td>75.50</td>\n",
       "      <td>2</td>\n",
       "      <td>0</td>\n",
       "      <td>8318.00</td>\n",
       "      <td>3.75</td>\n",
       "      <td>5.00</td>\n",
       "      <td>7.25</td>\n",
       "      <td>1.0</td>\n",
       "      <td>NaN</td>\n",
       "      <td>2444.00</td>\n",
       "      <td>1068.00</td>\n",
       "      <td>1068.0</td>\n",
       "      <td>NaN</td>\n",
       "      <td>1</td>\n",
       "      <td>1</td>\n",
       "      <td>3</td>\n",
       "      <td>1335.00</td>\n",
       "      <td>9535.00</td>\n",
       "      <td>3.75</td>\n",
       "      <td>3.75</td>\n",
       "      <td>7250.00</td>\n",
       "      <td>3</td>\n",
       "      <td>2</td>\n",
       "      <td>12.00</td>\n",
       "      <td>12.0</td>\n",
       "      <td>647.50</td>\n",
       "      <td>1455.00</td>\n",
       "      <td>NaN</td>\n",
       "      <td>2</td>\n",
       "      <td>1</td>\n",
       "      <td>84.00</td>\n",
       "      <td>PRV52976</td>\n",
       "      <td>6500.0</td>\n",
       "      <td>NaN</td>\n",
       "      <td>3</td>\n",
       "      <td>2</td>\n",
       "    </tr>\n",
       "    <tr>\n",
       "      <th>742</th>\n",
       "      <td>75.50</td>\n",
       "      <td>0</td>\n",
       "      <td>2</td>\n",
       "      <td>490.00</td>\n",
       "      <td>1.00</td>\n",
       "      <td>4.00</td>\n",
       "      <td>2.00</td>\n",
       "      <td>1.0</td>\n",
       "      <td>3.00</td>\n",
       "      <td>490.00</td>\n",
       "      <td>0.00</td>\n",
       "      <td>NaN</td>\n",
       "      <td>0.00</td>\n",
       "      <td>2</td>\n",
       "      <td>2</td>\n",
       "      <td>2</td>\n",
       "      <td>534.00</td>\n",
       "      <td>2000.00</td>\n",
       "      <td>NaN</td>\n",
       "      <td>NaN</td>\n",
       "      <td>490.00</td>\n",
       "      <td>4</td>\n",
       "      <td>0</td>\n",
       "      <td>12.00</td>\n",
       "      <td>9.0</td>\n",
       "      <td>85.00</td>\n",
       "      <td>592.50</td>\n",
       "      <td>1.00</td>\n",
       "      <td>2</td>\n",
       "      <td>2</td>\n",
       "      <td>100.00</td>\n",
       "      <td>PRV51925</td>\n",
       "      <td>NaN</td>\n",
       "      <td>485.83</td>\n",
       "      <td>3</td>\n",
       "      <td>0</td>\n",
       "    </tr>\n",
       "    <tr>\n",
       "      <th>4622</th>\n",
       "      <td>72.29</td>\n",
       "      <td>4</td>\n",
       "      <td>2</td>\n",
       "      <td>125.71</td>\n",
       "      <td>1.00</td>\n",
       "      <td>2.43</td>\n",
       "      <td>8.00</td>\n",
       "      <td>1.0</td>\n",
       "      <td>2.00</td>\n",
       "      <td>125.71</td>\n",
       "      <td>0.00</td>\n",
       "      <td>NaN</td>\n",
       "      <td>0.95</td>\n",
       "      <td>2</td>\n",
       "      <td>5</td>\n",
       "      <td>4</td>\n",
       "      <td>915.43</td>\n",
       "      <td>13611.43</td>\n",
       "      <td>NaN</td>\n",
       "      <td>NaN</td>\n",
       "      <td>125.71</td>\n",
       "      <td>5</td>\n",
       "      <td>4</td>\n",
       "      <td>12.00</td>\n",
       "      <td>12.0</td>\n",
       "      <td>1597.14</td>\n",
       "      <td>4298.57</td>\n",
       "      <td>1.00</td>\n",
       "      <td>2</td>\n",
       "      <td>5</td>\n",
       "      <td>100.00</td>\n",
       "      <td>PRV56780</td>\n",
       "      <td>NaN</td>\n",
       "      <td>319.95</td>\n",
       "      <td>1</td>\n",
       "      <td>1</td>\n",
       "    </tr>\n",
       "    <tr>\n",
       "      <th>3611</th>\n",
       "      <td>74.50</td>\n",
       "      <td>1</td>\n",
       "      <td>0</td>\n",
       "      <td>85.00</td>\n",
       "      <td>1.00</td>\n",
       "      <td>1.00</td>\n",
       "      <td>4.50</td>\n",
       "      <td>NaN</td>\n",
       "      <td>1.00</td>\n",
       "      <td>85.00</td>\n",
       "      <td>0.00</td>\n",
       "      <td>NaN</td>\n",
       "      <td>0.00</td>\n",
       "      <td>1</td>\n",
       "      <td>2</td>\n",
       "      <td>1</td>\n",
       "      <td>0.00</td>\n",
       "      <td>0.00</td>\n",
       "      <td>NaN</td>\n",
       "      <td>NaN</td>\n",
       "      <td>85.00</td>\n",
       "      <td>1</td>\n",
       "      <td>0</td>\n",
       "      <td>12.00</td>\n",
       "      <td>12.0</td>\n",
       "      <td>585.00</td>\n",
       "      <td>575.00</td>\n",
       "      <td>1.00</td>\n",
       "      <td>0</td>\n",
       "      <td>1</td>\n",
       "      <td>100.00</td>\n",
       "      <td>PRV55527</td>\n",
       "      <td>NaN</td>\n",
       "      <td>67.50</td>\n",
       "      <td>0</td>\n",
       "      <td>0</td>\n",
       "    </tr>\n",
       "    <tr>\n",
       "      <th>5085</th>\n",
       "      <td>80.18</td>\n",
       "      <td>3</td>\n",
       "      <td>0</td>\n",
       "      <td>740.91</td>\n",
       "      <td>2.91</td>\n",
       "      <td>3.18</td>\n",
       "      <td>3.64</td>\n",
       "      <td>1.0</td>\n",
       "      <td>1.67</td>\n",
       "      <td>688.09</td>\n",
       "      <td>7.27</td>\n",
       "      <td>NaN</td>\n",
       "      <td>7.27</td>\n",
       "      <td>2</td>\n",
       "      <td>7</td>\n",
       "      <td>7</td>\n",
       "      <td>679.64</td>\n",
       "      <td>3698.18</td>\n",
       "      <td>NaN</td>\n",
       "      <td>NaN</td>\n",
       "      <td>733.64</td>\n",
       "      <td>8</td>\n",
       "      <td>6</td>\n",
       "      <td>10.91</td>\n",
       "      <td>12.0</td>\n",
       "      <td>644.55</td>\n",
       "      <td>2811.82</td>\n",
       "      <td>2.91</td>\n",
       "      <td>4</td>\n",
       "      <td>6</td>\n",
       "      <td>99.82</td>\n",
       "      <td>PRV57367</td>\n",
       "      <td>NaN</td>\n",
       "      <td>735.45</td>\n",
       "      <td>1</td>\n",
       "      <td>4</td>\n",
       "    </tr>\n",
       "  </tbody>\n",
       "</table>\n",
       "</div>"
      ],
      "text/plain": [
       "      AgeAtService_mean  Alzheimers_Chronic_count  Cancer_Chronic_count  \\\n",
       "1590              75.50                         2                     0   \n",
       "742               75.50                         0                     2   \n",
       "4622              72.29                         4                     2   \n",
       "3611              74.50                         1                     0   \n",
       "5085              80.18                         3                     0   \n",
       "\n",
       "      ClaimCost_mean  ClaimDuration_mean  ClaimsPerAttendingPhysician_mean  \\\n",
       "1590         8318.00                3.75                              5.00   \n",
       "742           490.00                1.00                              4.00   \n",
       "4622          125.71                1.00                              2.43   \n",
       "3611           85.00                1.00                              1.00   \n",
       "5085          740.91                2.91                              3.18   \n",
       "\n",
       "      ClaimsPerBene_mean  ClaimsPerOperatingPhysician_mean  \\\n",
       "1590                7.25                               1.0   \n",
       "742                 2.00                               1.0   \n",
       "4622                8.00                               1.0   \n",
       "3611                4.50                               NaN   \n",
       "5085                3.64                               1.0   \n",
       "\n",
       "      ClaimsPerOtherPhysician_mean  DailyClaimCost_mean  \\\n",
       "1590                           NaN              2444.00   \n",
       "742                           3.00               490.00   \n",
       "4622                          2.00               125.71   \n",
       "3611                          1.00                85.00   \n",
       "5085                          1.67               688.09   \n",
       "\n",
       "      DeductibleAmtPaid_mean  DeductiblePerIP_mean  DeductiblePerOP_mean  \\\n",
       "1590                 1068.00                1068.0                   NaN   \n",
       "742                     0.00                   NaN                  0.00   \n",
       "4622                    0.00                   NaN                  0.95   \n",
       "3611                    0.00                   NaN                  0.00   \n",
       "5085                    7.27                   NaN                  7.27   \n",
       "\n",
       "      Depression_Chronic_count  Diabetes_Chronic_count  \\\n",
       "1590                         1                       1   \n",
       "742                          2                       2   \n",
       "4622                         2                       5   \n",
       "3611                         1                       2   \n",
       "5085                         2                       7   \n",
       "\n",
       "      HeartFailure_Chronic_count  IPAnnualDeductibleAmt_mean  \\\n",
       "1590                           3                     1335.00   \n",
       "742                            2                      534.00   \n",
       "4622                           4                      915.43   \n",
       "3611                           1                        0.00   \n",
       "5085                           7                      679.64   \n",
       "\n",
       "      IPAnnualReimbursementAmt_mean  IPClaimDuration_mean  IPDuration_mean  \\\n",
       "1590                        9535.00                  3.75             3.75   \n",
       "742                         2000.00                   NaN              NaN   \n",
       "4622                       13611.43                   NaN              NaN   \n",
       "3611                           0.00                   NaN              NaN   \n",
       "5085                        3698.18                   NaN              NaN   \n",
       "\n",
       "      InscClaimAmtReimbursed_mean  IschemicHeart_Chronic_count  \\\n",
       "1590                      7250.00                            3   \n",
       "742                        490.00                            4   \n",
       "4622                       125.71                            5   \n",
       "3611                        85.00                            1   \n",
       "5085                       733.64                            8   \n",
       "\n",
       "      KidneyDisease_Chronic_count  NoOfMonths_PartACov_mean  \\\n",
       "1590                            2                     12.00   \n",
       "742                             0                     12.00   \n",
       "4622                            4                     12.00   \n",
       "3611                            0                     12.00   \n",
       "5085                            6                     10.91   \n",
       "\n",
       "      NoOfMonths_PartBCov_mean  OPAnnualDeductibleAmt_mean  \\\n",
       "1590                      12.0                      647.50   \n",
       "742                        9.0                       85.00   \n",
       "4622                      12.0                     1597.14   \n",
       "3611                      12.0                      585.00   \n",
       "5085                      12.0                      644.55   \n",
       "\n",
       "      OPAnnualReimbursementAmt_mean  OPClaimDuration_mean  \\\n",
       "1590                        1455.00                   NaN   \n",
       "742                          592.50                  1.00   \n",
       "4622                        4298.57                  1.00   \n",
       "3611                         575.00                  1.00   \n",
       "5085                        2811.82                  2.91   \n",
       "\n",
       "      ObstrPulmonary_Chronic_count  Osteoporosis_Chronic_count  \\\n",
       "1590                             2                           1   \n",
       "742                              2                           2   \n",
       "4622                             2                           5   \n",
       "3611                             0                           1   \n",
       "5085                             4                           6   \n",
       "\n",
       "      PercInsCovered_mean  Provider  ReimbPerIP_mean  ReimbPerOP_mean  \\\n",
       "1590                84.00  PRV52976           6500.0              NaN   \n",
       "742                100.00  PRV51925              NaN           485.83   \n",
       "4622               100.00  PRV56780              NaN           319.95   \n",
       "3611               100.00  PRV55527              NaN            67.50   \n",
       "5085                99.82  PRV57367              NaN           735.45   \n",
       "\n",
       "      RheumatoidArthritis_Chronic_count  Stroke_Chronic_count  \n",
       "1590                                  3                     2  \n",
       "742                                   3                     0  \n",
       "4622                                  1                     1  \n",
       "3611                                  0                     0  \n",
       "5085                                  1                     4  "
      ]
     },
     "execution_count": 18,
     "metadata": {},
     "output_type": "execute_result"
    }
   ],
   "source": [
    "print(providers.shape, '\\n')\n",
    "print(providers.columns)\n",
    "providers.sample(5)"
   ]
  },
  {
   "cell_type": "markdown",
   "metadata": {},
   "source": [
    "## New Columns"
   ]
  },
  {
   "cell_type": "markdown",
   "metadata": {},
   "source": [
    "### Beneficiaries"
   ]
  },
  {
   "cell_type": "code",
   "execution_count": 19,
   "metadata": {},
   "outputs": [],
   "source": [
    "# providers['IPClaims_count'] = \\\n",
    "#     inpatient_claims.groupby('Provider').IsOutpatient.count().values\n",
    "# providers['OPClaims_count'] = \\\n",
    "#     outpatient_claims.groupby('Provider').IsOutpatient.count().values\n",
    "\n",
    "# Ratio of inpatient claims can be determined from the above - do we need a separate col for it?"
   ]
  },
  {
   "cell_type": "code",
   "execution_count": 20,
   "metadata": {},
   "outputs": [],
   "source": [
    "def binary_percentages(df, col, group1, group2):\n",
    "    '''\n",
    "    Adds a new column to a df that lists the ratio of one value from a\n",
    "    binary column in the same df. (The ratio of the other value in the\n",
    "    binary column is the inverse.)\n",
    "    \n",
    "    Arguments: A single dataframe.\n",
    "    \n",
    "    Output: None.\n",
    "    \n",
    "    Returns: Dataframe altered in place.\n",
    "    '''\n",
    "    by_provider = df.groupby(['Provider', col]\n",
    "                            ).ClaimID.count().reset_index()\n",
    "\n",
    "    colname = pd.DataFrame()\n",
    "    colname[group1] = by_provider[by_provider[col] == 1].ClaimID.to_list()\n",
    "    colname[group2] = by_provider[by_provider[col] == 0].ClaimID.to_list()\n",
    "    \n",
    "    newcolname1 = f'{group1}_perc'\n",
    "    \n",
    "    providers[newcolname1] = round(\n",
    "        (colname[group1] / (colname[group1] + colname[group2])) * 100, 2)"
   ]
  },
  {
   "cell_type": "code",
   "execution_count": 21,
   "metadata": {},
   "outputs": [],
   "source": [
    "binary_percentages(claims, 'Gender', 'GenderZero', 'GenderOne')\n",
    "binary_percentages(claims, 'RenalDisease', 'HasRenalDisease', 'NotRenalDisease')\n",
    "binary_percentages(claims, 'HasDied', 'HasDied', 'NotDead')"
   ]
  },
  {
   "cell_type": "code",
   "execution_count": 22,
   "metadata": {},
   "outputs": [],
   "source": [
    "race_by_provider = \\\n",
    "    claims.groupby(['Provider', 'Race']).ClaimID.count().reset_index()\n",
    "\n",
    "race = pd.DataFrame()\n",
    "race['race1'] = race_by_provider[race_by_provider.Race == 1\n",
    "                                ].ClaimID.to_list()\n",
    "race['race0'] = race_by_provider[race_by_provider.Race == 0\n",
    "                                ].ClaimID.to_list()\n",
    "race['race3'] = race_by_provider[race_by_provider.Race == 3\n",
    "                                ].ClaimID.to_list()\n",
    "race['race5'] = race_by_provider[race_by_provider.Race == 5\n",
    "                                ].ClaimID.to_list()\n",
    "\n",
    "providers['RaceZero_perc']  = round(\n",
    "    (race.race0 / np.sum(race, axis=1) * 100), 2)\n",
    "providers['RaceThree_perc'] = round(\n",
    "    (race.race3 / np.sum(race, axis=1) * 100), 2)\n",
    "providers['RaceFive_perc']  = round(\n",
    "    (race.race5 / np.sum(race, axis=1) * 100), 2)"
   ]
  },
  {
   "cell_type": "code",
   "execution_count": 23,
   "metadata": {},
   "outputs": [],
   "source": [
    "# DO WE WANT CHRONIC CONDITION RATIOS? WHY/WHY NOT?\n",
    "# Ratio of inpatients with top 5 frequent chronic disease (from PotentialFraud)\n",
    "# Ratio of outpatients with top 5 frequent chronic disease (from PotentialFraud)"
   ]
  },
  {
   "cell_type": "code",
   "execution_count": 24,
   "metadata": {
    "scrolled": true
   },
   "outputs": [
    {
     "data": {
      "text/html": [
       "<div>\n",
       "<style scoped>\n",
       "    .dataframe tbody tr th:only-of-type {\n",
       "        vertical-align: middle;\n",
       "    }\n",
       "\n",
       "    .dataframe tbody tr th {\n",
       "        vertical-align: top;\n",
       "    }\n",
       "\n",
       "    .dataframe thead th {\n",
       "        text-align: right;\n",
       "    }\n",
       "</style>\n",
       "<table border=\"1\" class=\"dataframe\">\n",
       "  <thead>\n",
       "    <tr style=\"text-align: right;\">\n",
       "      <th></th>\n",
       "    </tr>\n",
       "  </thead>\n",
       "  <tbody>\n",
       "    <tr>\n",
       "      <th>4539</th>\n",
       "    </tr>\n",
       "    <tr>\n",
       "      <th>1408</th>\n",
       "    </tr>\n",
       "    <tr>\n",
       "      <th>4836</th>\n",
       "    </tr>\n",
       "    <tr>\n",
       "      <th>3577</th>\n",
       "    </tr>\n",
       "    <tr>\n",
       "      <th>2857</th>\n",
       "    </tr>\n",
       "  </tbody>\n",
       "</table>\n",
       "</div>"
      ],
      "text/plain": [
       "Empty DataFrame\n",
       "Columns: []\n",
       "Index: [4539, 1408, 4836, 3577, 2857]"
      ]
     },
     "execution_count": 24,
     "metadata": {},
     "output_type": "execute_result"
    }
   ],
   "source": [
    "ratio_cols = providers.columns[providers.columns.str.contains('_ratio')\n",
    "                              ].to_list()\n",
    "providers[ratio_cols].sample(5).iloc[:,-5:]"
   ]
  },
  {
   "cell_type": "markdown",
   "metadata": {},
   "source": [
    "### Inpatients/Outpatiens"
   ]
  },
  {
   "cell_type": "code",
   "execution_count": 25,
   "metadata": {},
   "outputs": [],
   "source": [
    "binary_percentages(claims, 'IsOutpatient', 'IsOutpatient', 'Inpatient')"
   ]
  },
  {
   "cell_type": "code",
   "execution_count": 26,
   "metadata": {},
   "outputs": [],
   "source": [
    "# Whether the provider serves both in/out patients\n",
    "# Based on providers.IsOutpatient_ratio, do we need this?"
   ]
  },
  {
   "cell_type": "markdown",
   "metadata": {},
   "source": [
    "### Doctors"
   ]
  },
  {
   "cell_type": "code",
   "execution_count": 27,
   "metadata": {
    "scrolled": true
   },
   "outputs": [],
   "source": [
    "binary_percentages(claims, 'HasAnyPhysician', 'HasAnyPhysician', 'HasNoPhysician')\n",
    "binary_percentages(claims, 'HasAllPhysicians', 'HasAllPhysicians', 'HasSomePhysicians')"
   ]
  },
  {
   "cell_type": "markdown",
   "metadata": {},
   "source": [
    "### Codes"
   ]
  },
  {
   "cell_type": "code",
   "execution_count": null,
   "metadata": {},
   "outputs": [],
   "source": []
  },
  {
   "cell_type": "markdown",
   "metadata": {},
   "source": [
    "### Money"
   ]
  },
  {
   "cell_type": "code",
   "execution_count": null,
   "metadata": {},
   "outputs": [],
   "source": []
  },
  {
   "cell_type": "markdown",
   "metadata": {},
   "source": [
    "### Time"
   ]
  },
  {
   "cell_type": "code",
   "execution_count": null,
   "metadata": {},
   "outputs": [],
   "source": []
  },
  {
   "cell_type": "markdown",
   "metadata": {},
   "source": [
    "### Location"
   ]
  },
  {
   "cell_type": "code",
   "execution_count": null,
   "metadata": {},
   "outputs": [],
   "source": []
  },
  {
   "cell_type": "markdown",
   "metadata": {},
   "source": [
    "### Size"
   ]
  },
  {
   "cell_type": "code",
   "execution_count": null,
   "metadata": {},
   "outputs": [],
   "source": []
  },
  {
   "cell_type": "markdown",
   "metadata": {},
   "source": [
    "## MISC/NOTES"
   ]
  },
  {
   "cell_type": "code",
   "execution_count": 28,
   "metadata": {},
   "outputs": [
    {
     "data": {
      "text/plain": [
       "['Alzheimers_Chronic_count',\n",
       " 'Cancer_Chronic_count',\n",
       " 'Depression_Chronic_count',\n",
       " 'Diabetes_Chronic_count',\n",
       " 'HeartFailure_Chronic_count',\n",
       " 'IschemicHeart_Chronic_count',\n",
       " 'KidneyDisease_Chronic_count',\n",
       " 'ObstrPulmonary_Chronic_count',\n",
       " 'Osteoporosis_Chronic_count',\n",
       " 'RheumatoidArthritis_Chronic_count',\n",
       " 'Stroke_Chronic_count']"
      ]
     },
     "execution_count": 28,
     "metadata": {},
     "output_type": "execute_result"
    }
   ],
   "source": [
    "providers.columns[providers.columns.str.contains('Chronic')].to_list()"
   ]
  },
  {
   "cell_type": "code",
   "execution_count": 29,
   "metadata": {},
   "outputs": [],
   "source": [
    "# Ratio of attending physicians serving for different hospitals (75% threshold)\n",
    "# Ratio of operating physicians serving for different hospitals (75% threshold)\n",
    "# Ratio of other physicians serving for different hospitals (75% threshold)\n",
    "# Ratio of inpatients going to different hospitals (75% threshold)\n",
    "# Ratio of outpatients going to different hospitals (75% threshold)\n",
    "\n",
    "\n",
    "# MBA, imbalanced data sets, classification modeling"
   ]
  }
 ],
 "metadata": {
  "kernelspec": {
   "display_name": "Python 3",
   "language": "python",
   "name": "python3"
  },
  "language_info": {
   "codemirror_mode": {
    "name": "ipython",
    "version": 3
   },
   "file_extension": ".py",
   "mimetype": "text/x-python",
   "name": "python",
   "nbconvert_exporter": "python",
   "pygments_lexer": "ipython3",
   "version": "3.7.6"
  },
  "toc": {
   "base_numbering": 1,
   "nav_menu": {},
   "number_sections": true,
   "sideBar": true,
   "skip_h1_title": true,
   "title_cell": "Table of Contents",
   "title_sidebar": "Contents",
   "toc_cell": false,
   "toc_position": {
    "height": "calc(100% - 180px)",
    "left": "10px",
    "top": "150px",
    "width": "165px"
   },
   "toc_section_display": true,
   "toc_window_display": true
  }
 },
 "nbformat": 4,
 "nbformat_minor": 4
}
