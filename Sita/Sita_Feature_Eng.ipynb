{
 "cells": [
  {
   "cell_type": "markdown",
   "metadata": {},
   "source": [
    "## Setup and Data Import"
   ]
  },
  {
   "cell_type": "code",
   "execution_count": 1,
   "metadata": {},
   "outputs": [],
   "source": [
    "import sys\n",
    "sys.path.insert(0, '..')\n",
    "\n",
    "from joblib import load\n",
    "\n",
    "import Functions as fxns\n",
    "from Functions import np, pd\n",
    "\n",
    "pd.set_option('display.max_columns', None)\n",
    "pd.set_option('display.max_rows', None)\n",
    "\n",
    "from datetime import timedelta"
   ]
  },
  {
   "cell_type": "code",
   "execution_count": 2,
   "metadata": {},
   "outputs": [],
   "source": [
    "# !python ../Preprocessing.py"
   ]
  },
  {
   "cell_type": "code",
   "execution_count": 3,
   "metadata": {},
   "outputs": [],
   "source": [
    "claims = load('../claims.pkl')"
   ]
  },
  {
   "cell_type": "markdown",
   "metadata": {},
   "source": [
    "## Claims DF"
   ]
  },
  {
   "cell_type": "markdown",
   "metadata": {},
   "source": [
    "### New Columns"
   ]
  },
  {
   "cell_type": "code",
   "execution_count": 4,
   "metadata": {},
   "outputs": [],
   "source": [
    "claims['AgeAtService'] = ((claims.ClaimStartDt - claims.DOB)\n",
    "                              / timedelta(days=365)).astype(int)\n",
    "\n",
    "claims['HasDied'] = claims.DOD.notna()\n",
    "fxns.re_encode_bool(claims, ['HasDied'])\n",
    "\n",
    "chronic_cols     = \\\n",
    "    claims.columns[claims.columns.str.contains('Chronic')].to_list()\n",
    "claims['NumCondsPerBene'] = claims[chronic_cols].sum(axis=1)"
   ]
  },
  {
   "cell_type": "code",
   "execution_count": 5,
   "metadata": {},
   "outputs": [],
   "source": [
    "physician_cols = \\\n",
    "    claims.columns[claims.columns.str.contains('Physician')].to_list()\n",
    "phys_count_cols  = \\\n",
    "    ['HasAllPhysicians', 'HasAnyPhysicians', 'HasNoPhysicians']\n",
    "\n",
    "claims['HasAllPhysicians'] = claims[physician_cols].notna().all(axis=1)\n",
    "claims['HasAnyPhysicians'] = claims[physician_cols].notna().any(axis=1)\n",
    "claims['HasNoPhysicians']  = claims[physician_cols].isna().all(axis=1)\n",
    "\n",
    "fxns.re_encode_bool(claims, phys_count_cols)"
   ]
  },
  {
   "cell_type": "code",
   "execution_count": 6,
   "metadata": {},
   "outputs": [],
   "source": [
    "claims['ClaimDuration'] = \\\n",
    "    (claims.ClaimEndDt  - claims.ClaimStartDt).dt.days + 1\n",
    "claims['IPDuration']    = \\\n",
    "    (claims.DischargeDt - claims.AdmissionDt).dt.days + 1"
   ]
  },
  {
   "cell_type": "code",
   "execution_count": 7,
   "metadata": {},
   "outputs": [],
   "source": [
    "claims['ClaimCost'] = \\\n",
    "    claims.InscClaimAmtReimbursed + claims.DeductibleAmtPaid\n",
    "claims['PercInsCovered'] = \\\n",
    "    round((claims.InscClaimAmtReimbursed / claims.ClaimCost) * 100)\n",
    "claims['DailyClaimCost'] = \\\n",
    "    round(claims.ClaimCost / claims.ClaimDuration)"
   ]
  },
  {
   "cell_type": "markdown",
   "metadata": {},
   "source": [
    "### Variables"
   ]
  },
  {
   "cell_type": "code",
   "execution_count": 8,
   "metadata": {},
   "outputs": [],
   "source": [
    "# lists:\n",
    "numeric_cols     = fxns.cols_by_dtype(claims)[0]\n",
    "categorical_cols = fxns.cols_by_dtype(claims)[1]\n",
    "date_cols        = fxns.cols_by_dtype(claims)[2]\n",
    "physician_cols   = \\\n",
    "    claims.columns[claims.columns.str.contains('Physician')].to_list()\n",
    "chronic_cols     = \\\n",
    "    claims.columns[claims.columns.str.contains('Chronic')].to_list()\n",
    "diagnosis_cols   = \\\n",
    "    claims.columns[claims.columns.str.contains('Diagnosis')].to_list()\n",
    "procedure_cols   = \\\n",
    "    claims.columns[claims.columns.str.contains('Procedure')].to_list()\n",
    "\n",
    "# dataframes:\n",
    "outpatient_claims = claims.loc[claims.IsOutpatient == 1]\n",
    "inpatient_claims  = claims.loc[claims.IsOutpatient == 0]"
   ]
  },
  {
   "cell_type": "markdown",
   "metadata": {},
   "source": [
    "## Providers DF"
   ]
  },
  {
   "cell_type": "markdown",
   "metadata": {},
   "source": [
    "### Data Import"
   ]
  },
  {
   "cell_type": "code",
   "execution_count": 9,
   "metadata": {},
   "outputs": [],
   "source": [
    "providers = claims.groupby(['PotentialFraud', 'Provider', 'IsOutpatient'\n",
    "                           ]).size().reset_index().drop(0, axis=1)"
   ]
  },
  {
   "cell_type": "code",
   "execution_count": 10,
   "metadata": {},
   "outputs": [],
   "source": [
    "lucas = pd.read_csv('./data/Lucas_Providers.csv')\n",
    "lucas.drop('percentage_noPhysician', axis=1, inplace=True)\n",
    "lucas.columns = \\\n",
    "    ['Provider', 'DualPatientType_Perc', 'HasTop5AdmtCode']"
   ]
  },
  {
   "cell_type": "code",
   "execution_count": 11,
   "metadata": {},
   "outputs": [
    {
     "name": "stdout",
     "output_type": "stream",
     "text": [
      "Index(['Provider', 'PatientsPerAttPhys', 'PatientsPerOperPhys',\n",
      "       'PatientsPerOthPhys', 'ClaimsPerPatient_Ratio',\n",
      "       'ClaimsPerAttPhys_Ratio', 'Outpatient_Perc', 'UniquePatients_IP_Count',\n",
      "       'UniqueSt_Count_IP', 'UniquePatients_OP_Count', 'UniqueSt_Count_OP',\n",
      "       'SumChronicConds_IP_Mean', 'SumChronicConds_OP_Mean',\n",
      "       'AttPhysMultHosp_Perc', 'OperPhysMultHosp_Perc',\n",
      "       'OtherPhysMultHosp_Perc', 'MultHosp_IP_Perc', 'MultHosp_OP_Perc',\n",
      "       'DualPatientProvider_Perc', 'IP_Dup_Perc', 'OP_Dup_Perc',\n",
      "       'OP_No_Diag_Perc', 'IP_No_Proc_Perc', 'ClaimsPerTopFraudSt_Perc',\n",
      "       'PotentialFraud'],\n",
      "      dtype='object')\n"
     ]
    }
   ],
   "source": [
    "ryan = pd.read_csv('./data/Ryan_Providers.csv')\n",
    "ryan.drop(['Unnamed: 0', 'AllPhy_mean_IP', 'AllPhy_mean_OP',\n",
    "           'NoPhy_mean_IP', 'NoPhy_mean_OP',\n",
    "           'ClaimDuration_mean_IP', 'ClaimDuration_mean_OP',\n",
    "           'InscClaimAmtReimbursed_mean_IP', 'InscClaimAmtReimbursed_mean_OP',\n",
    "           'AdmisDuration_mean_IP', 'AdmisDuration_mean_OP',\n",
    "           'AgeAtClm_mean_IP', 'AgeAtClm_mean_OP',\n",
    "           'DeductibleAmtPaid_mean_IP', 'DeductibleAmtPaid_mean_OP',\n",
    "           'InsCovRatio_mean_IP', 'InsCovRatio_mean_OP',\n",
    "           'RevPerDay_mean_IP', 'RevPerDay_mean_OP',\n",
    "           'Bene_Receive_Both_IO_Perc'],\n",
    "          axis=1, inplace=True)\n",
    "ryan.rename(columns = {'Patient_Attphy_Ratio': 'PatientsPerAttPhys',\n",
    "                'Patient_Operphy_Ratio': 'PatientsPerOperPhys',\n",
    "                'Patient_Otherphy_Ratio': 'PatientsPerOthPhys',\n",
    "                'BeneID_Nunique_IP': 'UniquePatients_IP_Count',\n",
    "                'BeneID_Nunique_OP': 'UniquePatients_OP_Count',\n",
    "                'State_Nunique_IP': 'UniqueSt_Count_IP',\n",
    "                'State_Nunique_OP': 'UniqueSt_Count_OP',\n",
    "                'Claim_Patient_Ratio': 'ClaimsPerPatient_Ratio',\n",
    "                'Claim_AttPhy_Ratio': 'ClaimsPerAttPhys_Ratio',\n",
    "                'IsOutpatient_Perc': 'Outpatient_Perc',\n",
    "                'Chronic_Sum_mean_IP': 'SumChronicConds_IP_Mean',\n",
    "                'Chronic_Sum_mean_OP': 'SumChronicConds_OP_Mean',\n",
    "                'Att_Phy_Mult_Prec': 'AttPhysMultHosp_Perc',\n",
    "                'Oper_Phy_Mult_Prec': 'OperPhysMultHosp_Perc',\n",
    "                'Other_Phy_Mult_Prec': 'OtherPhysMultHosp_Perc',\n",
    "                'Provider_Serve_BothIO': 'DualPatientProvider_Perc',\n",
    "                'In_Top5_State_Perc': 'ClaimsPerTopFraudSt_Perc',\n",
    "                'IP_Multiple_Hospital_Prec': 'MultHosp_IP_Perc',\n",
    "                'OP_Multiple_Hospital_Prec': 'MultHosp_OP_Perc'},\n",
    "            inplace=True)\n",
    "print(ryan.columns)"
   ]
  },
  {
   "cell_type": "code",
   "execution_count": 12,
   "metadata": {},
   "outputs": [],
   "source": [
    "providers = providers.merge(lucas).merge(ryan)"
   ]
  },
  {
   "cell_type": "markdown",
   "metadata": {},
   "source": [
    "### Beneficiaries"
   ]
  },
  {
   "cell_type": "code",
   "execution_count": 13,
   "metadata": {
    "scrolled": true
   },
   "outputs": [],
   "source": [
    "providers['GenderZero_Perc'] = \\\n",
    "    claims.groupby(['Provider', 'IsOutpatient']).Gender.mean().values\n",
    "providers['HasRenalDisease_Perc'] = \\\n",
    "    claims.groupby(['Provider', 'IsOutpatient']).RenalDisease.mean().values\n",
    "providers['AgeAtService_Mean'] = \\\n",
    "    claims.groupby(['Provider', 'IsOutpatient']).AgeAtService.mean().values\n",
    "providers['HasDied_Perc'] = \\\n",
    "    claims.groupby(['Provider', 'IsOutpatient']).HasDied.mean().values\n",
    "providers['NumCondsPerBene_Mean'] = \\\n",
    "    claims.groupby(['Provider', 'IsOutpatient']).NumCondsPerBene.mean().values"
   ]
  },
  {
   "cell_type": "code",
   "execution_count": 14,
   "metadata": {},
   "outputs": [],
   "source": [
    "for col in chronic_cols:\n",
    "    colname = f'{col}_Perc'\n",
    "    providers[colname] = claims.groupby(['Provider', 'IsOutpatient'\n",
    "                                        ])[col].mean().values"
   ]
  },
  {
   "cell_type": "markdown",
   "metadata": {},
   "source": [
    "### Doctors"
   ]
  },
  {
   "cell_type": "code",
   "execution_count": 15,
   "metadata": {},
   "outputs": [],
   "source": [
    "for col in phys_count_cols:\n",
    "    colname = f'{col}_Perc'\n",
    "    providers[colname] = claims.groupby(['Provider', 'IsOutpatient'\n",
    "                                        ])[col].mean().values"
   ]
  },
  {
   "cell_type": "markdown",
   "metadata": {},
   "source": [
    "### Money"
   ]
  },
  {
   "cell_type": "code",
   "execution_count": 16,
   "metadata": {},
   "outputs": [],
   "source": [
    "money_cols = \\\n",
    "    ['InscClaimAmtReimbursed', 'DeductibleAmtPaid',\n",
    "     'PercInsCovered', 'ClaimCost', 'DailyClaimCost',\n",
    "     'ClaimDuration', 'IPDuration',\n",
    "     'NoOfMonths_PartACov', 'NoOfMonths_PartBCov',\n",
    "     'IPAnnualReimbursementAmt', 'IPAnnualDeductibleAmt',\n",
    "     'OPAnnualReimbursementAmt', 'OPAnnualDeductibleAmt']"
   ]
  },
  {
   "cell_type": "code",
   "execution_count": 17,
   "metadata": {},
   "outputs": [],
   "source": [
    "for col in money_cols:\n",
    "    colname = f'{col}_Perc'\n",
    "    providers[colname] = claims.groupby(['Provider', 'IsOutpatient'\n",
    "                                        ])[col].mean().values"
   ]
  },
  {
   "cell_type": "markdown",
   "metadata": {},
   "source": [
    "## Pivot"
   ]
  },
  {
   "cell_type": "code",
   "execution_count": 18,
   "metadata": {},
   "outputs": [],
   "source": [
    "ip = providers[providers.IsOutpatient == 0].add_prefix('IP_')\n",
    "ip.rename(columns={'IP_Provider': 'Provider',\n",
    "                   'IP_PotentialFraud': 'PotentialFraud'},\n",
    "          inplace=True)\n",
    "op = providers[providers.IsOutpatient == 1].add_prefix('OP_')\n",
    "op.rename(columns={'OP_Provider': 'Provider',\n",
    "                   'OP_PotentialFraud': 'PotentialFraud'},\n",
    "          inplace=True)\n",
    "providers = pd.merge(ip, op, on=['Provider', 'PotentialFraud'], how='outer')"
   ]
  },
  {
   "cell_type": "markdown",
   "metadata": {},
   "source": [
    "## Export"
   ]
  },
  {
   "cell_type": "code",
   "execution_count": 19,
   "metadata": {},
   "outputs": [],
   "source": [
    "providers.fillna(0, inplace=True)"
   ]
  },
  {
   "cell_type": "code",
   "execution_count": 21,
   "metadata": {},
   "outputs": [],
   "source": [
    "# providers.to_csv('./data/Providers_Final.csv')"
   ]
  }
 ],
 "metadata": {
  "kernelspec": {
   "display_name": "Python 3",
   "language": "python",
   "name": "python3"
  },
  "language_info": {
   "codemirror_mode": {
    "name": "ipython",
    "version": 3
   },
   "file_extension": ".py",
   "mimetype": "text/x-python",
   "name": "python",
   "nbconvert_exporter": "python",
   "pygments_lexer": "ipython3",
   "version": "3.7.6"
  },
  "toc": {
   "base_numbering": 1,
   "nav_menu": {},
   "number_sections": true,
   "sideBar": true,
   "skip_h1_title": true,
   "title_cell": "Table of Contents",
   "title_sidebar": "Contents",
   "toc_cell": false,
   "toc_position": {
    "height": "calc(100% - 180px)",
    "left": "10px",
    "top": "150px",
    "width": "165px"
   },
   "toc_section_display": true,
   "toc_window_display": true
  }
 },
 "nbformat": 4,
 "nbformat_minor": 4
}
