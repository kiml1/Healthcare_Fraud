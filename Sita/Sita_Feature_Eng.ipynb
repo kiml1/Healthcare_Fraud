{
 "cells": [
  {
   "cell_type": "markdown",
   "metadata": {},
   "source": [
    "## Setup and Data Import"
   ]
  },
  {
   "cell_type": "code",
   "execution_count": 1,
   "metadata": {},
   "outputs": [],
   "source": [
    "import sys\n",
    "sys.path.insert(0, '..')\n",
    "\n",
    "from joblib import load\n",
    "\n",
    "import Functions as fxns\n",
    "from Functions import np, pd\n",
    "\n",
    "pd.set_option('display.max_columns', None)\n",
    "pd.set_option('display.max_rows', None)\n",
    "\n",
    "from datetime import timedelta\n",
    "\n",
    "from sklearn.impute import SimpleImputer"
   ]
  },
  {
   "cell_type": "code",
   "execution_count": 2,
   "metadata": {},
   "outputs": [],
   "source": [
    "# !python ../Preprocessing.py"
   ]
  },
  {
   "cell_type": "code",
   "execution_count": 3,
   "metadata": {},
   "outputs": [],
   "source": [
    "claims = load('../claims.pkl')"
   ]
  },
  {
   "cell_type": "markdown",
   "metadata": {},
   "source": [
    "## Claims DF"
   ]
  },
  {
   "cell_type": "markdown",
   "metadata": {},
   "source": [
    "### New Columns"
   ]
  },
  {
   "cell_type": "code",
   "execution_count": 4,
   "metadata": {},
   "outputs": [],
   "source": [
    "claims['AgeAtService'] = ((claims.ClaimStartDt - claims.DOB)\n",
    "                              / timedelta(days=365)).astype(int)\n",
    "\n",
    "claims['HasDied'] = claims.DOD.notna()\n",
    "fxns.re_encode_bool(claims, ['HasDied'])\n",
    "\n",
    "chronic_cols     = \\\n",
    "    claims.columns[claims.columns.str.contains('Chronic')].to_list()\n",
    "claims['NumCondsPerBene'] = claims[chronic_cols].sum(axis=1)"
   ]
  },
  {
   "cell_type": "code",
   "execution_count": 5,
   "metadata": {},
   "outputs": [],
   "source": [
    "physician_cols = \\\n",
    "    claims.columns[claims.columns.str.contains('Physician')].to_list()\n",
    "phys_count_cols  = \\\n",
    "    ['HasAllPhysicians', 'HasAnyPhysicians', 'HasNoPhysicians']\n",
    "\n",
    "claims['HasAllPhysicians'] = claims[physician_cols].notna().all(axis=1)\n",
    "claims['HasAnyPhysicians'] = claims[physician_cols].notna().any(axis=1)\n",
    "claims['HasNoPhysicians']  = claims[physician_cols].isna().all(axis=1)\n",
    "\n",
    "fxns.re_encode_bool(claims, phys_count_cols)"
   ]
  },
  {
   "cell_type": "code",
   "execution_count": 6,
   "metadata": {},
   "outputs": [],
   "source": [
    "claims['ClaimDuration'] = \\\n",
    "    (claims.ClaimEndDt  - claims.ClaimStartDt).dt.days + 1\n",
    "claims['IPDuration']    = \\\n",
    "    (claims.DischargeDt - claims.AdmissionDt).dt.days + 1"
   ]
  },
  {
   "cell_type": "code",
   "execution_count": 7,
   "metadata": {},
   "outputs": [],
   "source": [
    "claims['ClaimCost'] = \\\n",
    "    claims.InscClaimAmtReimbursed + claims.DeductibleAmtPaid\n",
    "claims['PercInsCovered'] = \\\n",
    "    round((claims.InscClaimAmtReimbursed / claims.ClaimCost) * 100)\n",
    "claims['DailyClaimCost'] = \\\n",
    "    round(claims.ClaimCost / claims.ClaimDuration)"
   ]
  },
  {
   "cell_type": "code",
   "execution_count": 8,
   "metadata": {},
   "outputs": [],
   "source": [
    "claim_cols = claims.columns.to_list()\n",
    "claim_cols.remove('Provider')"
   ]
  },
  {
   "cell_type": "markdown",
   "metadata": {},
   "source": [
    "### Variables"
   ]
  },
  {
   "cell_type": "code",
   "execution_count": 9,
   "metadata": {},
   "outputs": [],
   "source": [
    "# lists:\n",
    "numeric_cols     = fxns.cols_by_dtype(claims)[0]\n",
    "categorical_cols = fxns.cols_by_dtype(claims)[1]\n",
    "date_cols        = fxns.cols_by_dtype(claims)[2]\n",
    "physician_cols   = \\\n",
    "    claims.columns[claims.columns.str.contains('Physician')].to_list()\n",
    "chronic_cols     = \\\n",
    "    claims.columns[claims.columns.str.contains('Chronic')].to_list()\n",
    "diagnosis_cols   = \\\n",
    "    claims.columns[claims.columns.str.contains('Diagnosis')].to_list()\n",
    "procedure_cols   = \\\n",
    "    claims.columns[claims.columns.str.contains('Procedure')].to_list()\n",
    "\n",
    "# dataframes:\n",
    "outpatient_claims = claims.loc[claims.IsOutpatient == 1]\n",
    "inpatient_claims  = claims.loc[claims.IsOutpatient == 0]"
   ]
  },
  {
   "cell_type": "markdown",
   "metadata": {},
   "source": [
    "## Providers DF"
   ]
  },
  {
   "cell_type": "markdown",
   "metadata": {},
   "source": [
    "### Data Import"
   ]
  },
  {
   "cell_type": "code",
   "execution_count": 12,
   "metadata": {},
   "outputs": [],
   "source": [
    "providers = claims.groupby(['PotentialFraud', 'Provider', 'IsOutpatient'\n",
    "                           ]).size().reset_index().drop(0, axis=1)"
   ]
  },
  {
   "cell_type": "code",
   "execution_count": 13,
   "metadata": {},
   "outputs": [],
   "source": [
    "lucas = pd.read_csv('./data/providers.csv')\n",
    "lucas.drop('percentage_noPhysician', axis=1, inplace=True)\n",
    "lucas.columns = \\\n",
    "    ['Provider', 'DualPatientType_Perc', 'HasTop5AdmtCode']"
   ]
  },
  {
   "cell_type": "code",
   "execution_count": 14,
   "metadata": {},
   "outputs": [],
   "source": [
    "ryan = pd.read_csv('./data/Ryan_providers.csv')\n",
    "ryan.drop('Unnamed: 0', axis=1, inplace=True)\n",
    "ryan.rename(columns = {'Patient_Attphy_Ratio': 'BenesPerAttPhys',\n",
    "                'Patient_Operphy_Ratio': 'BenesPerOperPhys',\n",
    "                'Patient_Otherphy_Ratio': 'BenesPerOthPhys',\n",
    "                'BeneID_Nunique_IP': 'IP_UniqueBenes_Count',\n",
    "                'BeneID_Nunique_OP': 'OP_UniqueBenes_Count',\n",
    "                'State_Nunique_IP': 'IP_UniqueSt_Count',\n",
    "                'State_Nunique_OP': 'OP_UniqueSt_Count'},\n",
    "            inplace=True)"
   ]
  },
  {
   "cell_type": "code",
   "execution_count": 15,
   "metadata": {},
   "outputs": [],
   "source": [
    "providers = providers.merge(lucas).merge(ryan)"
   ]
  },
  {
   "cell_type": "markdown",
   "metadata": {},
   "source": [
    "### Beneficiaries"
   ]
  },
  {
   "cell_type": "code",
   "execution_count": 16,
   "metadata": {
    "scrolled": true
   },
   "outputs": [],
   "source": [
    "providers['GenderZero_Perc'] = \\\n",
    "    claims.groupby(['Provider', 'IsOutpatient']).Gender.mean().values\n",
    "providers['HasRenalDisease_Perc'] = \\\n",
    "    claims.groupby(['Provider', 'IsOutpatient']).RenalDisease.mean().values\n",
    "providers['AgeAtService_Mean'] = \\\n",
    "    claims.groupby(['Provider', 'IsOutpatient']).AgeAtService.mean().values\n",
    "providers['HasDied_Perc'] = \\\n",
    "    claims.groupby(['Provider', 'IsOutpatient']).HasDied.mean().values\n",
    "providers['NumCondsPerBene_Mean'] = \\\n",
    "    claims.groupby(['Provider', 'IsOutpatient']).NumCondsPerBene.mean().values"
   ]
  },
  {
   "cell_type": "code",
   "execution_count": 17,
   "metadata": {},
   "outputs": [],
   "source": [
    "for col in chronic_cols:\n",
    "    colname = f'{col}_Perc'\n",
    "    providers[colname] = claims.groupby(['Provider', 'IsOutpatient'\n",
    "                                        ])[col].mean().values\n",
    "\n",
    "# colname2 = f'{col}_Mean'\n"
   ]
  },
  {
   "cell_type": "markdown",
   "metadata": {},
   "source": [
    "### Doctors"
   ]
  },
  {
   "cell_type": "code",
   "execution_count": 18,
   "metadata": {},
   "outputs": [],
   "source": [
    "for col in phys_count_cols:\n",
    "    colname = f'{col}_Perc'\n",
    "    providers[colname] = claims.groupby(['Provider', 'IsOutpatient'\n",
    "                                        ])[col].mean().values"
   ]
  },
  {
   "cell_type": "markdown",
   "metadata": {},
   "source": [
    "### Money"
   ]
  },
  {
   "cell_type": "code",
   "execution_count": 19,
   "metadata": {},
   "outputs": [],
   "source": [
    "money_cols = \\\n",
    "    ['InscClaimAmtReimbursed', 'DeductibleAmtPaid',\n",
    "     'PercInsCovered', 'ClaimCost', 'DailyClaimCost',\n",
    "     'ClaimDuration', 'IPDuration',\n",
    "     'NoOfMonths_PartACov', 'NoOfMonths_PartBCov',\n",
    "     'IPAnnualReimbursementAmt', 'IPAnnualDeductibleAmt',\n",
    "     'OPAnnualReimbursementAmt', 'OPAnnualDeductibleAmt']"
   ]
  },
  {
   "cell_type": "code",
   "execution_count": 20,
   "metadata": {},
   "outputs": [],
   "source": [
    "for col in money_cols:\n",
    "    colname = f'{col}_Perc'\n",
    "    providers[colname] = claims.groupby(['Provider', 'IsOutpatient'\n",
    "                                        ])[col].mean().values"
   ]
  },
  {
   "cell_type": "markdown",
   "metadata": {},
   "source": [
    "## MISC"
   ]
  },
  {
   "cell_type": "code",
   "execution_count": 21,
   "metadata": {},
   "outputs": [
    {
     "data": {
      "text/html": [
       "<div>\n",
       "<style scoped>\n",
       "    .dataframe tbody tr th:only-of-type {\n",
       "        vertical-align: middle;\n",
       "    }\n",
       "\n",
       "    .dataframe tbody tr th {\n",
       "        vertical-align: top;\n",
       "    }\n",
       "\n",
       "    .dataframe thead th {\n",
       "        text-align: right;\n",
       "    }\n",
       "</style>\n",
       "<table border=\"1\" class=\"dataframe\">\n",
       "  <thead>\n",
       "    <tr style=\"text-align: right;\">\n",
       "      <th></th>\n",
       "      <th>PotentialFraud</th>\n",
       "      <th>Provider</th>\n",
       "      <th>IsOutpatient</th>\n",
       "      <th>DualPatientType_Perc</th>\n",
       "      <th>HasTop5AdmtCode</th>\n",
       "      <th>BenesPerAttPhys</th>\n",
       "      <th>BenesPerOperPhys</th>\n",
       "      <th>BenesPerOthPhys</th>\n",
       "      <th>Att_Phy_Mult</th>\n",
       "      <th>Oper_Phy_Mult</th>\n",
       "      <th>Other_Phy_Mult</th>\n",
       "      <th>IP_Dup_Perc</th>\n",
       "      <th>OP_Dup_Perc</th>\n",
       "      <th>OP_No_Diag_Perc</th>\n",
       "      <th>IP_No_Proc_Perc</th>\n",
       "      <th>In_Top5_St_Perc</th>\n",
       "      <th>IP_UniqueBenes_Count</th>\n",
       "      <th>IP_UniqueSt_Count</th>\n",
       "      <th>OP_UniqueBenes_Count</th>\n",
       "      <th>OP_UniqueSt_Count</th>\n",
       "      <th>GenderZero_Perc</th>\n",
       "      <th>HasRenalDisease_Perc</th>\n",
       "      <th>AgeAtService_Mean</th>\n",
       "      <th>HasDied_Perc</th>\n",
       "      <th>NumCondsPerBene_Mean</th>\n",
       "      <th>Alzheimers_Chronic_Perc</th>\n",
       "      <th>HeartFailure_Chronic_Perc</th>\n",
       "      <th>KidneyDisease_Chronic_Perc</th>\n",
       "      <th>Cancer_Chronic_Perc</th>\n",
       "      <th>ObstrPulmonary_Chronic_Perc</th>\n",
       "      <th>Depression_Chronic_Perc</th>\n",
       "      <th>Diabetes_Chronic_Perc</th>\n",
       "      <th>IschemicHeart_Chronic_Perc</th>\n",
       "      <th>Osteoporosis_Chronic_Perc</th>\n",
       "      <th>RheumatoidArthritis_Chronic_Perc</th>\n",
       "      <th>Stroke_Chronic_Perc</th>\n",
       "      <th>HasAllPhysicians_Perc</th>\n",
       "      <th>HasAnyPhysicians_Perc</th>\n",
       "      <th>HasNoPhysicians_Perc</th>\n",
       "      <th>InscClaimAmtReimbursed_Perc</th>\n",
       "      <th>DeductibleAmtPaid_Perc</th>\n",
       "      <th>PercInsCovered_Perc</th>\n",
       "      <th>ClaimCost_Perc</th>\n",
       "      <th>DailyClaimCost_Perc</th>\n",
       "      <th>ClaimDuration_Perc</th>\n",
       "      <th>IPDuration_Perc</th>\n",
       "      <th>NoOfMonths_PartACov_Perc</th>\n",
       "      <th>NoOfMonths_PartBCov_Perc</th>\n",
       "      <th>IPAnnualReimbursementAmt_Perc</th>\n",
       "      <th>IPAnnualDeductibleAmt_Perc</th>\n",
       "      <th>OPAnnualReimbursementAmt_Perc</th>\n",
       "      <th>OPAnnualDeductibleAmt_Perc</th>\n",
       "    </tr>\n",
       "  </thead>\n",
       "  <tbody>\n",
       "    <tr>\n",
       "      <th>5179</th>\n",
       "      <td>0</td>\n",
       "      <td>PRV56640</td>\n",
       "      <td>1</td>\n",
       "      <td>0.0</td>\n",
       "      <td>0.0</td>\n",
       "      <td>9</td>\n",
       "      <td>19</td>\n",
       "      <td>11</td>\n",
       "      <td>0.26087</td>\n",
       "      <td>0.043478</td>\n",
       "      <td>0.043478</td>\n",
       "      <td>NaN</td>\n",
       "      <td>0.5</td>\n",
       "      <td>0.043478</td>\n",
       "      <td>NaN</td>\n",
       "      <td>0.0</td>\n",
       "      <td>NaN</td>\n",
       "      <td>NaN</td>\n",
       "      <td>23.0</td>\n",
       "      <td>1.0</td>\n",
       "      <td>0.608696</td>\n",
       "      <td>0.434783</td>\n",
       "      <td>74.0</td>\n",
       "      <td>0.0</td>\n",
       "      <td>6.086957</td>\n",
       "      <td>0.652174</td>\n",
       "      <td>0.782609</td>\n",
       "      <td>0.695652</td>\n",
       "      <td>0.391304</td>\n",
       "      <td>0.521739</td>\n",
       "      <td>0.391304</td>\n",
       "      <td>0.73913</td>\n",
       "      <td>0.869565</td>\n",
       "      <td>0.347826</td>\n",
       "      <td>0.391304</td>\n",
       "      <td>0.304348</td>\n",
       "      <td>0.130435</td>\n",
       "      <td>1.0</td>\n",
       "      <td>0.0</td>\n",
       "      <td>8130.434783</td>\n",
       "      <td>1068.0</td>\n",
       "      <td>84.047619</td>\n",
       "      <td>9258.47619</td>\n",
       "      <td>2029.952381</td>\n",
       "      <td>5.956522</td>\n",
       "      <td>5.956522</td>\n",
       "      <td>10.695652</td>\n",
       "      <td>11.565217</td>\n",
       "      <td>17234.347826</td>\n",
       "      <td>2170.608696</td>\n",
       "      <td>1860.434783</td>\n",
       "      <td>537.826087</td>\n",
       "    </tr>\n",
       "  </tbody>\n",
       "</table>\n",
       "</div>"
      ],
      "text/plain": [
       "      PotentialFraud  Provider  IsOutpatient  DualPatientType_Perc  \\\n",
       "5179               0  PRV56640             1                   0.0   \n",
       "\n",
       "      HasTop5AdmtCode  BenesPerAttPhys  BenesPerOperPhys  BenesPerOthPhys  \\\n",
       "5179              0.0                9                19               11   \n",
       "\n",
       "      Att_Phy_Mult  Oper_Phy_Mult  Other_Phy_Mult  IP_Dup_Perc  OP_Dup_Perc  \\\n",
       "5179       0.26087       0.043478        0.043478          NaN          0.5   \n",
       "\n",
       "      OP_No_Diag_Perc  IP_No_Proc_Perc  In_Top5_St_Perc  IP_UniqueBenes_Count  \\\n",
       "5179         0.043478              NaN              0.0                   NaN   \n",
       "\n",
       "      IP_UniqueSt_Count  OP_UniqueBenes_Count  OP_UniqueSt_Count  \\\n",
       "5179                NaN                  23.0                1.0   \n",
       "\n",
       "      GenderZero_Perc  HasRenalDisease_Perc  AgeAtService_Mean  HasDied_Perc  \\\n",
       "5179         0.608696              0.434783               74.0           0.0   \n",
       "\n",
       "      NumCondsPerBene_Mean  Alzheimers_Chronic_Perc  \\\n",
       "5179              6.086957                 0.652174   \n",
       "\n",
       "      HeartFailure_Chronic_Perc  KidneyDisease_Chronic_Perc  \\\n",
       "5179                   0.782609                    0.695652   \n",
       "\n",
       "      Cancer_Chronic_Perc  ObstrPulmonary_Chronic_Perc  \\\n",
       "5179             0.391304                     0.521739   \n",
       "\n",
       "      Depression_Chronic_Perc  Diabetes_Chronic_Perc  \\\n",
       "5179                 0.391304                0.73913   \n",
       "\n",
       "      IschemicHeart_Chronic_Perc  Osteoporosis_Chronic_Perc  \\\n",
       "5179                    0.869565                   0.347826   \n",
       "\n",
       "      RheumatoidArthritis_Chronic_Perc  Stroke_Chronic_Perc  \\\n",
       "5179                          0.391304             0.304348   \n",
       "\n",
       "      HasAllPhysicians_Perc  HasAnyPhysicians_Perc  HasNoPhysicians_Perc  \\\n",
       "5179               0.130435                    1.0                   0.0   \n",
       "\n",
       "      InscClaimAmtReimbursed_Perc  DeductibleAmtPaid_Perc  \\\n",
       "5179                  8130.434783                  1068.0   \n",
       "\n",
       "      PercInsCovered_Perc  ClaimCost_Perc  DailyClaimCost_Perc  \\\n",
       "5179            84.047619      9258.47619          2029.952381   \n",
       "\n",
       "      ClaimDuration_Perc  IPDuration_Perc  NoOfMonths_PartACov_Perc  \\\n",
       "5179            5.956522         5.956522                 10.695652   \n",
       "\n",
       "      NoOfMonths_PartBCov_Perc  IPAnnualReimbursementAmt_Perc  \\\n",
       "5179                 11.565217                   17234.347826   \n",
       "\n",
       "      IPAnnualDeductibleAmt_Perc  OPAnnualReimbursementAmt_Perc  \\\n",
       "5179                 2170.608696                    1860.434783   \n",
       "\n",
       "      OPAnnualDeductibleAmt_Perc  \n",
       "5179                  537.826087  "
      ]
     },
     "execution_count": 21,
     "metadata": {},
     "output_type": "execute_result"
    }
   ],
   "source": [
    "providers.sample()"
   ]
  },
  {
   "cell_type": "code",
   "execution_count": 22,
   "metadata": {},
   "outputs": [
    {
     "data": {
      "text/plain": [
       "Index(['PotentialFraud', 'Provider', 'IsOutpatient', 'DualPatientType_Perc',\n",
       "       'HasTop5AdmtCode', 'BenesPerAttPhys', 'BenesPerOperPhys',\n",
       "       'BenesPerOthPhys', 'Att_Phy_Mult', 'Oper_Phy_Mult', 'Other_Phy_Mult',\n",
       "       'IP_Dup_Perc', 'OP_Dup_Perc', 'OP_No_Diag_Perc', 'IP_No_Proc_Perc',\n",
       "       'In_Top5_St_Perc', 'IP_UniqueBenes_Count', 'IP_UniqueSt_Count',\n",
       "       'OP_UniqueBenes_Count', 'OP_UniqueSt_Count', 'GenderZero_Perc',\n",
       "       'HasRenalDisease_Perc', 'AgeAtService_Mean', 'HasDied_Perc',\n",
       "       'NumCondsPerBene_Mean', 'Alzheimers_Chronic_Perc',\n",
       "       'HeartFailure_Chronic_Perc', 'KidneyDisease_Chronic_Perc',\n",
       "       'Cancer_Chronic_Perc', 'ObstrPulmonary_Chronic_Perc',\n",
       "       'Depression_Chronic_Perc', 'Diabetes_Chronic_Perc',\n",
       "       'IschemicHeart_Chronic_Perc', 'Osteoporosis_Chronic_Perc',\n",
       "       'RheumatoidArthritis_Chronic_Perc', 'Stroke_Chronic_Perc',\n",
       "       'HasAllPhysicians_Perc', 'HasAnyPhysicians_Perc',\n",
       "       'HasNoPhysicians_Perc', 'InscClaimAmtReimbursed_Perc',\n",
       "       'DeductibleAmtPaid_Perc', 'PercInsCovered_Perc', 'ClaimCost_Perc',\n",
       "       'DailyClaimCost_Perc', 'ClaimDuration_Perc', 'IPDuration_Perc',\n",
       "       'NoOfMonths_PartACov_Perc', 'NoOfMonths_PartBCov_Perc',\n",
       "       'IPAnnualReimbursementAmt_Perc', 'IPAnnualDeductibleAmt_Perc',\n",
       "       'OPAnnualReimbursementAmt_Perc', 'OPAnnualDeductibleAmt_Perc'],\n",
       "      dtype='object')"
      ]
     },
     "execution_count": 22,
     "metadata": {},
     "output_type": "execute_result"
    }
   ],
   "source": [
    "providers.columns"
   ]
  },
  {
   "cell_type": "code",
   "execution_count": 23,
   "metadata": {},
   "outputs": [
    {
     "data": {
      "text/plain": [
       "[]"
      ]
     },
     "execution_count": 23,
     "metadata": {},
     "output_type": "execute_result"
    }
   ],
   "source": [
    "desc = ['PotentialFraud', 'Provider', 'IsOutpatient', 'DeductibleAmtPaid_Perc',\n",
    "       'MISSING3', 'Alzheimers_Chronic_Perc', 'HeartFailure_Chronic_Perc',\n",
    "       'KidneyDisease_Chronic_Perc', 'Cancer_Chronic_Perc',\n",
    "       'ObstrPulmonary_Chronic_Perc', 'Depression_Chronic_Perc',\n",
    "       'Diabetes_Chronic_Perc', 'IschemicHeart_Chronic_Perc',\n",
    "       'Osteoporosis_Chronic_Perc', 'RheumatoidArthritis_Chronic_Perc',\n",
    "       'Stroke_Chronic_Perc', 'MISSING4', 'MISSING5', 'Att_Phy_Mult',\n",
    "       'Oper_Phy_Mult', 'Other_Phy_Mult', 'MISSING6', 'MISSING7',\n",
    "       'DualPatientType_Perc', 'HasTop5AdmtCode', 'IP_UniqueBenes_Count',\n",
    "       'OP_UniqueBenes_Count', 'IP_UniqueSt_Count', 'OP_UniqueSt_Count',\n",
    "       'BenesPerAttPhys', 'BenesPerOperPhys', 'BenesPerOthPhys',\n",
    "       'HasAllPhysicians_Perc', 'HasAnyPhysicians_Perc',\n",
    "       'HasNoPhysicians_Perc', 'HasRenalDisease_Perc', 'HasDied_Perc',\n",
    "       'ClaimDuration_Perc', 'IPDuration_Perc', 'InscClaimAmtReimbursed_Perc',\n",
    "       'AgeAtService_Mean', 'NumCondsPerBene_Mean', 'PercInsCovered_Perc',\n",
    "       'ClaimCost_Perc', 'DailyClaimCost_Perc', 'IP_Dup_Perc', 'OP_Dup_Perc',\n",
    "       'MISSING20', 'MISSING21', 'OP_No_Diag_Perc', 'IP_No_Proc_Perc',\n",
    "       'In_Top5_St_Perc', 'GenderZero_Perc', 'NoOfMonths_PartACov_Perc',\n",
    "       'NoOfMonths_PartBCov_Perc', 'IPAnnualReimbursementAmt_Perc',\n",
    "       'IPAnnualDeductibleAmt_Perc', 'OPAnnualReimbursementAmt_Perc',\n",
    "       'OPAnnualDeductibleAmt_Perc']\n",
    "\n",
    "colst = providers.columns.to_list()\n",
    "\n",
    "[i for i in colst + desc if i not in desc]"
   ]
  }
 ],
 "metadata": {
  "kernelspec": {
   "display_name": "Python 3",
   "language": "python",
   "name": "python3"
  },
  "language_info": {
   "codemirror_mode": {
    "name": "ipython",
    "version": 3
   },
   "file_extension": ".py",
   "mimetype": "text/x-python",
   "name": "python",
   "nbconvert_exporter": "python",
   "pygments_lexer": "ipython3",
   "version": "3.7.6"
  },
  "toc": {
   "base_numbering": 1,
   "nav_menu": {},
   "number_sections": true,
   "sideBar": true,
   "skip_h1_title": true,
   "title_cell": "Table of Contents",
   "title_sidebar": "Contents",
   "toc_cell": false,
   "toc_position": {
    "height": "calc(100% - 180px)",
    "left": "10px",
    "top": "150px",
    "width": "165px"
   },
   "toc_section_display": true,
   "toc_window_display": true
  }
 },
 "nbformat": 4,
 "nbformat_minor": 4
}
