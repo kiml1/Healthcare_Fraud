{
 "cells": [
  {
   "cell_type": "markdown",
   "metadata": {},
   "source": [
    "## Setup and Data Import"
   ]
  },
  {
   "cell_type": "code",
   "execution_count": 1,
   "metadata": {},
   "outputs": [],
   "source": [
    "import sys\n",
    "sys.path.insert(0, '..')\n",
    "\n",
    "from joblib import load\n",
    "\n",
    "import Functions as fxns\n",
    "from Functions import np, pd\n",
    "\n",
    "pd.set_option('display.max_columns', None)\n",
    "pd.set_option('display.max_rows', None)\n",
    "\n",
    "from datetime import timedelta"
   ]
  },
  {
   "cell_type": "code",
   "execution_count": 2,
   "metadata": {},
   "outputs": [],
   "source": [
    "# !python ../Preprocessing.py"
   ]
  },
  {
   "cell_type": "code",
   "execution_count": 3,
   "metadata": {},
   "outputs": [],
   "source": [
    "claims = load('../claims.pkl')"
   ]
  },
  {
   "cell_type": "markdown",
   "metadata": {},
   "source": [
    "## Claims DF"
   ]
  },
  {
   "cell_type": "markdown",
   "metadata": {},
   "source": [
    "### New Columns"
   ]
  },
  {
   "cell_type": "code",
   "execution_count": 4,
   "metadata": {},
   "outputs": [],
   "source": [
    "claims['AgeAtService'] = ((claims.ClaimStartDt - claims.DOB)\n",
    "                              / timedelta(days=365)).astype(int)\n",
    "claims['HasDied'] = claims.DOD.notna()\n",
    "\n",
    "physician_cols = \\\n",
    "    claims.columns[claims.columns.str.contains('Physician')].to_list()\n",
    "claims['HasAnyPhysician'] = claims[physician_cols].notna().any(axis=1)\n",
    "claims['HasAllPhysicians'] = claims[physician_cols].notna().all(axis=1)\n",
    "\n",
    "claims['ClaimDuration'] = \\\n",
    "    (claims.ClaimEndDt  - claims.ClaimStartDt).dt.days + 1\n",
    "claims['IPDuration'] = \\\n",
    "    (claims.DischargeDt - claims.AdmissionDt).dt.days + 1\n",
    "\n",
    "outpatient_claims = claims.loc[claims.IsOutpatient == 1]\n",
    "inpatient_claims  = claims.loc[claims.IsOutpatient == 0]\n",
    "claims['IPClaimDuration'] = \\\n",
    "    (inpatient_claims.ClaimEndDt\n",
    "     - inpatient_claims.ClaimStartDt).dt.days + 1\n",
    "claims['OPClaimDuration'] = \\\n",
    "    (outpatient_claims.ClaimEndDt\n",
    "     - outpatient_claims.ClaimStartDt).dt.days + 1\n",
    "\n",
    "claims['ClaimCost'] = \\\n",
    "    claims.InscClaimAmtReimbursed + claims.DeductibleAmtPaid\n",
    "claims['PercInsCovered'] = \\\n",
    "    round((claims.InscClaimAmtReimbursed / claims.ClaimCost) * 100)\n",
    "claims['DailyClaimCost'] = \\\n",
    "    round(claims.ClaimCost / claims.ClaimDuration)"
   ]
  },
  {
   "cell_type": "code",
   "execution_count": 5,
   "metadata": {},
   "outputs": [],
   "source": [
    "claim_cols = claims.columns.to_list()\n",
    "claim_cols.remove('Provider')"
   ]
  },
  {
   "cell_type": "markdown",
   "metadata": {},
   "source": [
    "### Variables"
   ]
  },
  {
   "cell_type": "code",
   "execution_count": 6,
   "metadata": {},
   "outputs": [],
   "source": [
    "# lists:\n",
    "numeric_cols     = fxns.cols_by_dtype(claims)[0]\n",
    "categorical_cols = fxns.cols_by_dtype(claims)[1]\n",
    "date_cols        = fxns.cols_by_dtype(claims)[2]\n",
    "physician_cols   = \\\n",
    "    claims.columns[claims.columns.str.contains('Physician')].to_list()\n",
    "chronic_cols     = \\\n",
    "    claims.columns[claims.columns.str.contains('Chronic')].to_list()\n",
    "diagnosis_cols   = \\\n",
    "    claims.columns[claims.columns.str.contains('Diagnosis')].to_list()\n",
    "procedure_cols   = \\\n",
    "    claims.columns[claims.columns.str.contains('Procedure')].to_list()\n",
    "\n",
    "# dataframes:\n",
    "outpatient_claims = claims.loc[claims.IsOutpatient == 1]\n",
    "inpatient_claims  = claims.loc[claims.IsOutpatient == 0]"
   ]
  },
  {
   "cell_type": "markdown",
   "metadata": {},
   "source": [
    "## Providers DF"
   ]
  },
  {
   "cell_type": "markdown",
   "metadata": {},
   "source": [
    "### Data Import"
   ]
  },
  {
   "cell_type": "code",
   "execution_count": 7,
   "metadata": {},
   "outputs": [],
   "source": [
    "lucas = pd.read_csv('./data/providers.csv')\n",
    "lucas.columns = ['Provider', 'DualPatients_Perc', 'HasNoPhys_Perc', 'HasTop5AdmtCode']"
   ]
  },
  {
   "cell_type": "code",
   "execution_count": 8,
   "metadata": {},
   "outputs": [],
   "source": [
    "ryan = pd.read_csv('./data/Ryan_providers.csv')\n",
    "ryan.drop('Unnamed: 0', axis=1, inplace=True)\n",
    "ryan.rename(columns = {'Patient_Attphy_Ratio': 'BenesPerAttPhys',\n",
    "                'Patient_Operphy_Ratio': 'BenesPerOperPhys',\n",
    "                'Patient_Otherphy_Ratio': 'BenesPerOthPhys',\n",
    "                'BeneID_Nunique_IP': 'IP_UniqueBenes_Count',\n",
    "                'BeneID_Nunique_OP': 'OP_UniqueBenes_Count',\n",
    "                'State_Nunique_IP': 'IP_UniqueSt_Count',\n",
    "                'State_Nunique_OP': 'OP_UniqueSt_Count'}, inplace=True)"
   ]
  },
  {
   "cell_type": "code",
   "execution_count": 9,
   "metadata": {},
   "outputs": [],
   "source": [
    "providers = pd.merge(lucas, ryan)"
   ]
  },
  {
   "cell_type": "markdown",
   "metadata": {},
   "source": [
    "### Beneficiaries"
   ]
  },
  {
   "cell_type": "code",
   "execution_count": 10,
   "metadata": {
    "scrolled": true
   },
   "outputs": [],
   "source": [
    "providers['GenderZero_Perc'] = claims.groupby('Provider').Gender.mean().values\n",
    "providers['HasRenalDisease_Perc'] = claims.groupby('Provider').RenalDisease.mean().values\n",
    "providers['HasDied_Perc'] = claims.groupby('Provider').HasDied.mean().values\n",
    "providers['IsOutpatient'] = claims.groupby('Provider').IsOutpatient.mean().values"
   ]
  },
  {
   "cell_type": "code",
   "execution_count": 11,
   "metadata": {},
   "outputs": [],
   "source": [
    "cond_by_ip = \\\n",
    "    inpatient_claims.groupby('Provider')[chronic_cols].sum().reset_index()\n",
    "cond_by_op = \\\n",
    "    outpatient_claims.groupby('Provider')[chronic_cols].sum().reset_index()\n",
    "\n",
    "def conditions_by_perc(df, cols, pat_type):\n",
    "    percs = pd.DataFrame(providers.Provider)\n",
    "    for col in cols:\n",
    "        percs[f'{col}_{pat_type}_Perc'] = df[col].mean()\n",
    "    return pd.merge(providers, percs)\n",
    "\n",
    "providers = conditions_by_perc(cond_by_ip, chronic_cols, 'IP')\n",
    "providers = conditions_by_perc(cond_by_op, chronic_cols, 'OP')"
   ]
  },
  {
   "cell_type": "markdown",
   "metadata": {},
   "source": [
    "### Doctors"
   ]
  },
  {
   "cell_type": "code",
   "execution_count": 12,
   "metadata": {},
   "outputs": [],
   "source": [
    "providers['HasAnyPhysician'] = \\\n",
    "    claims.groupby('Provider').HasAnyPhysician.mean().values\n",
    "providers['HasAllPhysicians'] = \\\n",
    "    claims.groupby('Provider').HasAllPhysicians.mean().values"
   ]
  },
  {
   "cell_type": "markdown",
   "metadata": {},
   "source": [
    "### Money"
   ]
  },
  {
   "cell_type": "code",
   "execution_count": null,
   "metadata": {},
   "outputs": [],
   "source": []
  },
  {
   "cell_type": "markdown",
   "metadata": {},
   "source": [
    "## MISC"
   ]
  },
  {
   "cell_type": "code",
   "execution_count": 31,
   "metadata": {},
   "outputs": [],
   "source": [
    "# def add_mean_summary_col(groupby_col, mean_col, newcol1, newcol2):\n",
    "#     outpatient_claims = claims.loc[claims.IsOutpatient == 1]\n",
    "#     inpatient_claims  = claims.loc[claims.IsOutpatient == 0]\n",
    "    \n",
    "#     ip = fxns.add_mean_per_col(\n",
    "#         inpatient_claims, groupby_col, mean_col, newcol1)\n",
    "#     op = fxns.add_mean_per_col(\n",
    "#         outpatient_claims, groupby_col, mean_col, newcol2)\n",
    "    \n",
    "#     expanded_claims = pd.concat([ip, op])\n",
    "#     return expanded_claims"
   ]
  },
  {
   "cell_type": "code",
   "execution_count": 32,
   "metadata": {},
   "outputs": [],
   "source": [
    "# # Average chronic conditions per inpatients\n",
    "# for col in chronic_cols:\n",
    "#     sum_stats = \\\n",
    "#         add_mean_summary_col('BeneID', col, f'{col}_perIP', f'{col}_perOP')"
   ]
  },
  {
   "cell_type": "code",
   "execution_count": 33,
   "metadata": {
    "scrolled": true
   },
   "outputs": [],
   "source": [
    "# sum_stats = fxns.add_count_per_col(claims, 'BeneID', 'ClaimID', 'ClaimsPerBene')\n",
    "\n",
    "# sum_stats = fxns.add_count_per_col(\n",
    "#     claims, 'AttendingPhysician', 'ClaimID', 'ClaimsPerAttPhy')\n",
    "# sum_stats = fxns.add_count_per_col(\n",
    "#     claims, 'OperatingPhysician', 'ClaimID', 'ClaimsPerOperPhys')\n",
    "# sum_stats = fxns.add_count_per_col(\n",
    "#     claims, 'OtherPhysician', 'ClaimID', 'ClaimsPerOtherPhys')"
   ]
  },
  {
   "cell_type": "code",
   "execution_count": 34,
   "metadata": {},
   "outputs": [],
   "source": [
    "# sum_stats = add_mean_summary_col('BeneID', 'InscClaimAmtReimbursed',\n",
    "#                          'Reimb_perIP', 'Reimb_perOP')\n",
    "# sum_stats = add_mean_summary_col('BeneID', 'DeductibleAmtPaid',\n",
    "#                          'Deductible_perIP', 'Deductible_perOP')\n",
    "# sum_stats = add_mean_summary_col('BeneID', 'PercInsCovered',\n",
    "#                          'PercInsCovered_perIP', 'PercInsCovered_perOP')\n",
    "# sum_stats = add_mean_summary_col('BeneID', 'DailyClaimCost',\n",
    "#                          'DailyClaimCost_perIP', 'DailyClaimCost_perOP')"
   ]
  },
  {
   "cell_type": "code",
   "execution_count": 39,
   "metadata": {},
   "outputs": [],
   "source": [
    "# temp_cols = claims.groupby('Provider').mean().columns.to_list()\n",
    "# temp_cols\n",
    "# temp = sum_stats.groupby('Provider').mean()\n",
    "# temp.drop(temp_cols, axis=1, inplace=True)\n",
    "# print(len(temp))\n",
    "# temp.sample(10)"
   ]
  }
 ],
 "metadata": {
  "kernelspec": {
   "display_name": "Python 3",
   "language": "python",
   "name": "python3"
  },
  "language_info": {
   "codemirror_mode": {
    "name": "ipython",
    "version": 3
   },
   "file_extension": ".py",
   "mimetype": "text/x-python",
   "name": "python",
   "nbconvert_exporter": "python",
   "pygments_lexer": "ipython3",
   "version": "3.7.6"
  },
  "toc": {
   "base_numbering": 1,
   "nav_menu": {},
   "number_sections": true,
   "sideBar": true,
   "skip_h1_title": true,
   "title_cell": "Table of Contents",
   "title_sidebar": "Contents",
   "toc_cell": false,
   "toc_position": {
    "height": "calc(100% - 180px)",
    "left": "10px",
    "top": "150px",
    "width": "165px"
   },
   "toc_section_display": true,
   "toc_window_display": true
  }
 },
 "nbformat": 4,
 "nbformat_minor": 4
}
