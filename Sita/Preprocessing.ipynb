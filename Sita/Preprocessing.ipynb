{
 "cells": [
  {
   "cell_type": "markdown",
   "metadata": {},
   "source": [
    "## Setup and Data Import"
   ]
  },
  {
   "cell_type": "code",
   "execution_count": 1,
   "metadata": {},
   "outputs": [],
   "source": [
    "from datetime import datetime\n",
    "\n",
    "import numpy as np\n",
    "\n",
    "import pandas as pd\n",
    "pd.set_option('display.max_rows', None)\n",
    "pd.set_option('display.max_columns', None)"
   ]
  },
  {
   "cell_type": "code",
   "execution_count": 2,
   "metadata": {},
   "outputs": [],
   "source": [
    "beneficiary = pd.read_csv(\n",
    "    '../data/Train_Beneficiarydata-1542865627584.csv')\n",
    "inpatient =  pd.read_csv(\n",
    "    '../data/Train_Inpatientdata-1542865627584.csv')\n",
    "outpatient =  pd.read_csv(\n",
    "    '../data/Train_Outpatientdata-1542865627584.csv')\n",
    "target = pd.read_csv('../data/Train-1542865627584.csv')"
   ]
  },
  {
   "cell_type": "code",
   "execution_count": 3,
   "metadata": {},
   "outputs": [],
   "source": [
    "def explore_df(df):\n",
    "    print('Shape:', df.shape, '\\n')\n",
    "    print('Columns/Dtypes:\\n', df.dtypes, '\\n')\n",
    "    print('Missingness:\\n', df.isnull().any(\n",
    "        )[df.isnull().any()], '\\n')"
   ]
  },
  {
   "cell_type": "code",
   "execution_count": 4,
   "metadata": {},
   "outputs": [
    {
     "name": "stdout",
     "output_type": "stream",
     "text": [
      "Shape: (138556, 25) \n",
      "\n",
      "Columns/Dtypes:\n",
      " BeneID                             object\n",
      "DOB                                object\n",
      "DOD                                object\n",
      "Gender                              int64\n",
      "Race                                int64\n",
      "RenalDiseaseIndicator              object\n",
      "State                               int64\n",
      "County                              int64\n",
      "NoOfMonths_PartACov                 int64\n",
      "NoOfMonths_PartBCov                 int64\n",
      "ChronicCond_Alzheimer               int64\n",
      "ChronicCond_Heartfailure            int64\n",
      "ChronicCond_KidneyDisease           int64\n",
      "ChronicCond_Cancer                  int64\n",
      "ChronicCond_ObstrPulmonary          int64\n",
      "ChronicCond_Depression              int64\n",
      "ChronicCond_Diabetes                int64\n",
      "ChronicCond_IschemicHeart           int64\n",
      "ChronicCond_Osteoporasis            int64\n",
      "ChronicCond_rheumatoidarthritis     int64\n",
      "ChronicCond_stroke                  int64\n",
      "IPAnnualReimbursementAmt            int64\n",
      "IPAnnualDeductibleAmt               int64\n",
      "OPAnnualReimbursementAmt            int64\n",
      "OPAnnualDeductibleAmt               int64\n",
      "dtype: object \n",
      "\n",
      "Missingness:\n",
      " DOD    True\n",
      "dtype: bool \n",
      "\n"
     ]
    }
   ],
   "source": [
    "explore_df(beneficiary)"
   ]
  },
  {
   "cell_type": "code",
   "execution_count": 5,
   "metadata": {},
   "outputs": [
    {
     "name": "stdout",
     "output_type": "stream",
     "text": [
      "Shape: (40474, 30) \n",
      "\n",
      "Columns/Dtypes:\n",
      " BeneID                     object\n",
      "ClaimID                    object\n",
      "ClaimStartDt               object\n",
      "ClaimEndDt                 object\n",
      "Provider                   object\n",
      "InscClaimAmtReimbursed      int64\n",
      "AttendingPhysician         object\n",
      "OperatingPhysician         object\n",
      "OtherPhysician             object\n",
      "AdmissionDt                object\n",
      "ClmAdmitDiagnosisCode      object\n",
      "DeductibleAmtPaid         float64\n",
      "DischargeDt                object\n",
      "DiagnosisGroupCode         object\n",
      "ClmDiagnosisCode_1         object\n",
      "ClmDiagnosisCode_2         object\n",
      "ClmDiagnosisCode_3         object\n",
      "ClmDiagnosisCode_4         object\n",
      "ClmDiagnosisCode_5         object\n",
      "ClmDiagnosisCode_6         object\n",
      "ClmDiagnosisCode_7         object\n",
      "ClmDiagnosisCode_8         object\n",
      "ClmDiagnosisCode_9         object\n",
      "ClmDiagnosisCode_10        object\n",
      "ClmProcedureCode_1        float64\n",
      "ClmProcedureCode_2        float64\n",
      "ClmProcedureCode_3        float64\n",
      "ClmProcedureCode_4        float64\n",
      "ClmProcedureCode_5        float64\n",
      "ClmProcedureCode_6        float64\n",
      "dtype: object \n",
      "\n",
      "Missingness:\n",
      " AttendingPhysician     True\n",
      "OperatingPhysician     True\n",
      "OtherPhysician         True\n",
      "DeductibleAmtPaid      True\n",
      "ClmDiagnosisCode_2     True\n",
      "ClmDiagnosisCode_3     True\n",
      "ClmDiagnosisCode_4     True\n",
      "ClmDiagnosisCode_5     True\n",
      "ClmDiagnosisCode_6     True\n",
      "ClmDiagnosisCode_7     True\n",
      "ClmDiagnosisCode_8     True\n",
      "ClmDiagnosisCode_9     True\n",
      "ClmDiagnosisCode_10    True\n",
      "ClmProcedureCode_1     True\n",
      "ClmProcedureCode_2     True\n",
      "ClmProcedureCode_3     True\n",
      "ClmProcedureCode_4     True\n",
      "ClmProcedureCode_5     True\n",
      "ClmProcedureCode_6     True\n",
      "dtype: bool \n",
      "\n"
     ]
    }
   ],
   "source": [
    "explore_df(inpatient)"
   ]
  },
  {
   "cell_type": "code",
   "execution_count": 6,
   "metadata": {},
   "outputs": [
    {
     "name": "stdout",
     "output_type": "stream",
     "text": [
      "Shape: (517737, 27) \n",
      "\n",
      "Columns/Dtypes:\n",
      " BeneID                     object\n",
      "ClaimID                    object\n",
      "ClaimStartDt               object\n",
      "ClaimEndDt                 object\n",
      "Provider                   object\n",
      "InscClaimAmtReimbursed      int64\n",
      "AttendingPhysician         object\n",
      "OperatingPhysician         object\n",
      "OtherPhysician             object\n",
      "ClmDiagnosisCode_1         object\n",
      "ClmDiagnosisCode_2         object\n",
      "ClmDiagnosisCode_3         object\n",
      "ClmDiagnosisCode_4         object\n",
      "ClmDiagnosisCode_5         object\n",
      "ClmDiagnosisCode_6         object\n",
      "ClmDiagnosisCode_7         object\n",
      "ClmDiagnosisCode_8         object\n",
      "ClmDiagnosisCode_9         object\n",
      "ClmDiagnosisCode_10        object\n",
      "ClmProcedureCode_1        float64\n",
      "ClmProcedureCode_2        float64\n",
      "ClmProcedureCode_3        float64\n",
      "ClmProcedureCode_4        float64\n",
      "ClmProcedureCode_5        float64\n",
      "ClmProcedureCode_6        float64\n",
      "DeductibleAmtPaid           int64\n",
      "ClmAdmitDiagnosisCode      object\n",
      "dtype: object \n",
      "\n",
      "Missingness:\n",
      " AttendingPhysician       True\n",
      "OperatingPhysician       True\n",
      "OtherPhysician           True\n",
      "ClmDiagnosisCode_1       True\n",
      "ClmDiagnosisCode_2       True\n",
      "ClmDiagnosisCode_3       True\n",
      "ClmDiagnosisCode_4       True\n",
      "ClmDiagnosisCode_5       True\n",
      "ClmDiagnosisCode_6       True\n",
      "ClmDiagnosisCode_7       True\n",
      "ClmDiagnosisCode_8       True\n",
      "ClmDiagnosisCode_9       True\n",
      "ClmDiagnosisCode_10      True\n",
      "ClmProcedureCode_1       True\n",
      "ClmProcedureCode_2       True\n",
      "ClmProcedureCode_3       True\n",
      "ClmProcedureCode_4       True\n",
      "ClmProcedureCode_5       True\n",
      "ClmProcedureCode_6       True\n",
      "ClmAdmitDiagnosisCode    True\n",
      "dtype: bool \n",
      "\n"
     ]
    }
   ],
   "source": [
    "explore_df(outpatient)"
   ]
  },
  {
   "cell_type": "code",
   "execution_count": 7,
   "metadata": {},
   "outputs": [
    {
     "name": "stdout",
     "output_type": "stream",
     "text": [
      "Shape: (5410, 2) \n",
      "\n",
      "Columns/Dtypes:\n",
      " Provider          object\n",
      "PotentialFraud    object\n",
      "dtype: object \n",
      "\n",
      "Missingness:\n",
      " Series([], dtype: bool) \n",
      "\n"
     ]
    }
   ],
   "source": [
    "explore_df(target)"
   ]
  },
  {
   "cell_type": "markdown",
   "metadata": {},
   "source": [
    "## Pre-Processing"
   ]
  },
  {
   "cell_type": "markdown",
   "metadata": {},
   "source": [
    "### Column Types"
   ]
  },
  {
   "cell_type": "code",
   "execution_count": 8,
   "metadata": {},
   "outputs": [],
   "source": [
    "def date_parser(df, cols):\n",
    "    for col in cols:\n",
    "        df[col] = pd.to_datetime(df[col])\n",
    "\n",
    "date_parser(beneficiary, ['DOB', 'DOD'])\n",
    "date_parser(inpatient, ['ClaimStartDt', 'ClaimEndDt', 'AdmissionDt', 'DischargeDt'])\n",
    "date_parser(outpatient, ['ClaimStartDt', 'ClaimEndDt'])"
   ]
  },
  {
   "cell_type": "code",
   "execution_count": 9,
   "metadata": {},
   "outputs": [],
   "source": [
    "def check_obj_dtypes(*dfs):\n",
    "    for df in dfs:\n",
    "        object_cols = df.select_dtypes('object').columns.tolist()\n",
    "\n",
    "        for col in object_cols:\n",
    "            val_counts = df[col].apply(type).value_counts()\n",
    "            if len(val_counts) > 1:\n",
    "                print(f'{\"-\" * 40}\\n', val_counts, f'\\n{\"-\" * 40}\\n')\n",
    "            else:\n",
    "                print(val_counts, '\\n')\n",
    "\n",
    "# Highlighted columns all contain two dtypes because they have NaNs"
   ]
  },
  {
   "cell_type": "code",
   "execution_count": 10,
   "metadata": {},
   "outputs": [],
   "source": [
    "def convert_cat_dtype(*dfs):\n",
    "    for df in dfs:\n",
    "        cols = df.columns[df.columns.str.contains('Procedure')\n",
    "                         | df.columns.str.contains('Chronic')\n",
    "                         | df.columns.str.contains('Gender')\n",
    "                         | df.columns.str.contains('Race')\n",
    "                         | df.columns.str.contains('RenalDiseaseIndicator')\n",
    "                         | df.columns.str.contains('State')\n",
    "                         | df.columns.str.contains('County')].to_list()\n",
    "\n",
    "        df[cols] = \\\n",
    "            df[cols].apply(lambda x: x.astype('category'))\n",
    "\n",
    "convert_cat_dtype(beneficiary, inpatient, outpatient)"
   ]
  },
  {
   "cell_type": "code",
   "execution_count": 11,
   "metadata": {},
   "outputs": [
    {
     "data": {
      "text/plain": [
       "BeneID                                     object\n",
       "DOB                                datetime64[ns]\n",
       "DOD                                datetime64[ns]\n",
       "Gender                                   category\n",
       "Race                                     category\n",
       "RenalDiseaseIndicator                    category\n",
       "State                                    category\n",
       "County                                   category\n",
       "NoOfMonths_PartACov                         int64\n",
       "NoOfMonths_PartBCov                         int64\n",
       "ChronicCond_Alzheimer                    category\n",
       "ChronicCond_Heartfailure                 category\n",
       "ChronicCond_KidneyDisease                category\n",
       "ChronicCond_Cancer                       category\n",
       "ChronicCond_ObstrPulmonary               category\n",
       "ChronicCond_Depression                   category\n",
       "ChronicCond_Diabetes                     category\n",
       "ChronicCond_IschemicHeart                category\n",
       "ChronicCond_Osteoporasis                 category\n",
       "ChronicCond_rheumatoidarthritis          category\n",
       "ChronicCond_stroke                       category\n",
       "IPAnnualReimbursementAmt                    int64\n",
       "IPAnnualDeductibleAmt                       int64\n",
       "OPAnnualReimbursementAmt                    int64\n",
       "OPAnnualDeductibleAmt                       int64\n",
       "dtype: object"
      ]
     },
     "execution_count": 11,
     "metadata": {},
     "output_type": "execute_result"
    }
   ],
   "source": [
    "beneficiary.dtypes"
   ]
  },
  {
   "cell_type": "code",
   "execution_count": 12,
   "metadata": {},
   "outputs": [],
   "source": [
    "def col_types(df):\n",
    "    numeric_cols = df.select_dtypes(np.number)\n",
    "    categorical_cols = df.select_dtypes(['object', 'category'])\n",
    "    numeric_cols = numeric_cols.columns.to_list()\n",
    "    categorical_cols = categorical_cols.columns.to_list()\n",
    "    return numeric_cols, categorical_cols"
   ]
  },
  {
   "cell_type": "code",
   "execution_count": 13,
   "metadata": {},
   "outputs": [],
   "source": [
    "beneficiary_num_cols = col_types(beneficiary)[0]\n",
    "beneficiary_cat_cols = col_types(beneficiary)[1]\n",
    "\n",
    "inpatient_num_cols = col_types(inpatient)[0]\n",
    "inpatient_cat_cols = col_types(inpatient)[1]\n",
    "\n",
    "outpatient_num_cols = col_types(outpatient)[0]\n",
    "outpatient_cat_cols = col_types(outpatient)[1]"
   ]
  },
  {
   "cell_type": "code",
   "execution_count": 14,
   "metadata": {},
   "outputs": [
    {
     "name": "stdout",
     "output_type": "stream",
     "text": [
      "2    92530\n",
      "1    46026\n",
      "Name: ChronicCond_Alzheimer, dtype: int64\n",
      "2    70154\n",
      "1    68402\n",
      "Name: ChronicCond_Heartfailure, dtype: int64\n",
      "2    95277\n",
      "1    43279\n",
      "Name: ChronicCond_KidneyDisease, dtype: int64\n",
      "2    121935\n",
      "1     16621\n",
      "Name: ChronicCond_Cancer, dtype: int64\n",
      "2    105697\n",
      "1     32859\n",
      "Name: ChronicCond_ObstrPulmonary, dtype: int64\n",
      "2    89296\n",
      "1    49260\n",
      "Name: ChronicCond_Depression, dtype: int64\n",
      "1    83391\n",
      "2    55165\n",
      "Name: ChronicCond_Diabetes, dtype: int64\n",
      "1    93644\n",
      "2    44912\n",
      "Name: ChronicCond_IschemicHeart, dtype: int64\n",
      "2    100497\n",
      "1     38059\n",
      "Name: ChronicCond_Osteoporasis, dtype: int64\n",
      "2    102972\n",
      "1     35584\n",
      "Name: ChronicCond_rheumatoidarthritis, dtype: int64\n",
      "2    127602\n",
      "1     10954\n",
      "Name: ChronicCond_stroke, dtype: int64\n"
     ]
    }
   ],
   "source": [
    "chronic_conds = beneficiary.columns[beneficiary.columns.str.contains('Chronic')].to_list()\n",
    "\n",
    "for col in beneficiary[chronic_conds]:\n",
    "    print(beneficiary[col].value_counts())"
   ]
  },
  {
   "cell_type": "markdown",
   "metadata": {},
   "source": [
    "### Feature Engineering"
   ]
  },
  {
   "cell_type": "code",
   "execution_count": 15,
   "metadata": {},
   "outputs": [],
   "source": [
    "inpatient['IsOutpatient'] = '0'\n",
    "outpatient['IsOutpatient'] = '1'"
   ]
  }
 ],
 "metadata": {
  "kernelspec": {
   "display_name": "Python 3",
   "language": "python",
   "name": "python3"
  },
  "language_info": {
   "codemirror_mode": {
    "name": "ipython",
    "version": 3
   },
   "file_extension": ".py",
   "mimetype": "text/x-python",
   "name": "python",
   "nbconvert_exporter": "python",
   "pygments_lexer": "ipython3",
   "version": "3.7.6"
  },
  "toc": {
   "base_numbering": 1,
   "nav_menu": {},
   "number_sections": true,
   "sideBar": true,
   "skip_h1_title": true,
   "title_cell": "Table of Contents",
   "title_sidebar": "Contents",
   "toc_cell": false,
   "toc_position": {
    "height": "calc(100% - 180px)",
    "left": "10px",
    "top": "150px",
    "width": "165px"
   },
   "toc_section_display": true,
   "toc_window_display": true
  }
 },
 "nbformat": 4,
 "nbformat_minor": 4
}
